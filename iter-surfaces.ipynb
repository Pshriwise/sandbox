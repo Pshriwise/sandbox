{
 "metadata": {
  "name": ""
 },
 "nbformat": 3,
 "nbformat_minor": 0,
 "worksheets": [
  {
   "cells": [
    {
     "cell_type": "markdown",
     "metadata": {},
     "source": [
      "ITER Fly-Through\n",
      "=================\n",
      "This video of a MOAB-based ITER surface model was generate with the yt using the following notebook! "
     ]
    },
    {
     "cell_type": "code",
     "collapsed": false,
     "input": [
      "from IPython.display import YouTubeVideo\n",
      "YouTubeVideo('KKQc-wSEOxQ')"
     ],
     "language": "python",
     "metadata": {},
     "outputs": [
      {
       "html": [
        "\n",
        "        <iframe\n",
        "            width=\"400\"\n",
        "            height=300\"\n",
        "            src=\"http://www.youtube.com/embed/KKQc-wSEOxQ\"\n",
        "            frameborder=\"0\"\n",
        "            allowfullscreen\n",
        "        ></iframe>\n",
        "        "
       ],
       "metadata": {},
       "output_type": "pyout",
       "prompt_number": 24,
       "text": [
        "<IPython.lib.display.YouTubeVideo at 0x683ce10>"
       ]
      }
     ],
     "prompt_number": 24
    },
    {
     "cell_type": "code",
     "collapsed": false,
     "input": [
      "import h5py\n",
      "from yt.mods import *\n",
      "import matplotlib.pyplot as plt\n",
      "from matplotlib import collections\n",
      "from yt.utilities.lib.geometry_utils import triangle_plane_intersect"
     ],
     "language": "python",
     "metadata": {},
     "outputs": [],
     "prompt_number": 1
    },
    {
     "cell_type": "code",
     "collapsed": false,
     "input": [
      "def intersect_plane(ax, coord, tri):\n",
      "    # Tri is [ (p0, p1, p2), (p0, p1, p2), (p0, p1, p2) ]\n",
      "    p = []\n",
      "    for i0, i1 in [(0, 1), (1, 2), (2, 0)]:\n",
      "        p0 = tri[i0,:]\n",
      "        p1 = tri[i1,:]\n",
      "        vec = p1 - p0\n",
      "        t = (coord - p0[ax])/vec[ax]\n",
      "        # coord = t0[ax] + vec[ax]*t\n",
      "        if 0.0 <= t <= 1.0:\n",
      "            p.append(p0 + vec * t)\n",
      "    return p"
     ],
     "language": "python",
     "metadata": {},
     "outputs": [],
     "prompt_number": 2
    },
    {
     "cell_type": "code",
     "collapsed": false,
     "input": [
      "#f = h5py.File(\"teapot.h5m\", \"r\")\n",
      "#f = h5py.File(\"iter_imprinted.h5m\", \"r\")\n",
      "f = h5py.File(\"bllite30matls_zip.h5m\", \"r\")\n",
      "coords = f[\"/tstt/nodes/coordinates\"][:]\n",
      "conn = f[\"/tstt/elements/Tri3/connectivity\"][:]\n",
      "points = coords[conn-1]"
     ],
     "language": "python",
     "metadata": {},
     "outputs": [],
     "prompt_number": 3
    },
    {
     "cell_type": "code",
     "collapsed": false,
     "input": [
      "%%time\n",
      "ax = 2\n",
      "xax, yax = x_dict[ax], y_dict[ax]\n",
      "mi = coords.min(axis=0)\n",
      "ma = coords.max(axis=0)\n",
      "cut_points = np.mgrid[coords[:,ax].min():coords[:,ax].max():1008j]\n",
      "for i, coord in parallel_objects(enumerate(cut_points)):\n",
      "    plt.clf()\n",
      "    l_cy = triangle_plane_intersect(ax, coord, points)[:,:,(xax, yax)]\n",
      "    lc = collections.LineCollection(l_cy, colors='k')\n",
      "    plt.gca().add_collection(lc)\n",
      "    plt.xlim(mi[xax], ma[xax])\n",
      "    plt.ylim(mi[yax], ma[yax])\n",
      "    plt.title(\"z = {0:.4} cm\".format(coord))\n",
      "    plt.xlabel(\"x [cm]\")\n",
      "    plt.ylabel(\"y [cm]\")\n",
      "    plt.savefig(\"iter{0:03}.png\".format(i))\n",
      "    print(\"generated {0:.4} {1}\".format(coord, i))"
     ],
     "language": "python",
     "metadata": {},
     "outputs": [
      {
       "output_type": "stream",
       "stream": "stdout",
       "text": [
        "generated -850.0 0\n",
        "generated -848.3 1"
       ]
      },
      {
       "output_type": "stream",
       "stream": "stdout",
       "text": [
        "\n",
        "generated -846.6 2"
       ]
      },
      {
       "output_type": "stream",
       "stream": "stdout",
       "text": [
        "\n",
        "generated -844.9 3"
       ]
      },
      {
       "output_type": "stream",
       "stream": "stdout",
       "text": [
        "\n",
        "generated -843.2 4"
       ]
      },
      {
       "output_type": "stream",
       "stream": "stdout",
       "text": [
        "\n",
        "generated -841.6 5"
       ]
      },
      {
       "output_type": "stream",
       "stream": "stdout",
       "text": [
        "\n",
        "generated -839.9 6"
       ]
      },
      {
       "output_type": "stream",
       "stream": "stdout",
       "text": [
        "\n",
        "generated -838.2 7"
       ]
      },
      {
       "output_type": "stream",
       "stream": "stdout",
       "text": [
        "\n",
        "generated -836.5 8"
       ]
      },
      {
       "output_type": "stream",
       "stream": "stdout",
       "text": [
        "\n",
        "generated -834.8 9"
       ]
      },
      {
       "output_type": "stream",
       "stream": "stdout",
       "text": [
        "\n",
        "generated -833.1 10"
       ]
      },
      {
       "output_type": "stream",
       "stream": "stdout",
       "text": [
        "\n",
        "generated -831.4 11"
       ]
      },
      {
       "output_type": "stream",
       "stream": "stdout",
       "text": [
        "\n",
        "generated -829.7 12"
       ]
      },
      {
       "output_type": "stream",
       "stream": "stdout",
       "text": [
        "\n",
        "generated -828.1 13"
       ]
      },
      {
       "output_type": "stream",
       "stream": "stdout",
       "text": [
        "\n",
        "generated -826.4 14"
       ]
      },
      {
       "output_type": "stream",
       "stream": "stdout",
       "text": [
        "\n",
        "generated -824.7 15"
       ]
      },
      {
       "output_type": "stream",
       "stream": "stdout",
       "text": [
        "\n",
        "generated -823.0 16"
       ]
      },
      {
       "output_type": "stream",
       "stream": "stdout",
       "text": [
        "\n",
        "generated -821.3 17"
       ]
      },
      {
       "output_type": "stream",
       "stream": "stdout",
       "text": [
        "\n",
        "generated -819.6 18"
       ]
      },
      {
       "output_type": "stream",
       "stream": "stdout",
       "text": [
        "\n",
        "generated -817.9 19"
       ]
      },
      {
       "output_type": "stream",
       "stream": "stdout",
       "text": [
        "\n",
        "generated -816.2 20"
       ]
      },
      {
       "output_type": "stream",
       "stream": "stdout",
       "text": [
        "\n",
        "generated -814.5 21"
       ]
      },
      {
       "output_type": "stream",
       "stream": "stdout",
       "text": [
        "\n",
        "generated -812.9 22"
       ]
      },
      {
       "output_type": "stream",
       "stream": "stdout",
       "text": [
        "\n",
        "generated -811.2 23"
       ]
      },
      {
       "output_type": "stream",
       "stream": "stdout",
       "text": [
        "\n",
        "generated -809.5 24"
       ]
      },
      {
       "output_type": "stream",
       "stream": "stdout",
       "text": [
        "\n",
        "generated -807.8 25"
       ]
      },
      {
       "output_type": "stream",
       "stream": "stdout",
       "text": [
        "\n",
        "generated -806.1 26"
       ]
      },
      {
       "output_type": "stream",
       "stream": "stdout",
       "text": [
        "\n",
        "generated -804.4 27"
       ]
      },
      {
       "output_type": "stream",
       "stream": "stdout",
       "text": [
        "\n",
        "generated -802.7 28"
       ]
      },
      {
       "output_type": "stream",
       "stream": "stdout",
       "text": [
        "\n",
        "generated -801.0 29"
       ]
      },
      {
       "output_type": "stream",
       "stream": "stdout",
       "text": [
        "\n",
        "generated -799.4 30"
       ]
      },
      {
       "output_type": "stream",
       "stream": "stdout",
       "text": [
        "\n",
        "generated -797.7 31"
       ]
      },
      {
       "output_type": "stream",
       "stream": "stdout",
       "text": [
        "\n",
        "generated -796.0 32"
       ]
      },
      {
       "output_type": "stream",
       "stream": "stdout",
       "text": [
        "\n",
        "generated -794.3 33"
       ]
      },
      {
       "output_type": "stream",
       "stream": "stdout",
       "text": [
        "\n",
        "generated -792.6 34"
       ]
      },
      {
       "output_type": "stream",
       "stream": "stdout",
       "text": [
        "\n",
        "generated -790.9 35"
       ]
      },
      {
       "output_type": "stream",
       "stream": "stdout",
       "text": [
        "\n",
        "generated -789.2 36"
       ]
      },
      {
       "output_type": "stream",
       "stream": "stdout",
       "text": [
        "\n",
        "generated -787.5 37"
       ]
      },
      {
       "output_type": "stream",
       "stream": "stdout",
       "text": [
        "\n",
        "generated -785.8 38"
       ]
      },
      {
       "output_type": "stream",
       "stream": "stdout",
       "text": [
        "\n",
        "generated -784.2 39"
       ]
      },
      {
       "output_type": "stream",
       "stream": "stdout",
       "text": [
        "\n",
        "generated -782.5 40"
       ]
      },
      {
       "output_type": "stream",
       "stream": "stdout",
       "text": [
        "\n",
        "generated -780.8 41"
       ]
      },
      {
       "output_type": "stream",
       "stream": "stdout",
       "text": [
        "\n",
        "generated -779.1 42"
       ]
      },
      {
       "output_type": "stream",
       "stream": "stdout",
       "text": [
        "\n",
        "generated -777.4 43"
       ]
      },
      {
       "output_type": "stream",
       "stream": "stdout",
       "text": [
        "\n",
        "generated -775.7 44"
       ]
      },
      {
       "output_type": "stream",
       "stream": "stdout",
       "text": [
        "\n",
        "generated -774.0 45"
       ]
      },
      {
       "output_type": "stream",
       "stream": "stdout",
       "text": [
        "\n",
        "generated -772.3 46"
       ]
      },
      {
       "output_type": "stream",
       "stream": "stdout",
       "text": [
        "\n",
        "generated -770.7 47"
       ]
      },
      {
       "output_type": "stream",
       "stream": "stdout",
       "text": [
        "\n",
        "generated -769.0 48"
       ]
      },
      {
       "output_type": "stream",
       "stream": "stdout",
       "text": [
        "\n",
        "generated -767.3 49"
       ]
      },
      {
       "output_type": "stream",
       "stream": "stdout",
       "text": [
        "\n",
        "generated -765.6 50"
       ]
      },
      {
       "output_type": "stream",
       "stream": "stdout",
       "text": [
        "\n",
        "generated -763.9 51"
       ]
      },
      {
       "output_type": "stream",
       "stream": "stdout",
       "text": [
        "\n",
        "generated -762.2 52"
       ]
      },
      {
       "output_type": "stream",
       "stream": "stdout",
       "text": [
        "\n",
        "generated -760.5 53"
       ]
      },
      {
       "output_type": "stream",
       "stream": "stdout",
       "text": [
        "\n",
        "generated -758.8 54"
       ]
      },
      {
       "output_type": "stream",
       "stream": "stdout",
       "text": [
        "\n",
        "generated -757.1 55"
       ]
      },
      {
       "output_type": "stream",
       "stream": "stdout",
       "text": [
        "\n",
        "generated -755.5 56"
       ]
      },
      {
       "output_type": "stream",
       "stream": "stdout",
       "text": [
        "\n",
        "generated -753.8 57"
       ]
      },
      {
       "output_type": "stream",
       "stream": "stdout",
       "text": [
        "\n",
        "generated -752.1 58"
       ]
      },
      {
       "output_type": "stream",
       "stream": "stdout",
       "text": [
        "\n",
        "generated -750.4 59"
       ]
      },
      {
       "output_type": "stream",
       "stream": "stdout",
       "text": [
        "\n",
        "generated -748.7 60"
       ]
      },
      {
       "output_type": "stream",
       "stream": "stdout",
       "text": [
        "\n",
        "generated -747.0 61"
       ]
      },
      {
       "output_type": "stream",
       "stream": "stdout",
       "text": [
        "\n",
        "generated -745.3 62"
       ]
      },
      {
       "output_type": "stream",
       "stream": "stdout",
       "text": [
        "\n",
        "generated -743.6 63"
       ]
      },
      {
       "output_type": "stream",
       "stream": "stdout",
       "text": [
        "\n",
        "generated -742.0 64"
       ]
      },
      {
       "output_type": "stream",
       "stream": "stdout",
       "text": [
        "\n",
        "generated -740.3 65"
       ]
      },
      {
       "output_type": "stream",
       "stream": "stdout",
       "text": [
        "\n",
        "generated -738.6 66"
       ]
      },
      {
       "output_type": "stream",
       "stream": "stdout",
       "text": [
        "\n",
        "generated -736.9 67"
       ]
      },
      {
       "output_type": "stream",
       "stream": "stdout",
       "text": [
        "\n",
        "generated -735.2 68"
       ]
      },
      {
       "output_type": "stream",
       "stream": "stdout",
       "text": [
        "\n",
        "generated -733.5 69"
       ]
      },
      {
       "output_type": "stream",
       "stream": "stdout",
       "text": [
        "\n",
        "generated -731.8 70"
       ]
      },
      {
       "output_type": "stream",
       "stream": "stdout",
       "text": [
        "\n",
        "generated -730.1 71"
       ]
      },
      {
       "output_type": "stream",
       "stream": "stdout",
       "text": [
        "\n",
        "generated -728.5 72"
       ]
      },
      {
       "output_type": "stream",
       "stream": "stdout",
       "text": [
        "\n",
        "generated -726.8 73"
       ]
      },
      {
       "output_type": "stream",
       "stream": "stdout",
       "text": [
        "\n",
        "generated -725.1 74"
       ]
      },
      {
       "output_type": "stream",
       "stream": "stdout",
       "text": [
        "\n",
        "generated -723.4 75"
       ]
      },
      {
       "output_type": "stream",
       "stream": "stdout",
       "text": [
        "\n",
        "generated -721.7 76"
       ]
      },
      {
       "output_type": "stream",
       "stream": "stdout",
       "text": [
        "\n",
        "generated -720.0 77"
       ]
      },
      {
       "output_type": "stream",
       "stream": "stdout",
       "text": [
        "\n",
        "generated -718.3 78"
       ]
      },
      {
       "output_type": "stream",
       "stream": "stdout",
       "text": [
        "\n",
        "generated -716.6 79"
       ]
      },
      {
       "output_type": "stream",
       "stream": "stdout",
       "text": [
        "\n",
        "generated -714.9 80"
       ]
      },
      {
       "output_type": "stream",
       "stream": "stdout",
       "text": [
        "\n",
        "generated -713.3 81"
       ]
      },
      {
       "output_type": "stream",
       "stream": "stdout",
       "text": [
        "\n",
        "generated -711.6 82"
       ]
      },
      {
       "output_type": "stream",
       "stream": "stdout",
       "text": [
        "\n",
        "generated -709.9 83"
       ]
      },
      {
       "output_type": "stream",
       "stream": "stdout",
       "text": [
        "\n",
        "generated -708.2 84"
       ]
      },
      {
       "output_type": "stream",
       "stream": "stdout",
       "text": [
        "\n",
        "generated -706.5 85"
       ]
      },
      {
       "output_type": "stream",
       "stream": "stdout",
       "text": [
        "\n",
        "generated -704.8 86"
       ]
      },
      {
       "output_type": "stream",
       "stream": "stdout",
       "text": [
        "\n",
        "generated -703.1 87"
       ]
      },
      {
       "output_type": "stream",
       "stream": "stdout",
       "text": [
        "\n",
        "generated -701.4 88"
       ]
      },
      {
       "output_type": "stream",
       "stream": "stdout",
       "text": [
        "\n",
        "generated -699.8 89"
       ]
      },
      {
       "output_type": "stream",
       "stream": "stdout",
       "text": [
        "\n",
        "generated -698.1 90"
       ]
      },
      {
       "output_type": "stream",
       "stream": "stdout",
       "text": [
        "\n",
        "generated -696.4 91"
       ]
      },
      {
       "output_type": "stream",
       "stream": "stdout",
       "text": [
        "\n",
        "generated -694.7 92"
       ]
      },
      {
       "output_type": "stream",
       "stream": "stdout",
       "text": [
        "\n",
        "generated -693.0 93"
       ]
      },
      {
       "output_type": "stream",
       "stream": "stdout",
       "text": [
        "\n",
        "generated -691.3 94"
       ]
      },
      {
       "output_type": "stream",
       "stream": "stdout",
       "text": [
        "\n",
        "generated -689.6 95"
       ]
      },
      {
       "output_type": "stream",
       "stream": "stdout",
       "text": [
        "\n",
        "generated -687.9 96"
       ]
      },
      {
       "output_type": "stream",
       "stream": "stdout",
       "text": [
        "\n",
        "generated -686.2 97"
       ]
      },
      {
       "output_type": "stream",
       "stream": "stdout",
       "text": [
        "\n",
        "generated -684.6 98"
       ]
      },
      {
       "output_type": "stream",
       "stream": "stdout",
       "text": [
        "\n",
        "generated -682.9 99"
       ]
      },
      {
       "output_type": "stream",
       "stream": "stdout",
       "text": [
        "\n",
        "generated -681.2 100"
       ]
      },
      {
       "output_type": "stream",
       "stream": "stdout",
       "text": [
        "\n",
        "generated -679.5 101"
       ]
      },
      {
       "output_type": "stream",
       "stream": "stdout",
       "text": [
        "\n",
        "generated -677.8 102"
       ]
      },
      {
       "output_type": "stream",
       "stream": "stdout",
       "text": [
        "\n",
        "generated -676.1 103"
       ]
      },
      {
       "output_type": "stream",
       "stream": "stdout",
       "text": [
        "\n",
        "generated -674.4 104"
       ]
      },
      {
       "output_type": "stream",
       "stream": "stdout",
       "text": [
        "\n",
        "generated -672.7 105"
       ]
      },
      {
       "output_type": "stream",
       "stream": "stdout",
       "text": [
        "\n",
        "generated -671.1 106"
       ]
      },
      {
       "output_type": "stream",
       "stream": "stdout",
       "text": [
        "\n",
        "generated -669.4 107"
       ]
      },
      {
       "output_type": "stream",
       "stream": "stdout",
       "text": [
        "\n",
        "generated -667.7 108"
       ]
      },
      {
       "output_type": "stream",
       "stream": "stdout",
       "text": [
        "\n",
        "generated -666.0 109"
       ]
      },
      {
       "output_type": "stream",
       "stream": "stdout",
       "text": [
        "\n",
        "generated -664.3 110"
       ]
      },
      {
       "output_type": "stream",
       "stream": "stdout",
       "text": [
        "\n",
        "generated -662.6 111"
       ]
      },
      {
       "output_type": "stream",
       "stream": "stdout",
       "text": [
        "\n",
        "generated -660.9 112"
       ]
      },
      {
       "output_type": "stream",
       "stream": "stdout",
       "text": [
        "\n",
        "generated -659.2 113"
       ]
      },
      {
       "output_type": "stream",
       "stream": "stdout",
       "text": [
        "\n",
        "generated -657.5 114"
       ]
      },
      {
       "output_type": "stream",
       "stream": "stdout",
       "text": [
        "\n",
        "generated -655.9 115"
       ]
      },
      {
       "output_type": "stream",
       "stream": "stdout",
       "text": [
        "\n",
        "generated -654.2 116"
       ]
      },
      {
       "output_type": "stream",
       "stream": "stdout",
       "text": [
        "\n",
        "generated -652.5 117"
       ]
      },
      {
       "output_type": "stream",
       "stream": "stdout",
       "text": [
        "\n",
        "generated -650.8 118"
       ]
      },
      {
       "output_type": "stream",
       "stream": "stdout",
       "text": [
        "\n",
        "generated -649.1 119"
       ]
      },
      {
       "output_type": "stream",
       "stream": "stdout",
       "text": [
        "\n",
        "generated -647.4 120"
       ]
      },
      {
       "output_type": "stream",
       "stream": "stdout",
       "text": [
        "\n",
        "generated -645.7 121"
       ]
      },
      {
       "output_type": "stream",
       "stream": "stdout",
       "text": [
        "\n",
        "generated -644.0 122"
       ]
      },
      {
       "output_type": "stream",
       "stream": "stdout",
       "text": [
        "\n",
        "generated -642.4 123"
       ]
      },
      {
       "output_type": "stream",
       "stream": "stdout",
       "text": [
        "\n",
        "generated -640.7 124"
       ]
      },
      {
       "output_type": "stream",
       "stream": "stdout",
       "text": [
        "\n",
        "generated -639.0 125"
       ]
      },
      {
       "output_type": "stream",
       "stream": "stdout",
       "text": [
        "\n",
        "generated -637.3 126"
       ]
      },
      {
       "output_type": "stream",
       "stream": "stdout",
       "text": [
        "\n",
        "generated -635.6 127"
       ]
      },
      {
       "output_type": "stream",
       "stream": "stdout",
       "text": [
        "\n",
        "generated -633.9 128"
       ]
      },
      {
       "output_type": "stream",
       "stream": "stdout",
       "text": [
        "\n",
        "generated -632.2 129"
       ]
      },
      {
       "output_type": "stream",
       "stream": "stdout",
       "text": [
        "\n",
        "generated -630.5 130"
       ]
      },
      {
       "output_type": "stream",
       "stream": "stdout",
       "text": [
        "\n",
        "generated -628.8 131"
       ]
      },
      {
       "output_type": "stream",
       "stream": "stdout",
       "text": [
        "\n",
        "generated -627.2 132"
       ]
      },
      {
       "output_type": "stream",
       "stream": "stdout",
       "text": [
        "\n",
        "generated -625.5 133"
       ]
      },
      {
       "output_type": "stream",
       "stream": "stdout",
       "text": [
        "\n",
        "generated -623.8 134"
       ]
      },
      {
       "output_type": "stream",
       "stream": "stdout",
       "text": [
        "\n",
        "generated -622.1 135"
       ]
      },
      {
       "output_type": "stream",
       "stream": "stdout",
       "text": [
        "\n",
        "generated -620.4 136"
       ]
      },
      {
       "output_type": "stream",
       "stream": "stdout",
       "text": [
        "\n",
        "generated -618.7 137"
       ]
      },
      {
       "output_type": "stream",
       "stream": "stdout",
       "text": [
        "\n",
        "generated -617.0 138"
       ]
      },
      {
       "output_type": "stream",
       "stream": "stdout",
       "text": [
        "\n",
        "generated -615.3 139"
       ]
      },
      {
       "output_type": "stream",
       "stream": "stdout",
       "text": [
        "\n",
        "generated -613.7 140"
       ]
      },
      {
       "output_type": "stream",
       "stream": "stdout",
       "text": [
        "\n",
        "generated -612.0 141"
       ]
      },
      {
       "output_type": "stream",
       "stream": "stdout",
       "text": [
        "\n",
        "generated -610.3 142"
       ]
      },
      {
       "output_type": "stream",
       "stream": "stdout",
       "text": [
        "\n",
        "generated -608.6 143"
       ]
      },
      {
       "output_type": "stream",
       "stream": "stdout",
       "text": [
        "\n",
        "generated -606.9 144"
       ]
      },
      {
       "output_type": "stream",
       "stream": "stdout",
       "text": [
        "\n",
        "generated -605.2 145"
       ]
      },
      {
       "output_type": "stream",
       "stream": "stdout",
       "text": [
        "\n",
        "generated -603.5 146"
       ]
      },
      {
       "output_type": "stream",
       "stream": "stdout",
       "text": [
        "\n",
        "generated -601.8 147"
       ]
      },
      {
       "output_type": "stream",
       "stream": "stdout",
       "text": [
        "\n",
        "generated -600.1 148"
       ]
      },
      {
       "output_type": "stream",
       "stream": "stdout",
       "text": [
        "\n",
        "generated -598.5 149"
       ]
      },
      {
       "output_type": "stream",
       "stream": "stdout",
       "text": [
        "\n",
        "generated -596.8 150"
       ]
      },
      {
       "output_type": "stream",
       "stream": "stdout",
       "text": [
        "\n",
        "generated -595.1 151"
       ]
      },
      {
       "output_type": "stream",
       "stream": "stdout",
       "text": [
        "\n",
        "generated -593.4 152"
       ]
      },
      {
       "output_type": "stream",
       "stream": "stdout",
       "text": [
        "\n",
        "generated -591.7 153"
       ]
      },
      {
       "output_type": "stream",
       "stream": "stdout",
       "text": [
        "\n",
        "generated -590.0 154"
       ]
      },
      {
       "output_type": "stream",
       "stream": "stdout",
       "text": [
        "\n",
        "generated -588.3 155"
       ]
      },
      {
       "output_type": "stream",
       "stream": "stdout",
       "text": [
        "\n",
        "generated -586.6 156"
       ]
      },
      {
       "output_type": "stream",
       "stream": "stdout",
       "text": [
        "\n",
        "generated -585.0 157"
       ]
      },
      {
       "output_type": "stream",
       "stream": "stdout",
       "text": [
        "\n",
        "generated -583.3 158"
       ]
      },
      {
       "output_type": "stream",
       "stream": "stdout",
       "text": [
        "\n",
        "generated -581.6 159"
       ]
      },
      {
       "output_type": "stream",
       "stream": "stdout",
       "text": [
        "\n",
        "generated -579.9 160"
       ]
      },
      {
       "output_type": "stream",
       "stream": "stdout",
       "text": [
        "\n",
        "generated -578.2 161"
       ]
      },
      {
       "output_type": "stream",
       "stream": "stdout",
       "text": [
        "\n",
        "generated -576.5 162"
       ]
      },
      {
       "output_type": "stream",
       "stream": "stdout",
       "text": [
        "\n",
        "generated -574.8 163"
       ]
      },
      {
       "output_type": "stream",
       "stream": "stdout",
       "text": [
        "\n",
        "generated -573.1 164"
       ]
      },
      {
       "output_type": "stream",
       "stream": "stdout",
       "text": [
        "\n",
        "generated -571.4 165"
       ]
      },
      {
       "output_type": "stream",
       "stream": "stdout",
       "text": [
        "\n",
        "generated -569.8 166"
       ]
      },
      {
       "output_type": "stream",
       "stream": "stdout",
       "text": [
        "\n",
        "generated -568.1 167"
       ]
      },
      {
       "output_type": "stream",
       "stream": "stdout",
       "text": [
        "\n",
        "generated -566.4 168"
       ]
      },
      {
       "output_type": "stream",
       "stream": "stdout",
       "text": [
        "\n",
        "generated -564.7 169"
       ]
      },
      {
       "output_type": "stream",
       "stream": "stdout",
       "text": [
        "\n",
        "generated -563.0 170"
       ]
      },
      {
       "output_type": "stream",
       "stream": "stdout",
       "text": [
        "\n",
        "generated -561.3 171"
       ]
      },
      {
       "output_type": "stream",
       "stream": "stdout",
       "text": [
        "\n",
        "generated -559.6 172"
       ]
      },
      {
       "output_type": "stream",
       "stream": "stdout",
       "text": [
        "\n",
        "generated -557.9 173"
       ]
      },
      {
       "output_type": "stream",
       "stream": "stdout",
       "text": [
        "\n",
        "generated -556.3 174"
       ]
      },
      {
       "output_type": "stream",
       "stream": "stdout",
       "text": [
        "\n",
        "generated -554.6 175"
       ]
      },
      {
       "output_type": "stream",
       "stream": "stdout",
       "text": [
        "\n",
        "generated -552.9 176"
       ]
      },
      {
       "output_type": "stream",
       "stream": "stdout",
       "text": [
        "\n",
        "generated -551.2 177"
       ]
      },
      {
       "output_type": "stream",
       "stream": "stdout",
       "text": [
        "\n",
        "generated -549.5 178"
       ]
      },
      {
       "output_type": "stream",
       "stream": "stdout",
       "text": [
        "\n",
        "generated -547.8 179"
       ]
      },
      {
       "output_type": "stream",
       "stream": "stdout",
       "text": [
        "\n",
        "generated -546.1 180"
       ]
      },
      {
       "output_type": "stream",
       "stream": "stdout",
       "text": [
        "\n",
        "generated -544.4 181"
       ]
      },
      {
       "output_type": "stream",
       "stream": "stdout",
       "text": [
        "\n",
        "generated -542.8 182"
       ]
      },
      {
       "output_type": "stream",
       "stream": "stdout",
       "text": [
        "\n",
        "generated -541.1 183"
       ]
      },
      {
       "output_type": "stream",
       "stream": "stdout",
       "text": [
        "\n",
        "generated -539.4 184"
       ]
      },
      {
       "output_type": "stream",
       "stream": "stdout",
       "text": [
        "\n",
        "generated -537.7 185"
       ]
      },
      {
       "output_type": "stream",
       "stream": "stdout",
       "text": [
        "\n",
        "generated -536.0 186"
       ]
      },
      {
       "output_type": "stream",
       "stream": "stdout",
       "text": [
        "\n",
        "generated -534.3 187"
       ]
      },
      {
       "output_type": "stream",
       "stream": "stdout",
       "text": [
        "\n",
        "generated -532.6 188"
       ]
      },
      {
       "output_type": "stream",
       "stream": "stdout",
       "text": [
        "\n",
        "generated -530.9 189"
       ]
      },
      {
       "output_type": "stream",
       "stream": "stdout",
       "text": [
        "\n",
        "generated -529.2 190"
       ]
      },
      {
       "output_type": "stream",
       "stream": "stdout",
       "text": [
        "\n",
        "generated -527.6 191"
       ]
      },
      {
       "output_type": "stream",
       "stream": "stdout",
       "text": [
        "\n",
        "generated -525.9 192"
       ]
      },
      {
       "output_type": "stream",
       "stream": "stdout",
       "text": [
        "\n",
        "generated -524.2 193"
       ]
      },
      {
       "output_type": "stream",
       "stream": "stdout",
       "text": [
        "\n",
        "generated -522.5 194"
       ]
      },
      {
       "output_type": "stream",
       "stream": "stdout",
       "text": [
        "\n",
        "generated -520.8 195"
       ]
      },
      {
       "output_type": "stream",
       "stream": "stdout",
       "text": [
        "\n",
        "generated -519.1 196"
       ]
      },
      {
       "output_type": "stream",
       "stream": "stdout",
       "text": [
        "\n",
        "generated -517.4 197"
       ]
      },
      {
       "output_type": "stream",
       "stream": "stdout",
       "text": [
        "\n",
        "generated -515.7 198"
       ]
      },
      {
       "output_type": "stream",
       "stream": "stdout",
       "text": [
        "\n",
        "generated -514.1 199"
       ]
      },
      {
       "output_type": "stream",
       "stream": "stdout",
       "text": [
        "\n",
        "generated -512.4 200"
       ]
      },
      {
       "output_type": "stream",
       "stream": "stdout",
       "text": [
        "\n",
        "generated -510.7 201"
       ]
      },
      {
       "output_type": "stream",
       "stream": "stdout",
       "text": [
        "\n",
        "generated -509.0 202"
       ]
      },
      {
       "output_type": "stream",
       "stream": "stdout",
       "text": [
        "\n",
        "generated -507.3 203"
       ]
      },
      {
       "output_type": "stream",
       "stream": "stdout",
       "text": [
        "\n",
        "generated -505.6 204"
       ]
      },
      {
       "output_type": "stream",
       "stream": "stdout",
       "text": [
        "\n",
        "generated -503.9 205"
       ]
      },
      {
       "output_type": "stream",
       "stream": "stdout",
       "text": [
        "\n",
        "generated -502.2 206"
       ]
      },
      {
       "output_type": "stream",
       "stream": "stdout",
       "text": [
        "\n",
        "generated -500.5 207"
       ]
      },
      {
       "output_type": "stream",
       "stream": "stdout",
       "text": [
        "\n",
        "generated -498.9 208"
       ]
      },
      {
       "output_type": "stream",
       "stream": "stdout",
       "text": [
        "\n",
        "generated -497.2 209"
       ]
      },
      {
       "output_type": "stream",
       "stream": "stdout",
       "text": [
        "\n",
        "generated -495.5 210"
       ]
      },
      {
       "output_type": "stream",
       "stream": "stdout",
       "text": [
        "\n",
        "generated -493.8 211"
       ]
      },
      {
       "output_type": "stream",
       "stream": "stdout",
       "text": [
        "\n",
        "generated -492.1 212"
       ]
      },
      {
       "output_type": "stream",
       "stream": "stdout",
       "text": [
        "\n",
        "generated -490.4 213"
       ]
      },
      {
       "output_type": "stream",
       "stream": "stdout",
       "text": [
        "\n",
        "generated -488.7 214"
       ]
      },
      {
       "output_type": "stream",
       "stream": "stdout",
       "text": [
        "\n",
        "generated -487.0 215"
       ]
      },
      {
       "output_type": "stream",
       "stream": "stdout",
       "text": [
        "\n",
        "generated -485.4 216"
       ]
      },
      {
       "output_type": "stream",
       "stream": "stdout",
       "text": [
        "\n",
        "generated -483.7 217"
       ]
      },
      {
       "output_type": "stream",
       "stream": "stdout",
       "text": [
        "\n",
        "generated -482.0 218"
       ]
      },
      {
       "output_type": "stream",
       "stream": "stdout",
       "text": [
        "\n",
        "generated -480.3 219"
       ]
      },
      {
       "output_type": "stream",
       "stream": "stdout",
       "text": [
        "\n",
        "generated -478.6 220"
       ]
      },
      {
       "output_type": "stream",
       "stream": "stdout",
       "text": [
        "\n",
        "generated -476.9 221"
       ]
      },
      {
       "output_type": "stream",
       "stream": "stdout",
       "text": [
        "\n",
        "generated -475.2 222"
       ]
      },
      {
       "output_type": "stream",
       "stream": "stdout",
       "text": [
        "\n",
        "generated -473.5 223"
       ]
      },
      {
       "output_type": "stream",
       "stream": "stdout",
       "text": [
        "\n",
        "generated -471.8 224"
       ]
      },
      {
       "output_type": "stream",
       "stream": "stdout",
       "text": [
        "\n",
        "generated -470.2 225"
       ]
      },
      {
       "output_type": "stream",
       "stream": "stdout",
       "text": [
        "\n",
        "generated -468.5 226"
       ]
      },
      {
       "output_type": "stream",
       "stream": "stdout",
       "text": [
        "\n",
        "generated -466.8 227"
       ]
      },
      {
       "output_type": "stream",
       "stream": "stdout",
       "text": [
        "\n",
        "generated -465.1 228"
       ]
      },
      {
       "output_type": "stream",
       "stream": "stdout",
       "text": [
        "\n",
        "generated -463.4 229"
       ]
      },
      {
       "output_type": "stream",
       "stream": "stdout",
       "text": [
        "\n",
        "generated -461.7 230"
       ]
      },
      {
       "output_type": "stream",
       "stream": "stdout",
       "text": [
        "\n",
        "generated -460.0 231"
       ]
      },
      {
       "output_type": "stream",
       "stream": "stdout",
       "text": [
        "\n",
        "generated -458.3 232"
       ]
      },
      {
       "output_type": "stream",
       "stream": "stdout",
       "text": [
        "\n",
        "generated -456.7 233"
       ]
      },
      {
       "output_type": "stream",
       "stream": "stdout",
       "text": [
        "\n",
        "generated -455.0 234"
       ]
      },
      {
       "output_type": "stream",
       "stream": "stdout",
       "text": [
        "\n",
        "generated -453.3 235"
       ]
      },
      {
       "output_type": "stream",
       "stream": "stdout",
       "text": [
        "\n",
        "generated -451.6 236"
       ]
      },
      {
       "output_type": "stream",
       "stream": "stdout",
       "text": [
        "\n",
        "generated -449.9 237"
       ]
      },
      {
       "output_type": "stream",
       "stream": "stdout",
       "text": [
        "\n",
        "generated -448.2 238"
       ]
      },
      {
       "output_type": "stream",
       "stream": "stdout",
       "text": [
        "\n",
        "generated -446.5 239"
       ]
      },
      {
       "output_type": "stream",
       "stream": "stdout",
       "text": [
        "\n",
        "generated -444.8 240"
       ]
      },
      {
       "output_type": "stream",
       "stream": "stdout",
       "text": [
        "\n",
        "generated -443.1 241"
       ]
      },
      {
       "output_type": "stream",
       "stream": "stdout",
       "text": [
        "\n",
        "generated -441.5 242"
       ]
      },
      {
       "output_type": "stream",
       "stream": "stdout",
       "text": [
        "\n",
        "generated -439.8 243"
       ]
      },
      {
       "output_type": "stream",
       "stream": "stdout",
       "text": [
        "\n",
        "generated -438.1 244"
       ]
      },
      {
       "output_type": "stream",
       "stream": "stdout",
       "text": [
        "\n",
        "generated -436.4 245"
       ]
      },
      {
       "output_type": "stream",
       "stream": "stdout",
       "text": [
        "\n",
        "generated -434.7 246"
       ]
      },
      {
       "output_type": "stream",
       "stream": "stdout",
       "text": [
        "\n",
        "generated -433.0 247"
       ]
      },
      {
       "output_type": "stream",
       "stream": "stdout",
       "text": [
        "\n",
        "generated -431.3 248"
       ]
      },
      {
       "output_type": "stream",
       "stream": "stdout",
       "text": [
        "\n",
        "generated -429.6 249"
       ]
      },
      {
       "output_type": "stream",
       "stream": "stdout",
       "text": [
        "\n",
        "generated -428.0 250"
       ]
      },
      {
       "output_type": "stream",
       "stream": "stdout",
       "text": [
        "\n",
        "generated -426.3 251"
       ]
      },
      {
       "output_type": "stream",
       "stream": "stdout",
       "text": [
        "\n",
        "generated -424.6 252"
       ]
      },
      {
       "output_type": "stream",
       "stream": "stdout",
       "text": [
        "\n",
        "generated -422.9 253"
       ]
      },
      {
       "output_type": "stream",
       "stream": "stdout",
       "text": [
        "\n",
        "generated -421.2 254"
       ]
      },
      {
       "output_type": "stream",
       "stream": "stdout",
       "text": [
        "\n",
        "generated -419.5 255"
       ]
      },
      {
       "output_type": "stream",
       "stream": "stdout",
       "text": [
        "\n",
        "generated -417.8 256"
       ]
      },
      {
       "output_type": "stream",
       "stream": "stdout",
       "text": [
        "\n",
        "generated -416.1 257"
       ]
      },
      {
       "output_type": "stream",
       "stream": "stdout",
       "text": [
        "\n",
        "generated -414.4 258"
       ]
      },
      {
       "output_type": "stream",
       "stream": "stdout",
       "text": [
        "\n",
        "generated -412.8 259"
       ]
      },
      {
       "output_type": "stream",
       "stream": "stdout",
       "text": [
        "\n",
        "generated -411.1 260"
       ]
      },
      {
       "output_type": "stream",
       "stream": "stdout",
       "text": [
        "\n",
        "generated -409.4 261"
       ]
      },
      {
       "output_type": "stream",
       "stream": "stdout",
       "text": [
        "\n",
        "generated -407.7 262"
       ]
      },
      {
       "output_type": "stream",
       "stream": "stdout",
       "text": [
        "\n",
        "generated -406.0 263"
       ]
      },
      {
       "output_type": "stream",
       "stream": "stdout",
       "text": [
        "\n",
        "generated -404.3 264"
       ]
      },
      {
       "output_type": "stream",
       "stream": "stdout",
       "text": [
        "\n",
        "generated -402.6 265"
       ]
      },
      {
       "output_type": "stream",
       "stream": "stdout",
       "text": [
        "\n",
        "generated -400.9 266"
       ]
      },
      {
       "output_type": "stream",
       "stream": "stdout",
       "text": [
        "\n",
        "generated -399.3 267"
       ]
      },
      {
       "output_type": "stream",
       "stream": "stdout",
       "text": [
        "\n",
        "generated -397.6 268"
       ]
      },
      {
       "output_type": "stream",
       "stream": "stdout",
       "text": [
        "\n",
        "generated -395.9 269"
       ]
      },
      {
       "output_type": "stream",
       "stream": "stdout",
       "text": [
        "\n",
        "generated -394.2 270"
       ]
      },
      {
       "output_type": "stream",
       "stream": "stdout",
       "text": [
        "\n",
        "generated -392.5 271"
       ]
      },
      {
       "output_type": "stream",
       "stream": "stdout",
       "text": [
        "\n",
        "generated -390.8 272"
       ]
      },
      {
       "output_type": "stream",
       "stream": "stdout",
       "text": [
        "\n",
        "generated -389.1 273"
       ]
      },
      {
       "output_type": "stream",
       "stream": "stdout",
       "text": [
        "\n",
        "generated -387.4 274"
       ]
      },
      {
       "output_type": "stream",
       "stream": "stdout",
       "text": [
        "\n",
        "generated -385.7 275"
       ]
      },
      {
       "output_type": "stream",
       "stream": "stdout",
       "text": [
        "\n",
        "generated -384.1 276"
       ]
      },
      {
       "output_type": "stream",
       "stream": "stdout",
       "text": [
        "\n",
        "generated -382.4 277"
       ]
      },
      {
       "output_type": "stream",
       "stream": "stdout",
       "text": [
        "\n",
        "generated -380.7 278"
       ]
      },
      {
       "output_type": "stream",
       "stream": "stdout",
       "text": [
        "\n",
        "generated -379.0 279"
       ]
      },
      {
       "output_type": "stream",
       "stream": "stdout",
       "text": [
        "\n",
        "generated -377.3 280"
       ]
      },
      {
       "output_type": "stream",
       "stream": "stdout",
       "text": [
        "\n",
        "generated -375.6 281"
       ]
      },
      {
       "output_type": "stream",
       "stream": "stdout",
       "text": [
        "\n",
        "generated -373.9 282"
       ]
      },
      {
       "output_type": "stream",
       "stream": "stdout",
       "text": [
        "\n",
        "generated -372.2 283"
       ]
      },
      {
       "output_type": "stream",
       "stream": "stdout",
       "text": [
        "\n",
        "generated -370.6 284"
       ]
      },
      {
       "output_type": "stream",
       "stream": "stdout",
       "text": [
        "\n",
        "generated -368.9 285"
       ]
      },
      {
       "output_type": "stream",
       "stream": "stdout",
       "text": [
        "\n",
        "generated -367.2 286"
       ]
      },
      {
       "output_type": "stream",
       "stream": "stdout",
       "text": [
        "\n",
        "generated -365.5 287"
       ]
      },
      {
       "output_type": "stream",
       "stream": "stdout",
       "text": [
        "\n",
        "generated -363.8 288"
       ]
      },
      {
       "output_type": "stream",
       "stream": "stdout",
       "text": [
        "\n",
        "generated -362.1 289"
       ]
      },
      {
       "output_type": "stream",
       "stream": "stdout",
       "text": [
        "\n",
        "generated -360.4 290"
       ]
      },
      {
       "output_type": "stream",
       "stream": "stdout",
       "text": [
        "\n",
        "generated -358.7 291"
       ]
      },
      {
       "output_type": "stream",
       "stream": "stdout",
       "text": [
        "\n",
        "generated -357.1 292"
       ]
      },
      {
       "output_type": "stream",
       "stream": "stdout",
       "text": [
        "\n",
        "generated -355.4 293"
       ]
      },
      {
       "output_type": "stream",
       "stream": "stdout",
       "text": [
        "\n",
        "generated -353.7 294"
       ]
      },
      {
       "output_type": "stream",
       "stream": "stdout",
       "text": [
        "\n",
        "generated -352.0 295"
       ]
      },
      {
       "output_type": "stream",
       "stream": "stdout",
       "text": [
        "\n",
        "generated -350.3 296"
       ]
      },
      {
       "output_type": "stream",
       "stream": "stdout",
       "text": [
        "\n",
        "generated -348.6 297"
       ]
      },
      {
       "output_type": "stream",
       "stream": "stdout",
       "text": [
        "\n",
        "generated -346.9 298"
       ]
      },
      {
       "output_type": "stream",
       "stream": "stdout",
       "text": [
        "\n",
        "generated -345.2 299"
       ]
      },
      {
       "output_type": "stream",
       "stream": "stdout",
       "text": [
        "\n",
        "generated -343.5 300"
       ]
      },
      {
       "output_type": "stream",
       "stream": "stdout",
       "text": [
        "\n",
        "generated -341.9 301"
       ]
      },
      {
       "output_type": "stream",
       "stream": "stdout",
       "text": [
        "\n",
        "generated -340.2 302"
       ]
      },
      {
       "output_type": "stream",
       "stream": "stdout",
       "text": [
        "\n",
        "generated -338.5 303"
       ]
      },
      {
       "output_type": "stream",
       "stream": "stdout",
       "text": [
        "\n",
        "generated -336.8 304"
       ]
      },
      {
       "output_type": "stream",
       "stream": "stdout",
       "text": [
        "\n",
        "generated -335.1 305"
       ]
      },
      {
       "output_type": "stream",
       "stream": "stdout",
       "text": [
        "\n",
        "generated -333.4 306"
       ]
      },
      {
       "output_type": "stream",
       "stream": "stdout",
       "text": [
        "\n",
        "generated -331.7 307"
       ]
      },
      {
       "output_type": "stream",
       "stream": "stdout",
       "text": [
        "\n",
        "generated -330.0 308"
       ]
      },
      {
       "output_type": "stream",
       "stream": "stdout",
       "text": [
        "\n",
        "generated -328.4 309"
       ]
      },
      {
       "output_type": "stream",
       "stream": "stdout",
       "text": [
        "\n",
        "generated -326.7 310"
       ]
      },
      {
       "output_type": "stream",
       "stream": "stdout",
       "text": [
        "\n",
        "generated -325.0 311"
       ]
      },
      {
       "output_type": "stream",
       "stream": "stdout",
       "text": [
        "\n",
        "generated -323.3 312"
       ]
      },
      {
       "output_type": "stream",
       "stream": "stdout",
       "text": [
        "\n",
        "generated -321.6 313"
       ]
      },
      {
       "output_type": "stream",
       "stream": "stdout",
       "text": [
        "\n",
        "generated -319.9 314"
       ]
      },
      {
       "output_type": "stream",
       "stream": "stdout",
       "text": [
        "\n",
        "generated -318.2 315"
       ]
      },
      {
       "output_type": "stream",
       "stream": "stdout",
       "text": [
        "\n",
        "generated -316.5 316"
       ]
      },
      {
       "output_type": "stream",
       "stream": "stdout",
       "text": [
        "\n",
        "generated -314.8 317"
       ]
      },
      {
       "output_type": "stream",
       "stream": "stdout",
       "text": [
        "\n",
        "generated -313.2 318"
       ]
      },
      {
       "output_type": "stream",
       "stream": "stdout",
       "text": [
        "\n",
        "generated -311.5 319"
       ]
      },
      {
       "output_type": "stream",
       "stream": "stdout",
       "text": [
        "\n",
        "generated -309.8 320"
       ]
      },
      {
       "output_type": "stream",
       "stream": "stdout",
       "text": [
        "\n",
        "generated -308.1 321"
       ]
      },
      {
       "output_type": "stream",
       "stream": "stdout",
       "text": [
        "\n",
        "generated -306.4 322"
       ]
      },
      {
       "output_type": "stream",
       "stream": "stdout",
       "text": [
        "\n",
        "generated -304.7 323"
       ]
      },
      {
       "output_type": "stream",
       "stream": "stdout",
       "text": [
        "\n",
        "generated -303.0 324"
       ]
      },
      {
       "output_type": "stream",
       "stream": "stdout",
       "text": [
        "\n",
        "generated -301.3 325"
       ]
      },
      {
       "output_type": "stream",
       "stream": "stdout",
       "text": [
        "\n",
        "generated -299.7 326"
       ]
      },
      {
       "output_type": "stream",
       "stream": "stdout",
       "text": [
        "\n",
        "generated -298.0 327"
       ]
      },
      {
       "output_type": "stream",
       "stream": "stdout",
       "text": [
        "\n",
        "generated -296.3 328"
       ]
      },
      {
       "output_type": "stream",
       "stream": "stdout",
       "text": [
        "\n",
        "generated -294.6 329"
       ]
      },
      {
       "output_type": "stream",
       "stream": "stdout",
       "text": [
        "\n",
        "generated -292.9 330"
       ]
      },
      {
       "output_type": "stream",
       "stream": "stdout",
       "text": [
        "\n",
        "generated -291.2 331"
       ]
      },
      {
       "output_type": "stream",
       "stream": "stdout",
       "text": [
        "\n",
        "generated -289.5 332"
       ]
      },
      {
       "output_type": "stream",
       "stream": "stdout",
       "text": [
        "\n",
        "generated -287.8 333"
       ]
      },
      {
       "output_type": "stream",
       "stream": "stdout",
       "text": [
        "\n",
        "generated -286.1 334"
       ]
      },
      {
       "output_type": "stream",
       "stream": "stdout",
       "text": [
        "\n",
        "generated -284.5 335"
       ]
      },
      {
       "output_type": "stream",
       "stream": "stdout",
       "text": [
        "\n",
        "generated -282.8 336"
       ]
      },
      {
       "output_type": "stream",
       "stream": "stdout",
       "text": [
        "\n",
        "generated -281.1 337"
       ]
      },
      {
       "output_type": "stream",
       "stream": "stdout",
       "text": [
        "\n",
        "generated -279.4 338"
       ]
      },
      {
       "output_type": "stream",
       "stream": "stdout",
       "text": [
        "\n",
        "generated -277.7 339"
       ]
      },
      {
       "output_type": "stream",
       "stream": "stdout",
       "text": [
        "\n",
        "generated -276.0 340"
       ]
      },
      {
       "output_type": "stream",
       "stream": "stdout",
       "text": [
        "\n",
        "generated -274.3 341"
       ]
      },
      {
       "output_type": "stream",
       "stream": "stdout",
       "text": [
        "\n",
        "generated -272.6 342"
       ]
      },
      {
       "output_type": "stream",
       "stream": "stdout",
       "text": [
        "\n",
        "generated -271.0 343"
       ]
      },
      {
       "output_type": "stream",
       "stream": "stdout",
       "text": [
        "\n",
        "generated -269.3 344"
       ]
      },
      {
       "output_type": "stream",
       "stream": "stdout",
       "text": [
        "\n",
        "generated -267.6 345"
       ]
      },
      {
       "output_type": "stream",
       "stream": "stdout",
       "text": [
        "\n",
        "generated -265.9 346"
       ]
      },
      {
       "output_type": "stream",
       "stream": "stdout",
       "text": [
        "\n",
        "generated -264.2 347"
       ]
      },
      {
       "output_type": "stream",
       "stream": "stdout",
       "text": [
        "\n",
        "generated -262.5 348"
       ]
      },
      {
       "output_type": "stream",
       "stream": "stdout",
       "text": [
        "\n",
        "generated -260.8 349"
       ]
      },
      {
       "output_type": "stream",
       "stream": "stdout",
       "text": [
        "\n",
        "generated -259.1 350"
       ]
      },
      {
       "output_type": "stream",
       "stream": "stdout",
       "text": [
        "\n",
        "generated -257.4 351"
       ]
      },
      {
       "output_type": "stream",
       "stream": "stdout",
       "text": [
        "\n",
        "generated -255.8 352"
       ]
      },
      {
       "output_type": "stream",
       "stream": "stdout",
       "text": [
        "\n",
        "generated -254.1 353"
       ]
      },
      {
       "output_type": "stream",
       "stream": "stdout",
       "text": [
        "\n",
        "generated -252.4 354"
       ]
      },
      {
       "output_type": "stream",
       "stream": "stdout",
       "text": [
        "\n",
        "generated -250.7 355"
       ]
      },
      {
       "output_type": "stream",
       "stream": "stdout",
       "text": [
        "\n",
        "generated -249.0 356"
       ]
      },
      {
       "output_type": "stream",
       "stream": "stdout",
       "text": [
        "\n",
        "generated -247.3 357"
       ]
      },
      {
       "output_type": "stream",
       "stream": "stdout",
       "text": [
        "\n",
        "generated -245.6 358"
       ]
      },
      {
       "output_type": "stream",
       "stream": "stdout",
       "text": [
        "\n",
        "generated -243.9 359"
       ]
      },
      {
       "output_type": "stream",
       "stream": "stdout",
       "text": [
        "\n",
        "generated -242.3 360"
       ]
      },
      {
       "output_type": "stream",
       "stream": "stdout",
       "text": [
        "\n",
        "generated -240.6 361"
       ]
      },
      {
       "output_type": "stream",
       "stream": "stdout",
       "text": [
        "\n",
        "generated -238.9 362"
       ]
      },
      {
       "output_type": "stream",
       "stream": "stdout",
       "text": [
        "\n",
        "generated -237.2 363"
       ]
      },
      {
       "output_type": "stream",
       "stream": "stdout",
       "text": [
        "\n",
        "generated -235.5 364"
       ]
      },
      {
       "output_type": "stream",
       "stream": "stdout",
       "text": [
        "\n",
        "generated -233.8 365"
       ]
      },
      {
       "output_type": "stream",
       "stream": "stdout",
       "text": [
        "\n",
        "generated -232.1 366"
       ]
      },
      {
       "output_type": "stream",
       "stream": "stdout",
       "text": [
        "\n",
        "generated -230.4 367"
       ]
      },
      {
       "output_type": "stream",
       "stream": "stdout",
       "text": [
        "\n",
        "generated -228.7 368"
       ]
      },
      {
       "output_type": "stream",
       "stream": "stdout",
       "text": [
        "\n",
        "generated -227.1 369"
       ]
      },
      {
       "output_type": "stream",
       "stream": "stdout",
       "text": [
        "\n",
        "generated -225.4 370"
       ]
      },
      {
       "output_type": "stream",
       "stream": "stdout",
       "text": [
        "\n",
        "generated -223.7 371"
       ]
      },
      {
       "output_type": "stream",
       "stream": "stdout",
       "text": [
        "\n",
        "generated -222.0 372"
       ]
      },
      {
       "output_type": "stream",
       "stream": "stdout",
       "text": [
        "\n",
        "generated -220.3 373"
       ]
      },
      {
       "output_type": "stream",
       "stream": "stdout",
       "text": [
        "\n",
        "generated -218.6 374"
       ]
      },
      {
       "output_type": "stream",
       "stream": "stdout",
       "text": [
        "\n",
        "generated -216.9 375"
       ]
      },
      {
       "output_type": "stream",
       "stream": "stdout",
       "text": [
        "\n",
        "generated -215.2 376"
       ]
      },
      {
       "output_type": "stream",
       "stream": "stdout",
       "text": [
        "\n",
        "generated -213.6 377"
       ]
      },
      {
       "output_type": "stream",
       "stream": "stdout",
       "text": [
        "\n",
        "generated -211.9 378"
       ]
      },
      {
       "output_type": "stream",
       "stream": "stdout",
       "text": [
        "\n",
        "generated -210.2 379"
       ]
      },
      {
       "output_type": "stream",
       "stream": "stdout",
       "text": [
        "\n",
        "generated -208.5 380"
       ]
      },
      {
       "output_type": "stream",
       "stream": "stdout",
       "text": [
        "\n",
        "generated -206.8 381"
       ]
      },
      {
       "output_type": "stream",
       "stream": "stdout",
       "text": [
        "\n",
        "generated -205.1 382"
       ]
      },
      {
       "output_type": "stream",
       "stream": "stdout",
       "text": [
        "\n",
        "generated -203.4 383"
       ]
      },
      {
       "output_type": "stream",
       "stream": "stdout",
       "text": [
        "\n",
        "generated -201.7 384"
       ]
      },
      {
       "output_type": "stream",
       "stream": "stdout",
       "text": [
        "\n",
        "generated -200.0 385"
       ]
      },
      {
       "output_type": "stream",
       "stream": "stdout",
       "text": [
        "\n",
        "generated -198.4 386"
       ]
      },
      {
       "output_type": "stream",
       "stream": "stdout",
       "text": [
        "\n",
        "generated -196.7 387"
       ]
      },
      {
       "output_type": "stream",
       "stream": "stdout",
       "text": [
        "\n",
        "generated -195.0 388"
       ]
      },
      {
       "output_type": "stream",
       "stream": "stdout",
       "text": [
        "\n",
        "generated -193.3 389"
       ]
      },
      {
       "output_type": "stream",
       "stream": "stdout",
       "text": [
        "\n",
        "generated -191.6 390"
       ]
      },
      {
       "output_type": "stream",
       "stream": "stdout",
       "text": [
        "\n",
        "generated -189.9 391"
       ]
      },
      {
       "output_type": "stream",
       "stream": "stdout",
       "text": [
        "\n",
        "generated -188.2 392"
       ]
      },
      {
       "output_type": "stream",
       "stream": "stdout",
       "text": [
        "\n",
        "generated -186.5 393"
       ]
      },
      {
       "output_type": "stream",
       "stream": "stdout",
       "text": [
        "\n",
        "generated -184.9 394"
       ]
      },
      {
       "output_type": "stream",
       "stream": "stdout",
       "text": [
        "\n",
        "generated -183.2 395"
       ]
      },
      {
       "output_type": "stream",
       "stream": "stdout",
       "text": [
        "\n",
        "generated -181.5 396"
       ]
      },
      {
       "output_type": "stream",
       "stream": "stdout",
       "text": [
        "\n",
        "generated -179.8 397"
       ]
      },
      {
       "output_type": "stream",
       "stream": "stdout",
       "text": [
        "\n",
        "generated -178.1 398"
       ]
      },
      {
       "output_type": "stream",
       "stream": "stdout",
       "text": [
        "\n",
        "generated -176.4 399"
       ]
      },
      {
       "output_type": "stream",
       "stream": "stdout",
       "text": [
        "\n",
        "generated -174.7 400"
       ]
      },
      {
       "output_type": "stream",
       "stream": "stdout",
       "text": [
        "\n",
        "generated -173.0 401"
       ]
      },
      {
       "output_type": "stream",
       "stream": "stdout",
       "text": [
        "\n",
        "generated -171.4 402"
       ]
      },
      {
       "output_type": "stream",
       "stream": "stdout",
       "text": [
        "\n",
        "generated -169.7 403"
       ]
      },
      {
       "output_type": "stream",
       "stream": "stdout",
       "text": [
        "\n",
        "generated -168.0 404"
       ]
      },
      {
       "output_type": "stream",
       "stream": "stdout",
       "text": [
        "\n",
        "generated -166.3 405"
       ]
      },
      {
       "output_type": "stream",
       "stream": "stdout",
       "text": [
        "\n",
        "generated -164.6 406"
       ]
      },
      {
       "output_type": "stream",
       "stream": "stdout",
       "text": [
        "\n",
        "generated -162.9 407"
       ]
      },
      {
       "output_type": "stream",
       "stream": "stdout",
       "text": [
        "\n",
        "generated -161.2 408"
       ]
      },
      {
       "output_type": "stream",
       "stream": "stdout",
       "text": [
        "\n",
        "generated -159.5 409"
       ]
      },
      {
       "output_type": "stream",
       "stream": "stdout",
       "text": [
        "\n",
        "generated -157.8 410"
       ]
      },
      {
       "output_type": "stream",
       "stream": "stdout",
       "text": [
        "\n",
        "generated -156.2 411"
       ]
      },
      {
       "output_type": "stream",
       "stream": "stdout",
       "text": [
        "\n",
        "generated -154.5 412"
       ]
      },
      {
       "output_type": "stream",
       "stream": "stdout",
       "text": [
        "\n",
        "generated -152.8 413"
       ]
      },
      {
       "output_type": "stream",
       "stream": "stdout",
       "text": [
        "\n",
        "generated -151.1 414"
       ]
      },
      {
       "output_type": "stream",
       "stream": "stdout",
       "text": [
        "\n",
        "generated -149.4 415"
       ]
      },
      {
       "output_type": "stream",
       "stream": "stdout",
       "text": [
        "\n",
        "generated -147.7 416"
       ]
      },
      {
       "output_type": "stream",
       "stream": "stdout",
       "text": [
        "\n",
        "generated -146.0 417"
       ]
      },
      {
       "output_type": "stream",
       "stream": "stdout",
       "text": [
        "\n",
        "generated -144.3 418"
       ]
      },
      {
       "output_type": "stream",
       "stream": "stdout",
       "text": [
        "\n",
        "generated -142.7 419"
       ]
      },
      {
       "output_type": "stream",
       "stream": "stdout",
       "text": [
        "\n",
        "generated -141.0 420"
       ]
      },
      {
       "output_type": "stream",
       "stream": "stdout",
       "text": [
        "\n",
        "generated -139.3 421"
       ]
      },
      {
       "output_type": "stream",
       "stream": "stdout",
       "text": [
        "\n",
        "generated -137.6 422"
       ]
      },
      {
       "output_type": "stream",
       "stream": "stdout",
       "text": [
        "\n",
        "generated -135.9 423"
       ]
      },
      {
       "output_type": "stream",
       "stream": "stdout",
       "text": [
        "\n",
        "generated -134.2 424"
       ]
      },
      {
       "output_type": "stream",
       "stream": "stdout",
       "text": [
        "\n",
        "generated -132.5 425"
       ]
      },
      {
       "output_type": "stream",
       "stream": "stdout",
       "text": [
        "\n",
        "generated -130.8 426"
       ]
      },
      {
       "output_type": "stream",
       "stream": "stdout",
       "text": [
        "\n",
        "generated -129.1 427"
       ]
      },
      {
       "output_type": "stream",
       "stream": "stdout",
       "text": [
        "\n",
        "generated -127.5 428"
       ]
      },
      {
       "output_type": "stream",
       "stream": "stdout",
       "text": [
        "\n",
        "generated -125.8 429"
       ]
      },
      {
       "output_type": "stream",
       "stream": "stdout",
       "text": [
        "\n",
        "generated -124.1 430"
       ]
      },
      {
       "output_type": "stream",
       "stream": "stdout",
       "text": [
        "\n",
        "generated -122.4 431"
       ]
      },
      {
       "output_type": "stream",
       "stream": "stdout",
       "text": [
        "\n",
        "generated -120.7 432"
       ]
      },
      {
       "output_type": "stream",
       "stream": "stdout",
       "text": [
        "\n",
        "generated -119.0 433"
       ]
      },
      {
       "output_type": "stream",
       "stream": "stdout",
       "text": [
        "\n",
        "generated -117.3 434"
       ]
      },
      {
       "output_type": "stream",
       "stream": "stdout",
       "text": [
        "\n",
        "generated -115.6 435"
       ]
      },
      {
       "output_type": "stream",
       "stream": "stdout",
       "text": [
        "\n",
        "generated -114.0 436"
       ]
      },
      {
       "output_type": "stream",
       "stream": "stdout",
       "text": [
        "\n",
        "generated -112.3 437"
       ]
      },
      {
       "output_type": "stream",
       "stream": "stdout",
       "text": [
        "\n",
        "generated -110.6 438"
       ]
      },
      {
       "output_type": "stream",
       "stream": "stdout",
       "text": [
        "\n",
        "generated -108.9 439"
       ]
      },
      {
       "output_type": "stream",
       "stream": "stdout",
       "text": [
        "\n",
        "generated -107.2 440"
       ]
      },
      {
       "output_type": "stream",
       "stream": "stdout",
       "text": [
        "\n",
        "generated -105.5 441"
       ]
      },
      {
       "output_type": "stream",
       "stream": "stdout",
       "text": [
        "\n",
        "generated -103.8 442"
       ]
      },
      {
       "output_type": "stream",
       "stream": "stdout",
       "text": [
        "\n",
        "generated -102.1 443"
       ]
      },
      {
       "output_type": "stream",
       "stream": "stdout",
       "text": [
        "\n",
        "generated -100.4 444"
       ]
      },
      {
       "output_type": "stream",
       "stream": "stdout",
       "text": [
        "\n",
        "generated -98.76 445"
       ]
      },
      {
       "output_type": "stream",
       "stream": "stdout",
       "text": [
        "\n",
        "generated -97.07 446"
       ]
      },
      {
       "output_type": "stream",
       "stream": "stdout",
       "text": [
        "\n",
        "generated -95.38 447"
       ]
      },
      {
       "output_type": "stream",
       "stream": "stdout",
       "text": [
        "\n",
        "generated -93.69 448"
       ]
      },
      {
       "output_type": "stream",
       "stream": "stdout",
       "text": [
        "\n",
        "generated -92.01 449"
       ]
      },
      {
       "output_type": "stream",
       "stream": "stdout",
       "text": [
        "\n",
        "generated -90.32 450"
       ]
      },
      {
       "output_type": "stream",
       "stream": "stdout",
       "text": [
        "\n",
        "generated -88.63 451"
       ]
      },
      {
       "output_type": "stream",
       "stream": "stdout",
       "text": [
        "\n",
        "generated -86.94 452"
       ]
      },
      {
       "output_type": "stream",
       "stream": "stdout",
       "text": [
        "\n",
        "generated -85.25 453"
       ]
      },
      {
       "output_type": "stream",
       "stream": "stdout",
       "text": [
        "\n",
        "generated -83.57 454"
       ]
      },
      {
       "output_type": "stream",
       "stream": "stdout",
       "text": [
        "\n",
        "generated -81.88 455"
       ]
      },
      {
       "output_type": "stream",
       "stream": "stdout",
       "text": [
        "\n",
        "generated -80.19 456"
       ]
      },
      {
       "output_type": "stream",
       "stream": "stdout",
       "text": [
        "\n",
        "generated -78.5 457"
       ]
      },
      {
       "output_type": "stream",
       "stream": "stdout",
       "text": [
        "\n",
        "generated -76.81 458"
       ]
      },
      {
       "output_type": "stream",
       "stream": "stdout",
       "text": [
        "\n",
        "generated -75.12 459"
       ]
      },
      {
       "output_type": "stream",
       "stream": "stdout",
       "text": [
        "\n",
        "generated -73.44 460"
       ]
      },
      {
       "output_type": "stream",
       "stream": "stdout",
       "text": [
        "\n",
        "generated -71.75 461"
       ]
      },
      {
       "output_type": "stream",
       "stream": "stdout",
       "text": [
        "\n",
        "generated -70.06 462"
       ]
      },
      {
       "output_type": "stream",
       "stream": "stdout",
       "text": [
        "\n",
        "generated -68.37 463"
       ]
      },
      {
       "output_type": "stream",
       "stream": "stdout",
       "text": [
        "\n",
        "generated -66.68 464"
       ]
      },
      {
       "output_type": "stream",
       "stream": "stdout",
       "text": [
        "\n",
        "generated -65.0 465"
       ]
      },
      {
       "output_type": "stream",
       "stream": "stdout",
       "text": [
        "\n",
        "generated -63.31 466"
       ]
      },
      {
       "output_type": "stream",
       "stream": "stdout",
       "text": [
        "\n",
        "generated -61.62 467"
       ]
      },
      {
       "output_type": "stream",
       "stream": "stdout",
       "text": [
        "\n",
        "generated -59.93 468"
       ]
      },
      {
       "output_type": "stream",
       "stream": "stdout",
       "text": [
        "\n",
        "generated -58.24 469"
       ]
      },
      {
       "output_type": "stream",
       "stream": "stdout",
       "text": [
        "\n",
        "generated -56.55 470"
       ]
      },
      {
       "output_type": "stream",
       "stream": "stdout",
       "text": [
        "\n",
        "generated -54.87 471"
       ]
      },
      {
       "output_type": "stream",
       "stream": "stdout",
       "text": [
        "\n",
        "generated -53.18 472"
       ]
      },
      {
       "output_type": "stream",
       "stream": "stdout",
       "text": [
        "\n",
        "generated -51.49 473"
       ]
      },
      {
       "output_type": "stream",
       "stream": "stdout",
       "text": [
        "\n",
        "generated -49.8 474"
       ]
      },
      {
       "output_type": "stream",
       "stream": "stdout",
       "text": [
        "\n",
        "generated -48.11 475"
       ]
      },
      {
       "output_type": "stream",
       "stream": "stdout",
       "text": [
        "\n",
        "generated -46.43 476"
       ]
      },
      {
       "output_type": "stream",
       "stream": "stdout",
       "text": [
        "\n",
        "generated -44.74 477"
       ]
      },
      {
       "output_type": "stream",
       "stream": "stdout",
       "text": [
        "\n",
        "generated -43.05 478"
       ]
      },
      {
       "output_type": "stream",
       "stream": "stdout",
       "text": [
        "\n",
        "generated -41.36 479"
       ]
      },
      {
       "output_type": "stream",
       "stream": "stdout",
       "text": [
        "\n",
        "generated -39.67 480"
       ]
      },
      {
       "output_type": "stream",
       "stream": "stdout",
       "text": [
        "\n",
        "generated -37.98 481"
       ]
      },
      {
       "output_type": "stream",
       "stream": "stdout",
       "text": [
        "\n",
        "generated -36.3 482"
       ]
      },
      {
       "output_type": "stream",
       "stream": "stdout",
       "text": [
        "\n",
        "generated -34.61 483"
       ]
      },
      {
       "output_type": "stream",
       "stream": "stdout",
       "text": [
        "\n",
        "generated -32.92 484"
       ]
      },
      {
       "output_type": "stream",
       "stream": "stdout",
       "text": [
        "\n",
        "generated -31.23 485"
       ]
      },
      {
       "output_type": "stream",
       "stream": "stdout",
       "text": [
        "\n",
        "generated -29.54 486"
       ]
      },
      {
       "output_type": "stream",
       "stream": "stdout",
       "text": [
        "\n",
        "generated -27.86 487"
       ]
      },
      {
       "output_type": "stream",
       "stream": "stdout",
       "text": [
        "\n",
        "generated -26.17 488"
       ]
      },
      {
       "output_type": "stream",
       "stream": "stdout",
       "text": [
        "\n",
        "generated -24.48 489"
       ]
      },
      {
       "output_type": "stream",
       "stream": "stdout",
       "text": [
        "\n",
        "generated -22.79 490"
       ]
      },
      {
       "output_type": "stream",
       "stream": "stdout",
       "text": [
        "\n",
        "generated -21.1 491"
       ]
      },
      {
       "output_type": "stream",
       "stream": "stdout",
       "text": [
        "\n",
        "generated -19.41 492"
       ]
      },
      {
       "output_type": "stream",
       "stream": "stdout",
       "text": [
        "\n",
        "generated -17.73 493"
       ]
      },
      {
       "output_type": "stream",
       "stream": "stdout",
       "text": [
        "\n",
        "generated -16.04 494"
       ]
      },
      {
       "output_type": "stream",
       "stream": "stdout",
       "text": [
        "\n",
        "generated -14.35 495"
       ]
      },
      {
       "output_type": "stream",
       "stream": "stdout",
       "text": [
        "\n",
        "generated -12.66 496"
       ]
      },
      {
       "output_type": "stream",
       "stream": "stdout",
       "text": [
        "\n",
        "generated -10.97 497"
       ]
      },
      {
       "output_type": "stream",
       "stream": "stdout",
       "text": [
        "\n",
        "generated -9.285 498"
       ]
      },
      {
       "output_type": "stream",
       "stream": "stdout",
       "text": [
        "\n",
        "generated -7.597 499"
       ]
      },
      {
       "output_type": "stream",
       "stream": "stdout",
       "text": [
        "\n",
        "generated -5.909 500"
       ]
      },
      {
       "output_type": "stream",
       "stream": "stdout",
       "text": [
        "\n",
        "generated -4.22 501"
       ]
      },
      {
       "output_type": "stream",
       "stream": "stdout",
       "text": [
        "\n",
        "generated -2.532 502"
       ]
      },
      {
       "output_type": "stream",
       "stream": "stdout",
       "text": [
        "\n",
        "generated -0.8441 503"
       ]
      },
      {
       "output_type": "stream",
       "stream": "stdout",
       "text": [
        "\n",
        "generated 0.8441 504"
       ]
      },
      {
       "output_type": "stream",
       "stream": "stdout",
       "text": [
        "\n",
        "generated 2.532 505"
       ]
      },
      {
       "output_type": "stream",
       "stream": "stdout",
       "text": [
        "\n",
        "generated 4.22 506"
       ]
      },
      {
       "output_type": "stream",
       "stream": "stdout",
       "text": [
        "\n",
        "generated 5.909 507"
       ]
      },
      {
       "output_type": "stream",
       "stream": "stdout",
       "text": [
        "\n",
        "generated 7.597 508"
       ]
      },
      {
       "output_type": "stream",
       "stream": "stdout",
       "text": [
        "\n",
        "generated 9.285 509"
       ]
      },
      {
       "output_type": "stream",
       "stream": "stdout",
       "text": [
        "\n",
        "generated 10.97 510"
       ]
      },
      {
       "output_type": "stream",
       "stream": "stdout",
       "text": [
        "\n",
        "generated 12.66 511"
       ]
      },
      {
       "output_type": "stream",
       "stream": "stdout",
       "text": [
        "\n",
        "generated 14.35 512"
       ]
      },
      {
       "output_type": "stream",
       "stream": "stdout",
       "text": [
        "\n",
        "generated 16.04 513"
       ]
      },
      {
       "output_type": "stream",
       "stream": "stdout",
       "text": [
        "\n",
        "generated 17.73 514"
       ]
      },
      {
       "output_type": "stream",
       "stream": "stdout",
       "text": [
        "\n",
        "generated 19.41 515"
       ]
      },
      {
       "output_type": "stream",
       "stream": "stdout",
       "text": [
        "\n",
        "generated 21.1 516"
       ]
      },
      {
       "output_type": "stream",
       "stream": "stdout",
       "text": [
        "\n",
        "generated 22.79 517"
       ]
      },
      {
       "output_type": "stream",
       "stream": "stdout",
       "text": [
        "\n",
        "generated 24.48 518"
       ]
      },
      {
       "output_type": "stream",
       "stream": "stdout",
       "text": [
        "\n",
        "generated 26.17 519"
       ]
      },
      {
       "output_type": "stream",
       "stream": "stdout",
       "text": [
        "\n",
        "generated 27.86 520"
       ]
      },
      {
       "output_type": "stream",
       "stream": "stdout",
       "text": [
        "\n",
        "generated 29.54 521"
       ]
      },
      {
       "output_type": "stream",
       "stream": "stdout",
       "text": [
        "\n",
        "generated 31.23 522"
       ]
      },
      {
       "output_type": "stream",
       "stream": "stdout",
       "text": [
        "\n",
        "generated 32.92 523"
       ]
      },
      {
       "output_type": "stream",
       "stream": "stdout",
       "text": [
        "\n",
        "generated 34.61 524"
       ]
      },
      {
       "output_type": "stream",
       "stream": "stdout",
       "text": [
        "\n",
        "generated 36.3 525"
       ]
      },
      {
       "output_type": "stream",
       "stream": "stdout",
       "text": [
        "\n",
        "generated 37.98 526"
       ]
      },
      {
       "output_type": "stream",
       "stream": "stdout",
       "text": [
        "\n",
        "generated 39.67 527"
       ]
      },
      {
       "output_type": "stream",
       "stream": "stdout",
       "text": [
        "\n",
        "generated 41.36 528"
       ]
      },
      {
       "output_type": "stream",
       "stream": "stdout",
       "text": [
        "\n",
        "generated 43.05 529"
       ]
      },
      {
       "output_type": "stream",
       "stream": "stdout",
       "text": [
        "\n",
        "generated 44.74 530"
       ]
      },
      {
       "output_type": "stream",
       "stream": "stdout",
       "text": [
        "\n",
        "generated 46.43 531"
       ]
      },
      {
       "output_type": "stream",
       "stream": "stdout",
       "text": [
        "\n",
        "generated 48.11 532"
       ]
      },
      {
       "output_type": "stream",
       "stream": "stdout",
       "text": [
        "\n",
        "generated 49.8 533"
       ]
      },
      {
       "output_type": "stream",
       "stream": "stdout",
       "text": [
        "\n",
        "generated 51.49 534"
       ]
      },
      {
       "output_type": "stream",
       "stream": "stdout",
       "text": [
        "\n",
        "generated 53.18 535"
       ]
      },
      {
       "output_type": "stream",
       "stream": "stdout",
       "text": [
        "\n",
        "generated 54.87 536"
       ]
      },
      {
       "output_type": "stream",
       "stream": "stdout",
       "text": [
        "\n",
        "generated 56.55 537"
       ]
      },
      {
       "output_type": "stream",
       "stream": "stdout",
       "text": [
        "\n",
        "generated 58.24 538"
       ]
      },
      {
       "output_type": "stream",
       "stream": "stdout",
       "text": [
        "\n",
        "generated 59.93 539"
       ]
      },
      {
       "output_type": "stream",
       "stream": "stdout",
       "text": [
        "\n",
        "generated 61.62 540"
       ]
      },
      {
       "output_type": "stream",
       "stream": "stdout",
       "text": [
        "\n",
        "generated 63.31 541"
       ]
      },
      {
       "output_type": "stream",
       "stream": "stdout",
       "text": [
        "\n",
        "generated 65.0 542"
       ]
      },
      {
       "output_type": "stream",
       "stream": "stdout",
       "text": [
        "\n",
        "generated 66.68 543"
       ]
      },
      {
       "output_type": "stream",
       "stream": "stdout",
       "text": [
        "\n",
        "generated 68.37 544"
       ]
      },
      {
       "output_type": "stream",
       "stream": "stdout",
       "text": [
        "\n",
        "generated 70.06 545"
       ]
      },
      {
       "output_type": "stream",
       "stream": "stdout",
       "text": [
        "\n",
        "generated 71.75 546"
       ]
      },
      {
       "output_type": "stream",
       "stream": "stdout",
       "text": [
        "\n",
        "generated 73.44 547"
       ]
      },
      {
       "output_type": "stream",
       "stream": "stdout",
       "text": [
        "\n",
        "generated 75.12 548"
       ]
      },
      {
       "output_type": "stream",
       "stream": "stdout",
       "text": [
        "\n",
        "generated 76.81 549"
       ]
      },
      {
       "output_type": "stream",
       "stream": "stdout",
       "text": [
        "\n",
        "generated 78.5 550"
       ]
      },
      {
       "output_type": "stream",
       "stream": "stdout",
       "text": [
        "\n",
        "generated 80.19 551"
       ]
      },
      {
       "output_type": "stream",
       "stream": "stdout",
       "text": [
        "\n",
        "generated 81.88 552"
       ]
      },
      {
       "output_type": "stream",
       "stream": "stdout",
       "text": [
        "\n",
        "generated 83.57 553"
       ]
      },
      {
       "output_type": "stream",
       "stream": "stdout",
       "text": [
        "\n",
        "generated 85.25 554"
       ]
      },
      {
       "output_type": "stream",
       "stream": "stdout",
       "text": [
        "\n",
        "generated 86.94 555"
       ]
      },
      {
       "output_type": "stream",
       "stream": "stdout",
       "text": [
        "\n",
        "generated 88.63 556"
       ]
      },
      {
       "output_type": "stream",
       "stream": "stdout",
       "text": [
        "\n",
        "generated 90.32 557"
       ]
      },
      {
       "output_type": "stream",
       "stream": "stdout",
       "text": [
        "\n",
        "generated 92.01 558"
       ]
      },
      {
       "output_type": "stream",
       "stream": "stdout",
       "text": [
        "\n",
        "generated 93.69 559"
       ]
      },
      {
       "output_type": "stream",
       "stream": "stdout",
       "text": [
        "\n",
        "generated 95.38 560"
       ]
      },
      {
       "output_type": "stream",
       "stream": "stdout",
       "text": [
        "\n",
        "generated 97.07 561"
       ]
      },
      {
       "output_type": "stream",
       "stream": "stdout",
       "text": [
        "\n",
        "generated 98.76 562"
       ]
      },
      {
       "output_type": "stream",
       "stream": "stdout",
       "text": [
        "\n",
        "generated 100.4 563"
       ]
      },
      {
       "output_type": "stream",
       "stream": "stdout",
       "text": [
        "\n",
        "generated 102.1 564"
       ]
      },
      {
       "output_type": "stream",
       "stream": "stdout",
       "text": [
        "\n",
        "generated 103.8 565"
       ]
      },
      {
       "output_type": "stream",
       "stream": "stdout",
       "text": [
        "\n",
        "generated 105.5 566"
       ]
      },
      {
       "output_type": "stream",
       "stream": "stdout",
       "text": [
        "\n",
        "generated 107.2 567"
       ]
      },
      {
       "output_type": "stream",
       "stream": "stdout",
       "text": [
        "\n",
        "generated 108.9 568"
       ]
      },
      {
       "output_type": "stream",
       "stream": "stdout",
       "text": [
        "\n",
        "generated 110.6 569"
       ]
      },
      {
       "output_type": "stream",
       "stream": "stdout",
       "text": [
        "\n",
        "generated 112.3 570"
       ]
      },
      {
       "output_type": "stream",
       "stream": "stdout",
       "text": [
        "\n",
        "generated 114.0 571"
       ]
      },
      {
       "output_type": "stream",
       "stream": "stdout",
       "text": [
        "\n",
        "generated 115.6 572"
       ]
      },
      {
       "output_type": "stream",
       "stream": "stdout",
       "text": [
        "\n",
        "generated 117.3 573"
       ]
      },
      {
       "output_type": "stream",
       "stream": "stdout",
       "text": [
        "\n",
        "generated 119.0 574"
       ]
      },
      {
       "output_type": "stream",
       "stream": "stdout",
       "text": [
        "\n",
        "generated 120.7 575"
       ]
      },
      {
       "output_type": "stream",
       "stream": "stdout",
       "text": [
        "\n",
        "generated 122.4 576"
       ]
      },
      {
       "output_type": "stream",
       "stream": "stdout",
       "text": [
        "\n",
        "generated 124.1 577"
       ]
      },
      {
       "output_type": "stream",
       "stream": "stdout",
       "text": [
        "\n",
        "generated 125.8 578"
       ]
      },
      {
       "output_type": "stream",
       "stream": "stdout",
       "text": [
        "\n",
        "generated 127.5 579"
       ]
      },
      {
       "output_type": "stream",
       "stream": "stdout",
       "text": [
        "\n",
        "generated 129.1 580"
       ]
      },
      {
       "output_type": "stream",
       "stream": "stdout",
       "text": [
        "\n",
        "generated 130.8 581"
       ]
      },
      {
       "output_type": "stream",
       "stream": "stdout",
       "text": [
        "\n",
        "generated 132.5 582"
       ]
      },
      {
       "output_type": "stream",
       "stream": "stdout",
       "text": [
        "\n",
        "generated 134.2 583"
       ]
      },
      {
       "output_type": "stream",
       "stream": "stdout",
       "text": [
        "\n",
        "generated 135.9 584"
       ]
      },
      {
       "output_type": "stream",
       "stream": "stdout",
       "text": [
        "\n",
        "generated 137.6 585"
       ]
      },
      {
       "output_type": "stream",
       "stream": "stdout",
       "text": [
        "\n",
        "generated 139.3 586"
       ]
      },
      {
       "output_type": "stream",
       "stream": "stdout",
       "text": [
        "\n",
        "generated 141.0 587"
       ]
      },
      {
       "output_type": "stream",
       "stream": "stdout",
       "text": [
        "\n",
        "generated 142.7 588"
       ]
      },
      {
       "output_type": "stream",
       "stream": "stdout",
       "text": [
        "\n",
        "generated 144.3 589"
       ]
      },
      {
       "output_type": "stream",
       "stream": "stdout",
       "text": [
        "\n",
        "generated 146.0 590"
       ]
      },
      {
       "output_type": "stream",
       "stream": "stdout",
       "text": [
        "\n",
        "generated 147.7 591"
       ]
      },
      {
       "output_type": "stream",
       "stream": "stdout",
       "text": [
        "\n",
        "generated 149.4 592"
       ]
      },
      {
       "output_type": "stream",
       "stream": "stdout",
       "text": [
        "\n",
        "generated 151.1 593"
       ]
      },
      {
       "output_type": "stream",
       "stream": "stdout",
       "text": [
        "\n",
        "generated 152.8 594"
       ]
      },
      {
       "output_type": "stream",
       "stream": "stdout",
       "text": [
        "\n",
        "generated 154.5 595"
       ]
      },
      {
       "output_type": "stream",
       "stream": "stdout",
       "text": [
        "\n",
        "generated 156.2 596"
       ]
      },
      {
       "output_type": "stream",
       "stream": "stdout",
       "text": [
        "\n",
        "generated 157.8 597"
       ]
      },
      {
       "output_type": "stream",
       "stream": "stdout",
       "text": [
        "\n",
        "generated 159.5 598"
       ]
      },
      {
       "output_type": "stream",
       "stream": "stdout",
       "text": [
        "\n",
        "generated 161.2 599"
       ]
      },
      {
       "output_type": "stream",
       "stream": "stdout",
       "text": [
        "\n",
        "generated 162.9 600"
       ]
      },
      {
       "output_type": "stream",
       "stream": "stdout",
       "text": [
        "\n",
        "generated 164.6 601"
       ]
      },
      {
       "output_type": "stream",
       "stream": "stdout",
       "text": [
        "\n",
        "generated 166.3 602"
       ]
      },
      {
       "output_type": "stream",
       "stream": "stdout",
       "text": [
        "\n",
        "generated 168.0 603"
       ]
      },
      {
       "output_type": "stream",
       "stream": "stdout",
       "text": [
        "\n",
        "generated 169.7 604"
       ]
      },
      {
       "output_type": "stream",
       "stream": "stdout",
       "text": [
        "\n",
        "generated 171.4 605"
       ]
      },
      {
       "output_type": "stream",
       "stream": "stdout",
       "text": [
        "\n",
        "generated 173.0 606"
       ]
      },
      {
       "output_type": "stream",
       "stream": "stdout",
       "text": [
        "\n",
        "generated 174.7 607"
       ]
      },
      {
       "output_type": "stream",
       "stream": "stdout",
       "text": [
        "\n",
        "generated 176.4 608"
       ]
      },
      {
       "output_type": "stream",
       "stream": "stdout",
       "text": [
        "\n",
        "generated 178.1 609"
       ]
      },
      {
       "output_type": "stream",
       "stream": "stdout",
       "text": [
        "\n",
        "generated 179.8 610"
       ]
      },
      {
       "output_type": "stream",
       "stream": "stdout",
       "text": [
        "\n",
        "generated 181.5 611"
       ]
      },
      {
       "output_type": "stream",
       "stream": "stdout",
       "text": [
        "\n",
        "generated 183.2 612"
       ]
      },
      {
       "output_type": "stream",
       "stream": "stdout",
       "text": [
        "\n",
        "generated 184.9 613"
       ]
      },
      {
       "output_type": "stream",
       "stream": "stdout",
       "text": [
        "\n",
        "generated 186.5 614"
       ]
      },
      {
       "output_type": "stream",
       "stream": "stdout",
       "text": [
        "\n",
        "generated 188.2 615"
       ]
      },
      {
       "output_type": "stream",
       "stream": "stdout",
       "text": [
        "\n",
        "generated 189.9 616"
       ]
      },
      {
       "output_type": "stream",
       "stream": "stdout",
       "text": [
        "\n",
        "generated 191.6 617"
       ]
      },
      {
       "output_type": "stream",
       "stream": "stdout",
       "text": [
        "\n",
        "generated 193.3 618"
       ]
      },
      {
       "output_type": "stream",
       "stream": "stdout",
       "text": [
        "\n",
        "generated 195.0 619"
       ]
      },
      {
       "output_type": "stream",
       "stream": "stdout",
       "text": [
        "\n",
        "generated 196.7 620"
       ]
      },
      {
       "output_type": "stream",
       "stream": "stdout",
       "text": [
        "\n",
        "generated 198.4 621"
       ]
      },
      {
       "output_type": "stream",
       "stream": "stdout",
       "text": [
        "\n",
        "generated 200.0 622"
       ]
      },
      {
       "output_type": "stream",
       "stream": "stdout",
       "text": [
        "\n",
        "generated 201.7 623"
       ]
      },
      {
       "output_type": "stream",
       "stream": "stdout",
       "text": [
        "\n",
        "generated 203.4 624"
       ]
      },
      {
       "output_type": "stream",
       "stream": "stdout",
       "text": [
        "\n",
        "generated 205.1 625"
       ]
      },
      {
       "output_type": "stream",
       "stream": "stdout",
       "text": [
        "\n",
        "generated 206.8 626"
       ]
      },
      {
       "output_type": "stream",
       "stream": "stdout",
       "text": [
        "\n",
        "generated 208.5 627"
       ]
      },
      {
       "output_type": "stream",
       "stream": "stdout",
       "text": [
        "\n",
        "generated 210.2 628"
       ]
      },
      {
       "output_type": "stream",
       "stream": "stdout",
       "text": [
        "\n",
        "generated 211.9 629"
       ]
      },
      {
       "output_type": "stream",
       "stream": "stdout",
       "text": [
        "\n",
        "generated 213.6 630"
       ]
      },
      {
       "output_type": "stream",
       "stream": "stdout",
       "text": [
        "\n",
        "generated 215.2 631"
       ]
      },
      {
       "output_type": "stream",
       "stream": "stdout",
       "text": [
        "\n",
        "generated 216.9 632"
       ]
      },
      {
       "output_type": "stream",
       "stream": "stdout",
       "text": [
        "\n",
        "generated 218.6 633"
       ]
      },
      {
       "output_type": "stream",
       "stream": "stdout",
       "text": [
        "\n",
        "generated 220.3 634"
       ]
      },
      {
       "output_type": "stream",
       "stream": "stdout",
       "text": [
        "\n",
        "generated 222.0 635"
       ]
      },
      {
       "output_type": "stream",
       "stream": "stdout",
       "text": [
        "\n",
        "generated 223.7 636"
       ]
      },
      {
       "output_type": "stream",
       "stream": "stdout",
       "text": [
        "\n",
        "generated 225.4 637"
       ]
      },
      {
       "output_type": "stream",
       "stream": "stdout",
       "text": [
        "\n",
        "generated 227.1 638"
       ]
      },
      {
       "output_type": "stream",
       "stream": "stdout",
       "text": [
        "\n",
        "generated 228.7 639"
       ]
      },
      {
       "output_type": "stream",
       "stream": "stdout",
       "text": [
        "\n",
        "generated 230.4 640"
       ]
      },
      {
       "output_type": "stream",
       "stream": "stdout",
       "text": [
        "\n",
        "generated 232.1 641"
       ]
      },
      {
       "output_type": "stream",
       "stream": "stdout",
       "text": [
        "\n",
        "generated 233.8 642"
       ]
      },
      {
       "output_type": "stream",
       "stream": "stdout",
       "text": [
        "\n",
        "generated 235.5 643"
       ]
      },
      {
       "output_type": "stream",
       "stream": "stdout",
       "text": [
        "\n",
        "generated 237.2 644"
       ]
      },
      {
       "output_type": "stream",
       "stream": "stdout",
       "text": [
        "\n",
        "generated 238.9 645"
       ]
      },
      {
       "output_type": "stream",
       "stream": "stdout",
       "text": [
        "\n",
        "generated 240.6 646"
       ]
      },
      {
       "output_type": "stream",
       "stream": "stdout",
       "text": [
        "\n",
        "generated 242.3 647"
       ]
      },
      {
       "output_type": "stream",
       "stream": "stdout",
       "text": [
        "\n",
        "generated 243.9 648"
       ]
      },
      {
       "output_type": "stream",
       "stream": "stdout",
       "text": [
        "\n",
        "generated 245.6 649"
       ]
      },
      {
       "output_type": "stream",
       "stream": "stdout",
       "text": [
        "\n",
        "generated 247.3 650"
       ]
      },
      {
       "output_type": "stream",
       "stream": "stdout",
       "text": [
        "\n",
        "generated 249.0 651"
       ]
      },
      {
       "output_type": "stream",
       "stream": "stdout",
       "text": [
        "\n",
        "generated 250.7 652"
       ]
      },
      {
       "output_type": "stream",
       "stream": "stdout",
       "text": [
        "\n",
        "generated 252.4 653"
       ]
      },
      {
       "output_type": "stream",
       "stream": "stdout",
       "text": [
        "\n",
        "generated 254.1 654"
       ]
      },
      {
       "output_type": "stream",
       "stream": "stdout",
       "text": [
        "\n",
        "generated 255.8 655"
       ]
      },
      {
       "output_type": "stream",
       "stream": "stdout",
       "text": [
        "\n",
        "generated 257.4 656"
       ]
      },
      {
       "output_type": "stream",
       "stream": "stdout",
       "text": [
        "\n",
        "generated 259.1 657"
       ]
      },
      {
       "output_type": "stream",
       "stream": "stdout",
       "text": [
        "\n",
        "generated 260.8 658"
       ]
      },
      {
       "output_type": "stream",
       "stream": "stdout",
       "text": [
        "\n",
        "generated 262.5 659"
       ]
      },
      {
       "output_type": "stream",
       "stream": "stdout",
       "text": [
        "\n",
        "generated 264.2 660"
       ]
      },
      {
       "output_type": "stream",
       "stream": "stdout",
       "text": [
        "\n",
        "generated 265.9 661"
       ]
      },
      {
       "output_type": "stream",
       "stream": "stdout",
       "text": [
        "\n",
        "generated 267.6 662"
       ]
      },
      {
       "output_type": "stream",
       "stream": "stdout",
       "text": [
        "\n",
        "generated 269.3 663"
       ]
      },
      {
       "output_type": "stream",
       "stream": "stdout",
       "text": [
        "\n",
        "generated 271.0 664"
       ]
      },
      {
       "output_type": "stream",
       "stream": "stdout",
       "text": [
        "\n",
        "generated 272.6 665"
       ]
      },
      {
       "output_type": "stream",
       "stream": "stdout",
       "text": [
        "\n",
        "generated 274.3 666"
       ]
      },
      {
       "output_type": "stream",
       "stream": "stdout",
       "text": [
        "\n",
        "generated 276.0 667"
       ]
      },
      {
       "output_type": "stream",
       "stream": "stdout",
       "text": [
        "\n",
        "generated 277.7 668"
       ]
      },
      {
       "output_type": "stream",
       "stream": "stdout",
       "text": [
        "\n",
        "generated 279.4 669"
       ]
      },
      {
       "output_type": "stream",
       "stream": "stdout",
       "text": [
        "\n",
        "generated 281.1 670"
       ]
      },
      {
       "output_type": "stream",
       "stream": "stdout",
       "text": [
        "\n",
        "generated 282.8 671"
       ]
      },
      {
       "output_type": "stream",
       "stream": "stdout",
       "text": [
        "\n",
        "generated 284.5 672"
       ]
      },
      {
       "output_type": "stream",
       "stream": "stdout",
       "text": [
        "\n",
        "generated 286.1 673"
       ]
      },
      {
       "output_type": "stream",
       "stream": "stdout",
       "text": [
        "\n",
        "generated 287.8 674"
       ]
      },
      {
       "output_type": "stream",
       "stream": "stdout",
       "text": [
        "\n",
        "generated 289.5 675"
       ]
      },
      {
       "output_type": "stream",
       "stream": "stdout",
       "text": [
        "\n",
        "generated 291.2 676"
       ]
      },
      {
       "output_type": "stream",
       "stream": "stdout",
       "text": [
        "\n",
        "generated 292.9 677"
       ]
      },
      {
       "output_type": "stream",
       "stream": "stdout",
       "text": [
        "\n",
        "generated 294.6 678"
       ]
      },
      {
       "output_type": "stream",
       "stream": "stdout",
       "text": [
        "\n",
        "generated 296.3 679"
       ]
      },
      {
       "output_type": "stream",
       "stream": "stdout",
       "text": [
        "\n",
        "generated 298.0 680"
       ]
      },
      {
       "output_type": "stream",
       "stream": "stdout",
       "text": [
        "\n",
        "generated 299.7 681"
       ]
      },
      {
       "output_type": "stream",
       "stream": "stdout",
       "text": [
        "\n",
        "generated 301.3 682"
       ]
      },
      {
       "output_type": "stream",
       "stream": "stdout",
       "text": [
        "\n",
        "generated 303.0 683"
       ]
      },
      {
       "output_type": "stream",
       "stream": "stdout",
       "text": [
        "\n",
        "generated 304.7 684"
       ]
      },
      {
       "output_type": "stream",
       "stream": "stdout",
       "text": [
        "\n",
        "generated 306.4 685"
       ]
      },
      {
       "output_type": "stream",
       "stream": "stdout",
       "text": [
        "\n",
        "generated 308.1 686"
       ]
      },
      {
       "output_type": "stream",
       "stream": "stdout",
       "text": [
        "\n",
        "generated 309.8 687"
       ]
      },
      {
       "output_type": "stream",
       "stream": "stdout",
       "text": [
        "\n",
        "generated 311.5 688"
       ]
      },
      {
       "output_type": "stream",
       "stream": "stdout",
       "text": [
        "\n",
        "generated 313.2 689"
       ]
      },
      {
       "output_type": "stream",
       "stream": "stdout",
       "text": [
        "\n",
        "generated 314.8 690"
       ]
      },
      {
       "output_type": "stream",
       "stream": "stdout",
       "text": [
        "\n",
        "generated 316.5 691"
       ]
      },
      {
       "output_type": "stream",
       "stream": "stdout",
       "text": [
        "\n",
        "generated 318.2 692"
       ]
      },
      {
       "output_type": "stream",
       "stream": "stdout",
       "text": [
        "\n",
        "generated 319.9 693"
       ]
      },
      {
       "output_type": "stream",
       "stream": "stdout",
       "text": [
        "\n",
        "generated 321.6 694"
       ]
      },
      {
       "output_type": "stream",
       "stream": "stdout",
       "text": [
        "\n",
        "generated 323.3 695"
       ]
      },
      {
       "output_type": "stream",
       "stream": "stdout",
       "text": [
        "\n",
        "generated 325.0 696"
       ]
      },
      {
       "output_type": "stream",
       "stream": "stdout",
       "text": [
        "\n",
        "generated 326.7 697"
       ]
      },
      {
       "output_type": "stream",
       "stream": "stdout",
       "text": [
        "\n",
        "generated 328.4 698"
       ]
      },
      {
       "output_type": "stream",
       "stream": "stdout",
       "text": [
        "\n",
        "generated 330.0 699"
       ]
      },
      {
       "output_type": "stream",
       "stream": "stdout",
       "text": [
        "\n",
        "generated 331.7 700"
       ]
      },
      {
       "output_type": "stream",
       "stream": "stdout",
       "text": [
        "\n",
        "generated 333.4 701"
       ]
      },
      {
       "output_type": "stream",
       "stream": "stdout",
       "text": [
        "\n",
        "generated 335.1 702"
       ]
      },
      {
       "output_type": "stream",
       "stream": "stdout",
       "text": [
        "\n",
        "generated 336.8 703"
       ]
      },
      {
       "output_type": "stream",
       "stream": "stdout",
       "text": [
        "\n",
        "generated 338.5 704"
       ]
      },
      {
       "output_type": "stream",
       "stream": "stdout",
       "text": [
        "\n",
        "generated 340.2 705"
       ]
      },
      {
       "output_type": "stream",
       "stream": "stdout",
       "text": [
        "\n",
        "generated 341.9 706"
       ]
      },
      {
       "output_type": "stream",
       "stream": "stdout",
       "text": [
        "\n",
        "generated 343.5 707"
       ]
      },
      {
       "output_type": "stream",
       "stream": "stdout",
       "text": [
        "\n",
        "generated 345.2 708"
       ]
      },
      {
       "output_type": "stream",
       "stream": "stdout",
       "text": [
        "\n",
        "generated 346.9 709"
       ]
      },
      {
       "output_type": "stream",
       "stream": "stdout",
       "text": [
        "\n",
        "generated 348.6 710"
       ]
      },
      {
       "output_type": "stream",
       "stream": "stdout",
       "text": [
        "\n",
        "generated 350.3 711"
       ]
      },
      {
       "output_type": "stream",
       "stream": "stdout",
       "text": [
        "\n",
        "generated 352.0 712"
       ]
      },
      {
       "output_type": "stream",
       "stream": "stdout",
       "text": [
        "\n",
        "generated 353.7 713"
       ]
      },
      {
       "output_type": "stream",
       "stream": "stdout",
       "text": [
        "\n",
        "generated 355.4 714"
       ]
      },
      {
       "output_type": "stream",
       "stream": "stdout",
       "text": [
        "\n",
        "generated 357.1 715"
       ]
      },
      {
       "output_type": "stream",
       "stream": "stdout",
       "text": [
        "\n",
        "generated 358.7 716"
       ]
      },
      {
       "output_type": "stream",
       "stream": "stdout",
       "text": [
        "\n",
        "generated 360.4 717"
       ]
      },
      {
       "output_type": "stream",
       "stream": "stdout",
       "text": [
        "\n",
        "generated 362.1 718"
       ]
      },
      {
       "output_type": "stream",
       "stream": "stdout",
       "text": [
        "\n",
        "generated 363.8 719"
       ]
      },
      {
       "output_type": "stream",
       "stream": "stdout",
       "text": [
        "\n",
        "generated 365.5 720"
       ]
      },
      {
       "output_type": "stream",
       "stream": "stdout",
       "text": [
        "\n",
        "generated 367.2 721"
       ]
      },
      {
       "output_type": "stream",
       "stream": "stdout",
       "text": [
        "\n",
        "generated 368.9 722"
       ]
      },
      {
       "output_type": "stream",
       "stream": "stdout",
       "text": [
        "\n",
        "generated 370.6 723"
       ]
      },
      {
       "output_type": "stream",
       "stream": "stdout",
       "text": [
        "\n",
        "generated 372.2 724"
       ]
      },
      {
       "output_type": "stream",
       "stream": "stdout",
       "text": [
        "\n",
        "generated 373.9 725"
       ]
      },
      {
       "output_type": "stream",
       "stream": "stdout",
       "text": [
        "\n",
        "generated 375.6 726"
       ]
      },
      {
       "output_type": "stream",
       "stream": "stdout",
       "text": [
        "\n",
        "generated 377.3 727"
       ]
      },
      {
       "output_type": "stream",
       "stream": "stdout",
       "text": [
        "\n",
        "generated 379.0 728"
       ]
      },
      {
       "output_type": "stream",
       "stream": "stdout",
       "text": [
        "\n",
        "generated 380.7 729"
       ]
      },
      {
       "output_type": "stream",
       "stream": "stdout",
       "text": [
        "\n",
        "generated 382.4 730"
       ]
      },
      {
       "output_type": "stream",
       "stream": "stdout",
       "text": [
        "\n",
        "generated 384.1 731"
       ]
      },
      {
       "output_type": "stream",
       "stream": "stdout",
       "text": [
        "\n",
        "generated 385.7 732"
       ]
      },
      {
       "output_type": "stream",
       "stream": "stdout",
       "text": [
        "\n",
        "generated 387.4 733"
       ]
      },
      {
       "output_type": "stream",
       "stream": "stdout",
       "text": [
        "\n",
        "generated 389.1 734"
       ]
      },
      {
       "output_type": "stream",
       "stream": "stdout",
       "text": [
        "\n",
        "generated 390.8 735"
       ]
      },
      {
       "output_type": "stream",
       "stream": "stdout",
       "text": [
        "\n",
        "generated 392.5 736"
       ]
      },
      {
       "output_type": "stream",
       "stream": "stdout",
       "text": [
        "\n",
        "generated 394.2 737"
       ]
      },
      {
       "output_type": "stream",
       "stream": "stdout",
       "text": [
        "\n",
        "generated 395.9 738"
       ]
      },
      {
       "output_type": "stream",
       "stream": "stdout",
       "text": [
        "\n",
        "generated 397.6 739"
       ]
      },
      {
       "output_type": "stream",
       "stream": "stdout",
       "text": [
        "\n",
        "generated 399.3 740"
       ]
      },
      {
       "output_type": "stream",
       "stream": "stdout",
       "text": [
        "\n",
        "generated 400.9 741"
       ]
      },
      {
       "output_type": "stream",
       "stream": "stdout",
       "text": [
        "\n",
        "generated 402.6 742"
       ]
      },
      {
       "output_type": "stream",
       "stream": "stdout",
       "text": [
        "\n",
        "generated 404.3 743"
       ]
      },
      {
       "output_type": "stream",
       "stream": "stdout",
       "text": [
        "\n",
        "generated 406.0 744"
       ]
      },
      {
       "output_type": "stream",
       "stream": "stdout",
       "text": [
        "\n",
        "generated 407.7 745"
       ]
      },
      {
       "output_type": "stream",
       "stream": "stdout",
       "text": [
        "\n",
        "generated 409.4 746"
       ]
      },
      {
       "output_type": "stream",
       "stream": "stdout",
       "text": [
        "\n",
        "generated 411.1 747"
       ]
      },
      {
       "output_type": "stream",
       "stream": "stdout",
       "text": [
        "\n",
        "generated 412.8 748"
       ]
      },
      {
       "output_type": "stream",
       "stream": "stdout",
       "text": [
        "\n",
        "generated 414.4 749"
       ]
      },
      {
       "output_type": "stream",
       "stream": "stdout",
       "text": [
        "\n",
        "generated 416.1 750"
       ]
      },
      {
       "output_type": "stream",
       "stream": "stdout",
       "text": [
        "\n",
        "generated 417.8 751"
       ]
      },
      {
       "output_type": "stream",
       "stream": "stdout",
       "text": [
        "\n",
        "generated 419.5 752"
       ]
      },
      {
       "output_type": "stream",
       "stream": "stdout",
       "text": [
        "\n",
        "generated 421.2 753"
       ]
      },
      {
       "output_type": "stream",
       "stream": "stdout",
       "text": [
        "\n",
        "generated 422.9 754"
       ]
      },
      {
       "output_type": "stream",
       "stream": "stdout",
       "text": [
        "\n",
        "generated 424.6 755"
       ]
      },
      {
       "output_type": "stream",
       "stream": "stdout",
       "text": [
        "\n",
        "generated 426.3 756"
       ]
      },
      {
       "output_type": "stream",
       "stream": "stdout",
       "text": [
        "\n",
        "generated 428.0 757"
       ]
      },
      {
       "output_type": "stream",
       "stream": "stdout",
       "text": [
        "\n",
        "generated 429.6 758"
       ]
      },
      {
       "output_type": "stream",
       "stream": "stdout",
       "text": [
        "\n",
        "generated 431.3 759"
       ]
      },
      {
       "output_type": "stream",
       "stream": "stdout",
       "text": [
        "\n",
        "generated 433.0 760"
       ]
      },
      {
       "output_type": "stream",
       "stream": "stdout",
       "text": [
        "\n",
        "generated 434.7 761"
       ]
      },
      {
       "output_type": "stream",
       "stream": "stdout",
       "text": [
        "\n",
        "generated 436.4 762"
       ]
      },
      {
       "output_type": "stream",
       "stream": "stdout",
       "text": [
        "\n",
        "generated 438.1 763"
       ]
      },
      {
       "output_type": "stream",
       "stream": "stdout",
       "text": [
        "\n",
        "generated 439.8 764"
       ]
      },
      {
       "output_type": "stream",
       "stream": "stdout",
       "text": [
        "\n",
        "generated 441.5 765"
       ]
      },
      {
       "output_type": "stream",
       "stream": "stdout",
       "text": [
        "\n",
        "generated 443.1 766"
       ]
      },
      {
       "output_type": "stream",
       "stream": "stdout",
       "text": [
        "\n",
        "generated 444.8 767"
       ]
      },
      {
       "output_type": "stream",
       "stream": "stdout",
       "text": [
        "\n",
        "generated 446.5 768"
       ]
      },
      {
       "output_type": "stream",
       "stream": "stdout",
       "text": [
        "\n",
        "generated 448.2 769"
       ]
      },
      {
       "output_type": "stream",
       "stream": "stdout",
       "text": [
        "\n",
        "generated 449.9 770"
       ]
      },
      {
       "output_type": "stream",
       "stream": "stdout",
       "text": [
        "\n",
        "generated 451.6 771"
       ]
      },
      {
       "output_type": "stream",
       "stream": "stdout",
       "text": [
        "\n",
        "generated 453.3 772"
       ]
      },
      {
       "output_type": "stream",
       "stream": "stdout",
       "text": [
        "\n",
        "generated 455.0 773"
       ]
      },
      {
       "output_type": "stream",
       "stream": "stdout",
       "text": [
        "\n",
        "generated 456.7 774"
       ]
      },
      {
       "output_type": "stream",
       "stream": "stdout",
       "text": [
        "\n",
        "generated 458.3 775"
       ]
      },
      {
       "output_type": "stream",
       "stream": "stdout",
       "text": [
        "\n",
        "generated 460.0 776"
       ]
      },
      {
       "output_type": "stream",
       "stream": "stdout",
       "text": [
        "\n",
        "generated 461.7 777"
       ]
      },
      {
       "output_type": "stream",
       "stream": "stdout",
       "text": [
        "\n",
        "generated 463.4 778"
       ]
      },
      {
       "output_type": "stream",
       "stream": "stdout",
       "text": [
        "\n",
        "generated 465.1 779"
       ]
      },
      {
       "output_type": "stream",
       "stream": "stdout",
       "text": [
        "\n",
        "generated 466.8 780"
       ]
      },
      {
       "output_type": "stream",
       "stream": "stdout",
       "text": [
        "\n",
        "generated 468.5 781"
       ]
      },
      {
       "output_type": "stream",
       "stream": "stdout",
       "text": [
        "\n",
        "generated 470.2 782"
       ]
      },
      {
       "output_type": "stream",
       "stream": "stdout",
       "text": [
        "\n",
        "generated 471.8 783"
       ]
      },
      {
       "output_type": "stream",
       "stream": "stdout",
       "text": [
        "\n",
        "generated 473.5 784"
       ]
      },
      {
       "output_type": "stream",
       "stream": "stdout",
       "text": [
        "\n",
        "generated 475.2 785"
       ]
      },
      {
       "output_type": "stream",
       "stream": "stdout",
       "text": [
        "\n",
        "generated 476.9 786"
       ]
      },
      {
       "output_type": "stream",
       "stream": "stdout",
       "text": [
        "\n",
        "generated 478.6 787"
       ]
      },
      {
       "output_type": "stream",
       "stream": "stdout",
       "text": [
        "\n",
        "generated 480.3 788"
       ]
      },
      {
       "output_type": "stream",
       "stream": "stdout",
       "text": [
        "\n",
        "generated 482.0 789"
       ]
      },
      {
       "output_type": "stream",
       "stream": "stdout",
       "text": [
        "\n",
        "generated 483.7 790"
       ]
      },
      {
       "output_type": "stream",
       "stream": "stdout",
       "text": [
        "\n",
        "generated 485.4 791"
       ]
      },
      {
       "output_type": "stream",
       "stream": "stdout",
       "text": [
        "\n",
        "generated 487.0 792"
       ]
      },
      {
       "output_type": "stream",
       "stream": "stdout",
       "text": [
        "\n",
        "generated 488.7 793"
       ]
      },
      {
       "output_type": "stream",
       "stream": "stdout",
       "text": [
        "\n",
        "generated 490.4 794"
       ]
      },
      {
       "output_type": "stream",
       "stream": "stdout",
       "text": [
        "\n",
        "generated 492.1 795"
       ]
      },
      {
       "output_type": "stream",
       "stream": "stdout",
       "text": [
        "\n",
        "generated 493.8 796"
       ]
      },
      {
       "output_type": "stream",
       "stream": "stdout",
       "text": [
        "\n",
        "generated 495.5 797"
       ]
      },
      {
       "output_type": "stream",
       "stream": "stdout",
       "text": [
        "\n",
        "generated 497.2 798"
       ]
      },
      {
       "output_type": "stream",
       "stream": "stdout",
       "text": [
        "\n",
        "generated 498.9 799"
       ]
      },
      {
       "output_type": "stream",
       "stream": "stdout",
       "text": [
        "\n",
        "generated 500.5 800"
       ]
      },
      {
       "output_type": "stream",
       "stream": "stdout",
       "text": [
        "\n",
        "generated 502.2 801"
       ]
      },
      {
       "output_type": "stream",
       "stream": "stdout",
       "text": [
        "\n",
        "generated 503.9 802"
       ]
      },
      {
       "output_type": "stream",
       "stream": "stdout",
       "text": [
        "\n",
        "generated 505.6 803"
       ]
      },
      {
       "output_type": "stream",
       "stream": "stdout",
       "text": [
        "\n",
        "generated 507.3 804"
       ]
      },
      {
       "output_type": "stream",
       "stream": "stdout",
       "text": [
        "\n",
        "generated 509.0 805"
       ]
      },
      {
       "output_type": "stream",
       "stream": "stdout",
       "text": [
        "\n",
        "generated 510.7 806"
       ]
      },
      {
       "output_type": "stream",
       "stream": "stdout",
       "text": [
        "\n",
        "generated 512.4 807"
       ]
      },
      {
       "output_type": "stream",
       "stream": "stdout",
       "text": [
        "\n",
        "generated 514.1 808"
       ]
      },
      {
       "output_type": "stream",
       "stream": "stdout",
       "text": [
        "\n",
        "generated 515.7 809"
       ]
      },
      {
       "output_type": "stream",
       "stream": "stdout",
       "text": [
        "\n",
        "generated 517.4 810"
       ]
      },
      {
       "output_type": "stream",
       "stream": "stdout",
       "text": [
        "\n",
        "generated 519.1 811"
       ]
      },
      {
       "output_type": "stream",
       "stream": "stdout",
       "text": [
        "\n",
        "generated 520.8 812"
       ]
      },
      {
       "output_type": "stream",
       "stream": "stdout",
       "text": [
        "\n",
        "generated 522.5 813"
       ]
      },
      {
       "output_type": "stream",
       "stream": "stdout",
       "text": [
        "\n",
        "generated 524.2 814"
       ]
      },
      {
       "output_type": "stream",
       "stream": "stdout",
       "text": [
        "\n",
        "generated 525.9 815"
       ]
      },
      {
       "output_type": "stream",
       "stream": "stdout",
       "text": [
        "\n",
        "generated 527.6 816"
       ]
      },
      {
       "output_type": "stream",
       "stream": "stdout",
       "text": [
        "\n",
        "generated 529.2 817"
       ]
      },
      {
       "output_type": "stream",
       "stream": "stdout",
       "text": [
        "\n",
        "generated 530.9 818"
       ]
      },
      {
       "output_type": "stream",
       "stream": "stdout",
       "text": [
        "\n",
        "generated 532.6 819"
       ]
      },
      {
       "output_type": "stream",
       "stream": "stdout",
       "text": [
        "\n",
        "generated 534.3 820"
       ]
      },
      {
       "output_type": "stream",
       "stream": "stdout",
       "text": [
        "\n",
        "generated 536.0 821"
       ]
      },
      {
       "output_type": "stream",
       "stream": "stdout",
       "text": [
        "\n",
        "generated 537.7 822"
       ]
      },
      {
       "output_type": "stream",
       "stream": "stdout",
       "text": [
        "\n",
        "generated 539.4 823"
       ]
      },
      {
       "output_type": "stream",
       "stream": "stdout",
       "text": [
        "\n",
        "generated 541.1 824"
       ]
      },
      {
       "output_type": "stream",
       "stream": "stdout",
       "text": [
        "\n",
        "generated 542.8 825"
       ]
      },
      {
       "output_type": "stream",
       "stream": "stdout",
       "text": [
        "\n",
        "generated 544.4 826"
       ]
      },
      {
       "output_type": "stream",
       "stream": "stdout",
       "text": [
        "\n",
        "generated 546.1 827"
       ]
      },
      {
       "output_type": "stream",
       "stream": "stdout",
       "text": [
        "\n",
        "generated 547.8 828"
       ]
      },
      {
       "output_type": "stream",
       "stream": "stdout",
       "text": [
        "\n",
        "generated 549.5 829"
       ]
      },
      {
       "output_type": "stream",
       "stream": "stdout",
       "text": [
        "\n",
        "generated 551.2 830"
       ]
      },
      {
       "output_type": "stream",
       "stream": "stdout",
       "text": [
        "\n",
        "generated 552.9 831"
       ]
      },
      {
       "output_type": "stream",
       "stream": "stdout",
       "text": [
        "\n",
        "generated 554.6 832"
       ]
      },
      {
       "output_type": "stream",
       "stream": "stdout",
       "text": [
        "\n",
        "generated 556.3 833"
       ]
      },
      {
       "output_type": "stream",
       "stream": "stdout",
       "text": [
        "\n",
        "generated 557.9 834"
       ]
      },
      {
       "output_type": "stream",
       "stream": "stdout",
       "text": [
        "\n",
        "generated 559.6 835"
       ]
      },
      {
       "output_type": "stream",
       "stream": "stdout",
       "text": [
        "\n",
        "generated 561.3 836"
       ]
      },
      {
       "output_type": "stream",
       "stream": "stdout",
       "text": [
        "\n",
        "generated 563.0 837"
       ]
      },
      {
       "output_type": "stream",
       "stream": "stdout",
       "text": [
        "\n",
        "generated 564.7 838"
       ]
      },
      {
       "output_type": "stream",
       "stream": "stdout",
       "text": [
        "\n",
        "generated 566.4 839"
       ]
      },
      {
       "output_type": "stream",
       "stream": "stdout",
       "text": [
        "\n",
        "generated 568.1 840"
       ]
      },
      {
       "output_type": "stream",
       "stream": "stdout",
       "text": [
        "\n",
        "generated 569.8 841"
       ]
      },
      {
       "output_type": "stream",
       "stream": "stdout",
       "text": [
        "\n",
        "generated 571.4 842"
       ]
      },
      {
       "output_type": "stream",
       "stream": "stdout",
       "text": [
        "\n",
        "generated 573.1 843"
       ]
      },
      {
       "output_type": "stream",
       "stream": "stdout",
       "text": [
        "\n",
        "generated 574.8 844"
       ]
      },
      {
       "output_type": "stream",
       "stream": "stdout",
       "text": [
        "\n",
        "generated 576.5 845"
       ]
      },
      {
       "output_type": "stream",
       "stream": "stdout",
       "text": [
        "\n",
        "generated 578.2 846"
       ]
      },
      {
       "output_type": "stream",
       "stream": "stdout",
       "text": [
        "\n",
        "generated 579.9 847"
       ]
      },
      {
       "output_type": "stream",
       "stream": "stdout",
       "text": [
        "\n",
        "generated 581.6 848"
       ]
      },
      {
       "output_type": "stream",
       "stream": "stdout",
       "text": [
        "\n",
        "generated 583.3 849"
       ]
      },
      {
       "output_type": "stream",
       "stream": "stdout",
       "text": [
        "\n",
        "generated 585.0 850"
       ]
      },
      {
       "output_type": "stream",
       "stream": "stdout",
       "text": [
        "\n",
        "generated 586.6 851"
       ]
      },
      {
       "output_type": "stream",
       "stream": "stdout",
       "text": [
        "\n",
        "generated 588.3 852"
       ]
      },
      {
       "output_type": "stream",
       "stream": "stdout",
       "text": [
        "\n",
        "generated 590.0 853"
       ]
      },
      {
       "output_type": "stream",
       "stream": "stdout",
       "text": [
        "\n",
        "generated 591.7 854"
       ]
      },
      {
       "output_type": "stream",
       "stream": "stdout",
       "text": [
        "\n",
        "generated 593.4 855"
       ]
      },
      {
       "output_type": "stream",
       "stream": "stdout",
       "text": [
        "\n",
        "generated 595.1 856"
       ]
      },
      {
       "output_type": "stream",
       "stream": "stdout",
       "text": [
        "\n",
        "generated 596.8 857"
       ]
      },
      {
       "output_type": "stream",
       "stream": "stdout",
       "text": [
        "\n",
        "generated 598.5 858"
       ]
      },
      {
       "output_type": "stream",
       "stream": "stdout",
       "text": [
        "\n",
        "generated 600.1 859"
       ]
      },
      {
       "output_type": "stream",
       "stream": "stdout",
       "text": [
        "\n",
        "generated 601.8 860"
       ]
      },
      {
       "output_type": "stream",
       "stream": "stdout",
       "text": [
        "\n",
        "generated 603.5 861"
       ]
      },
      {
       "output_type": "stream",
       "stream": "stdout",
       "text": [
        "\n",
        "generated 605.2 862"
       ]
      },
      {
       "output_type": "stream",
       "stream": "stdout",
       "text": [
        "\n",
        "generated 606.9 863"
       ]
      },
      {
       "output_type": "stream",
       "stream": "stdout",
       "text": [
        "\n",
        "generated 608.6 864"
       ]
      },
      {
       "output_type": "stream",
       "stream": "stdout",
       "text": [
        "\n",
        "generated 610.3 865"
       ]
      },
      {
       "output_type": "stream",
       "stream": "stdout",
       "text": [
        "\n",
        "generated 612.0 866"
       ]
      },
      {
       "output_type": "stream",
       "stream": "stdout",
       "text": [
        "\n",
        "generated 613.7 867"
       ]
      },
      {
       "output_type": "stream",
       "stream": "stdout",
       "text": [
        "\n",
        "generated 615.3 868"
       ]
      },
      {
       "output_type": "stream",
       "stream": "stdout",
       "text": [
        "\n",
        "generated 617.0 869"
       ]
      },
      {
       "output_type": "stream",
       "stream": "stdout",
       "text": [
        "\n",
        "generated 618.7 870"
       ]
      },
      {
       "output_type": "stream",
       "stream": "stdout",
       "text": [
        "\n",
        "generated 620.4 871"
       ]
      },
      {
       "output_type": "stream",
       "stream": "stdout",
       "text": [
        "\n",
        "generated 622.1 872"
       ]
      },
      {
       "output_type": "stream",
       "stream": "stdout",
       "text": [
        "\n",
        "generated 623.8 873"
       ]
      },
      {
       "output_type": "stream",
       "stream": "stdout",
       "text": [
        "\n",
        "generated 625.5 874"
       ]
      },
      {
       "output_type": "stream",
       "stream": "stdout",
       "text": [
        "\n",
        "generated 627.2 875"
       ]
      },
      {
       "output_type": "stream",
       "stream": "stdout",
       "text": [
        "\n",
        "generated 628.8 876"
       ]
      },
      {
       "output_type": "stream",
       "stream": "stdout",
       "text": [
        "\n",
        "generated 630.5 877"
       ]
      },
      {
       "output_type": "stream",
       "stream": "stdout",
       "text": [
        "\n",
        "generated 632.2 878"
       ]
      },
      {
       "output_type": "stream",
       "stream": "stdout",
       "text": [
        "\n",
        "generated 633.9 879"
       ]
      },
      {
       "output_type": "stream",
       "stream": "stdout",
       "text": [
        "\n",
        "generated 635.6 880"
       ]
      },
      {
       "output_type": "stream",
       "stream": "stdout",
       "text": [
        "\n",
        "generated 637.3 881"
       ]
      },
      {
       "output_type": "stream",
       "stream": "stdout",
       "text": [
        "\n",
        "generated 639.0 882"
       ]
      },
      {
       "output_type": "stream",
       "stream": "stdout",
       "text": [
        "\n",
        "generated 640.7 883"
       ]
      },
      {
       "output_type": "stream",
       "stream": "stdout",
       "text": [
        "\n",
        "generated 642.4 884"
       ]
      },
      {
       "output_type": "stream",
       "stream": "stdout",
       "text": [
        "\n",
        "generated 644.0 885"
       ]
      },
      {
       "output_type": "stream",
       "stream": "stdout",
       "text": [
        "\n",
        "generated 645.7 886"
       ]
      },
      {
       "output_type": "stream",
       "stream": "stdout",
       "text": [
        "\n",
        "generated 647.4 887"
       ]
      },
      {
       "output_type": "stream",
       "stream": "stdout",
       "text": [
        "\n",
        "generated 649.1 888"
       ]
      },
      {
       "output_type": "stream",
       "stream": "stdout",
       "text": [
        "\n",
        "generated 650.8 889"
       ]
      },
      {
       "output_type": "stream",
       "stream": "stdout",
       "text": [
        "\n",
        "generated 652.5 890"
       ]
      },
      {
       "output_type": "stream",
       "stream": "stdout",
       "text": [
        "\n",
        "generated 654.2 891"
       ]
      },
      {
       "output_type": "stream",
       "stream": "stdout",
       "text": [
        "\n",
        "generated 655.9 892"
       ]
      },
      {
       "output_type": "stream",
       "stream": "stdout",
       "text": [
        "\n",
        "generated 657.5 893"
       ]
      },
      {
       "output_type": "stream",
       "stream": "stdout",
       "text": [
        "\n",
        "generated 659.2 894"
       ]
      },
      {
       "output_type": "stream",
       "stream": "stdout",
       "text": [
        "\n",
        "generated 660.9 895"
       ]
      },
      {
       "output_type": "stream",
       "stream": "stdout",
       "text": [
        "\n",
        "generated 662.6 896"
       ]
      },
      {
       "output_type": "stream",
       "stream": "stdout",
       "text": [
        "\n",
        "generated 664.3 897"
       ]
      },
      {
       "output_type": "stream",
       "stream": "stdout",
       "text": [
        "\n",
        "generated 666.0 898"
       ]
      },
      {
       "output_type": "stream",
       "stream": "stdout",
       "text": [
        "\n",
        "generated 667.7 899"
       ]
      },
      {
       "output_type": "stream",
       "stream": "stdout",
       "text": [
        "\n",
        "generated 669.4 900"
       ]
      },
      {
       "output_type": "stream",
       "stream": "stdout",
       "text": [
        "\n",
        "generated 671.1 901"
       ]
      },
      {
       "output_type": "stream",
       "stream": "stdout",
       "text": [
        "\n",
        "generated 672.7 902"
       ]
      },
      {
       "output_type": "stream",
       "stream": "stdout",
       "text": [
        "\n",
        "generated 674.4 903"
       ]
      },
      {
       "output_type": "stream",
       "stream": "stdout",
       "text": [
        "\n",
        "generated 676.1 904"
       ]
      },
      {
       "output_type": "stream",
       "stream": "stdout",
       "text": [
        "\n",
        "generated 677.8 905"
       ]
      },
      {
       "output_type": "stream",
       "stream": "stdout",
       "text": [
        "\n",
        "generated 679.5 906"
       ]
      },
      {
       "output_type": "stream",
       "stream": "stdout",
       "text": [
        "\n",
        "generated 681.2 907"
       ]
      },
      {
       "output_type": "stream",
       "stream": "stdout",
       "text": [
        "\n",
        "generated 682.9 908"
       ]
      },
      {
       "output_type": "stream",
       "stream": "stdout",
       "text": [
        "\n",
        "generated 684.6 909"
       ]
      },
      {
       "output_type": "stream",
       "stream": "stdout",
       "text": [
        "\n",
        "generated 686.2 910"
       ]
      },
      {
       "output_type": "stream",
       "stream": "stdout",
       "text": [
        "\n",
        "generated 687.9 911"
       ]
      },
      {
       "output_type": "stream",
       "stream": "stdout",
       "text": [
        "\n",
        "generated 689.6 912"
       ]
      },
      {
       "output_type": "stream",
       "stream": "stdout",
       "text": [
        "\n",
        "generated 691.3 913"
       ]
      },
      {
       "output_type": "stream",
       "stream": "stdout",
       "text": [
        "\n",
        "generated 693.0 914"
       ]
      },
      {
       "output_type": "stream",
       "stream": "stdout",
       "text": [
        "\n",
        "generated 694.7 915"
       ]
      },
      {
       "output_type": "stream",
       "stream": "stdout",
       "text": [
        "\n",
        "generated 696.4 916"
       ]
      },
      {
       "output_type": "stream",
       "stream": "stdout",
       "text": [
        "\n",
        "generated 698.1 917"
       ]
      },
      {
       "output_type": "stream",
       "stream": "stdout",
       "text": [
        "\n",
        "generated 699.8 918"
       ]
      },
      {
       "output_type": "stream",
       "stream": "stdout",
       "text": [
        "\n",
        "generated 701.4 919"
       ]
      },
      {
       "output_type": "stream",
       "stream": "stdout",
       "text": [
        "\n",
        "generated 703.1 920"
       ]
      },
      {
       "output_type": "stream",
       "stream": "stdout",
       "text": [
        "\n",
        "generated 704.8 921"
       ]
      },
      {
       "output_type": "stream",
       "stream": "stdout",
       "text": [
        "\n",
        "generated 706.5 922"
       ]
      },
      {
       "output_type": "stream",
       "stream": "stdout",
       "text": [
        "\n",
        "generated 708.2 923"
       ]
      },
      {
       "output_type": "stream",
       "stream": "stdout",
       "text": [
        "\n",
        "generated 709.9 924"
       ]
      },
      {
       "output_type": "stream",
       "stream": "stdout",
       "text": [
        "\n",
        "generated 711.6 925"
       ]
      },
      {
       "output_type": "stream",
       "stream": "stdout",
       "text": [
        "\n",
        "generated 713.3 926"
       ]
      },
      {
       "output_type": "stream",
       "stream": "stdout",
       "text": [
        "\n",
        "generated 714.9 927"
       ]
      },
      {
       "output_type": "stream",
       "stream": "stdout",
       "text": [
        "\n",
        "generated 716.6 928"
       ]
      },
      {
       "output_type": "stream",
       "stream": "stdout",
       "text": [
        "\n",
        "generated 718.3 929"
       ]
      },
      {
       "output_type": "stream",
       "stream": "stdout",
       "text": [
        "\n",
        "generated 720.0 930"
       ]
      },
      {
       "output_type": "stream",
       "stream": "stdout",
       "text": [
        "\n",
        "generated 721.7 931"
       ]
      },
      {
       "output_type": "stream",
       "stream": "stdout",
       "text": [
        "\n",
        "generated 723.4 932"
       ]
      },
      {
       "output_type": "stream",
       "stream": "stdout",
       "text": [
        "\n",
        "generated 725.1 933"
       ]
      },
      {
       "output_type": "stream",
       "stream": "stdout",
       "text": [
        "\n",
        "generated 726.8 934"
       ]
      },
      {
       "output_type": "stream",
       "stream": "stdout",
       "text": [
        "\n",
        "generated 728.5 935"
       ]
      },
      {
       "output_type": "stream",
       "stream": "stdout",
       "text": [
        "\n",
        "generated 730.1 936"
       ]
      },
      {
       "output_type": "stream",
       "stream": "stdout",
       "text": [
        "\n",
        "generated 731.8 937"
       ]
      },
      {
       "output_type": "stream",
       "stream": "stdout",
       "text": [
        "\n",
        "generated 733.5 938"
       ]
      },
      {
       "output_type": "stream",
       "stream": "stdout",
       "text": [
        "\n",
        "generated 735.2 939"
       ]
      },
      {
       "output_type": "stream",
       "stream": "stdout",
       "text": [
        "\n",
        "generated 736.9 940"
       ]
      },
      {
       "output_type": "stream",
       "stream": "stdout",
       "text": [
        "\n",
        "generated 738.6 941"
       ]
      },
      {
       "output_type": "stream",
       "stream": "stdout",
       "text": [
        "\n",
        "generated 740.3 942"
       ]
      },
      {
       "output_type": "stream",
       "stream": "stdout",
       "text": [
        "\n",
        "generated 742.0 943"
       ]
      },
      {
       "output_type": "stream",
       "stream": "stdout",
       "text": [
        "\n",
        "generated 743.6 944"
       ]
      },
      {
       "output_type": "stream",
       "stream": "stdout",
       "text": [
        "\n",
        "generated 745.3 945"
       ]
      },
      {
       "output_type": "stream",
       "stream": "stdout",
       "text": [
        "\n",
        "generated 747.0 946"
       ]
      },
      {
       "output_type": "stream",
       "stream": "stdout",
       "text": [
        "\n",
        "generated 748.7 947"
       ]
      },
      {
       "output_type": "stream",
       "stream": "stdout",
       "text": [
        "\n",
        "generated 750.4 948"
       ]
      },
      {
       "output_type": "stream",
       "stream": "stdout",
       "text": [
        "\n",
        "generated 752.1 949"
       ]
      },
      {
       "output_type": "stream",
       "stream": "stdout",
       "text": [
        "\n",
        "generated 753.8 950"
       ]
      },
      {
       "output_type": "stream",
       "stream": "stdout",
       "text": [
        "\n",
        "generated 755.5 951"
       ]
      },
      {
       "output_type": "stream",
       "stream": "stdout",
       "text": [
        "\n",
        "generated 757.1 952"
       ]
      },
      {
       "output_type": "stream",
       "stream": "stdout",
       "text": [
        "\n",
        "generated 758.8 953"
       ]
      },
      {
       "output_type": "stream",
       "stream": "stdout",
       "text": [
        "\n",
        "generated 760.5 954"
       ]
      },
      {
       "output_type": "stream",
       "stream": "stdout",
       "text": [
        "\n",
        "generated 762.2 955"
       ]
      },
      {
       "output_type": "stream",
       "stream": "stdout",
       "text": [
        "\n",
        "generated 763.9 956"
       ]
      },
      {
       "output_type": "stream",
       "stream": "stdout",
       "text": [
        "\n",
        "generated 765.6 957"
       ]
      },
      {
       "output_type": "stream",
       "stream": "stdout",
       "text": [
        "\n",
        "generated 767.3 958"
       ]
      },
      {
       "output_type": "stream",
       "stream": "stdout",
       "text": [
        "\n",
        "generated 769.0 959"
       ]
      },
      {
       "output_type": "stream",
       "stream": "stdout",
       "text": [
        "\n",
        "generated 770.7 960"
       ]
      },
      {
       "output_type": "stream",
       "stream": "stdout",
       "text": [
        "\n",
        "generated 772.3 961"
       ]
      },
      {
       "output_type": "stream",
       "stream": "stdout",
       "text": [
        "\n",
        "generated 774.0 962"
       ]
      },
      {
       "output_type": "stream",
       "stream": "stdout",
       "text": [
        "\n",
        "generated 775.7 963"
       ]
      },
      {
       "output_type": "stream",
       "stream": "stdout",
       "text": [
        "\n",
        "generated 777.4 964"
       ]
      },
      {
       "output_type": "stream",
       "stream": "stdout",
       "text": [
        "\n",
        "generated 779.1 965"
       ]
      },
      {
       "output_type": "stream",
       "stream": "stdout",
       "text": [
        "\n",
        "generated 780.8 966"
       ]
      },
      {
       "output_type": "stream",
       "stream": "stdout",
       "text": [
        "\n",
        "generated 782.5 967"
       ]
      },
      {
       "output_type": "stream",
       "stream": "stdout",
       "text": [
        "\n",
        "generated 784.2 968"
       ]
      },
      {
       "output_type": "stream",
       "stream": "stdout",
       "text": [
        "\n",
        "generated 785.8 969"
       ]
      },
      {
       "output_type": "stream",
       "stream": "stdout",
       "text": [
        "\n",
        "generated 787.5 970"
       ]
      },
      {
       "output_type": "stream",
       "stream": "stdout",
       "text": [
        "\n",
        "generated 789.2 971"
       ]
      },
      {
       "output_type": "stream",
       "stream": "stdout",
       "text": [
        "\n",
        "generated 790.9 972"
       ]
      },
      {
       "output_type": "stream",
       "stream": "stdout",
       "text": [
        "\n",
        "generated 792.6 973"
       ]
      },
      {
       "output_type": "stream",
       "stream": "stdout",
       "text": [
        "\n",
        "generated 794.3 974"
       ]
      },
      {
       "output_type": "stream",
       "stream": "stdout",
       "text": [
        "\n",
        "generated 796.0 975"
       ]
      },
      {
       "output_type": "stream",
       "stream": "stdout",
       "text": [
        "\n",
        "generated 797.7 976"
       ]
      },
      {
       "output_type": "stream",
       "stream": "stdout",
       "text": [
        "\n",
        "generated 799.4 977"
       ]
      },
      {
       "output_type": "stream",
       "stream": "stdout",
       "text": [
        "\n",
        "generated 801.0 978"
       ]
      },
      {
       "output_type": "stream",
       "stream": "stdout",
       "text": [
        "\n",
        "generated 802.7 979"
       ]
      },
      {
       "output_type": "stream",
       "stream": "stdout",
       "text": [
        "\n",
        "generated 804.4 980"
       ]
      },
      {
       "output_type": "stream",
       "stream": "stdout",
       "text": [
        "\n",
        "generated 806.1 981"
       ]
      },
      {
       "output_type": "stream",
       "stream": "stdout",
       "text": [
        "\n",
        "generated 807.8 982"
       ]
      },
      {
       "output_type": "stream",
       "stream": "stdout",
       "text": [
        "\n",
        "generated 809.5 983"
       ]
      },
      {
       "output_type": "stream",
       "stream": "stdout",
       "text": [
        "\n",
        "generated 811.2 984"
       ]
      },
      {
       "output_type": "stream",
       "stream": "stdout",
       "text": [
        "\n",
        "generated 812.9 985"
       ]
      },
      {
       "output_type": "stream",
       "stream": "stdout",
       "text": [
        "\n",
        "generated 814.5 986"
       ]
      },
      {
       "output_type": "stream",
       "stream": "stdout",
       "text": [
        "\n",
        "generated 816.2 987"
       ]
      },
      {
       "output_type": "stream",
       "stream": "stdout",
       "text": [
        "\n",
        "generated 817.9 988"
       ]
      },
      {
       "output_type": "stream",
       "stream": "stdout",
       "text": [
        "\n",
        "generated 819.6 989"
       ]
      },
      {
       "output_type": "stream",
       "stream": "stdout",
       "text": [
        "\n",
        "generated 821.3 990"
       ]
      },
      {
       "output_type": "stream",
       "stream": "stdout",
       "text": [
        "\n",
        "generated 823.0 991"
       ]
      },
      {
       "output_type": "stream",
       "stream": "stdout",
       "text": [
        "\n",
        "generated 824.7 992"
       ]
      },
      {
       "output_type": "stream",
       "stream": "stdout",
       "text": [
        "\n",
        "generated 826.4 993"
       ]
      },
      {
       "output_type": "stream",
       "stream": "stdout",
       "text": [
        "\n",
        "generated 828.1 994"
       ]
      },
      {
       "output_type": "stream",
       "stream": "stdout",
       "text": [
        "\n",
        "generated 829.7 995"
       ]
      },
      {
       "output_type": "stream",
       "stream": "stdout",
       "text": [
        "\n",
        "generated 831.4 996"
       ]
      },
      {
       "output_type": "stream",
       "stream": "stdout",
       "text": [
        "\n",
        "generated 833.1 997"
       ]
      },
      {
       "output_type": "stream",
       "stream": "stdout",
       "text": [
        "\n",
        "generated 834.8 998"
       ]
      },
      {
       "output_type": "stream",
       "stream": "stdout",
       "text": [
        "\n",
        "generated 836.5 999"
       ]
      },
      {
       "output_type": "stream",
       "stream": "stdout",
       "text": [
        "\n",
        "generated 838.2 1000"
       ]
      },
      {
       "output_type": "stream",
       "stream": "stdout",
       "text": [
        "\n",
        "generated 839.9 1001"
       ]
      },
      {
       "output_type": "stream",
       "stream": "stdout",
       "text": [
        "\n",
        "generated 841.6 1002"
       ]
      },
      {
       "output_type": "stream",
       "stream": "stdout",
       "text": [
        "\n",
        "generated 843.2 1003"
       ]
      },
      {
       "output_type": "stream",
       "stream": "stdout",
       "text": [
        "\n",
        "generated 844.9 1004"
       ]
      },
      {
       "output_type": "stream",
       "stream": "stdout",
       "text": [
        "\n",
        "generated 846.6 1005"
       ]
      },
      {
       "output_type": "stream",
       "stream": "stdout",
       "text": [
        "\n",
        "generated 848.3 1006"
       ]
      },
      {
       "output_type": "stream",
       "stream": "stdout",
       "text": [
        "\n",
        "generated 850.0 1007"
       ]
      },
      {
       "output_type": "stream",
       "stream": "stdout",
       "text": [
        "\n",
        "CPU times: user 17min 57s, sys: 4.24 s, total: 18min 1s\n",
        "Wall time: 18min 3s\n"
       ]
      },
      {
       "metadata": {},
       "output_type": "display_data",
       "png": "[encoded data removed]",
       "text": [
        "<matplotlib.figure.Figure at 0x681e850>"
       ]
      }
     ],
     "prompt_number": 19
    },
    {
     "cell_type": "code",
     "collapsed": false,
     "input": [
      "!mencoder 'mf://iter*.png' -mf fps=24 -o iter-surfaces.mp4 -ovc lavc -lavcopts vcodec=mpeg4"
     ],
     "language": "python",
     "metadata": {},
     "outputs": [
      {
       "output_type": "stream",
       "stream": "stdout",
       "text": [
        "MEncoder svn r34540 (Ubuntu), built with gcc-4.7 (C) 2000-2012 MPlayer Team\r\n",
        "\r\n",
        "WARNING: OUTPUT FILE FORMAT IS _AVI_. See -of help.\r\n",
        "success: format: 16  data: 0x0 - 0x0\r\n",
        "MF file format detected.\r\n",
        "[mf] search expr: iter*.png\r\n",
        "[mf] number of files: 1008 (8064)\r\n",
        "[demux_mf] file type was not set! trying 'type=png'...\r\n",
        "VIDEO:  [MPNG]  0x0  24bpp  24.000 fps    0.0 kbps ( 0.0 kbyte/s)\r\n",
        "[V] filefmt:16  fourcc:0x474E504D  size:0x0  fps:24.000  ftime:=0.0417\r\n",
        "libavcodec version 53.35.0 (external)\r\n",
        "Mismatching header version 53.32.2\r\n"
       ]
      },
      {
       "output_type": "stream",
       "stream": "stdout",
       "text": [
        "Opening video filter: [expand osd=1]\r\n",
        "Expand: -1 x -1, -1 ; -1, osd: 1, aspect: 0.000000, round: 1\r\n",
        "==========================================================================\r\n",
        "Opening video decoder: [ffmpeg] FFmpeg's libavcodec codec family\r\n",
        "Selected video codec: [ffpng] vfm: ffmpeg (FFmpeg PNG)\r\n",
        "==========================================================================\r\n",
        "Could not find matching colorspace - retrying with -vf scale...\r\n",
        "Opening video filter: [scale]\r\n",
        "Movie-Aspect is undefined - no prescaling applied.\r\n",
        "[swscaler @ 0x7fe74c4e3640]BICUBIC scaler, from bgra to yuv420p using MMX2\r\n",
        "videocodec: libavcodec (432x288 fourcc=34504d46 [FMP4])\r\n"
       ]
      },
      {
       "output_type": "stream",
       "stream": "stdout",
       "text": [
        "Writing header...\r\n",
        "ODML: Aspect information not (yet?) available or unspecified, not writing vprp header.\r\n",
        "Writing header...\r\n",
        "ODML: Aspect information not (yet?) available or unspecified, not writing vprp header.\r\n",
        "Pos:   0.0s      1f ( 0%)  0.00fps Trem:   0min   0mb  A-V:0.000 [0:0]\r",
        "\r\n",
        "[VD_FFMPEG] DRI failure.\r\n",
        "Pos:   0.1s      2f ( 0%)  0.00fps Trem:   0min   0mb  A-V:0.000 [0:0]\r",
        "Pos:   0.1s      3f ( 0%)  0.00fps Trem:   0min   7mb  A-V:0.000 [0:0]\r",
        "Pos:   0.2s      4f ( 0%)  0.00fps Trem:   0min   5mb  A-V:0.000 [0:0]\r",
        "Pos:   0.2s      5f ( 0%)  0.00fps Trem:   0min   3mb  A-V:0.000 [0:0]\r",
        "Pos:   0.2s      6f ( 0%)  0.00fps Trem:   0min   3mb  A-V:0.000 [0:0]\r",
        "Pos:   0.3s      7f ( 0%)  0.00fps Trem:   0min   2mb  A-V:0.000 [0:0]\r",
        "Pos:   0.3s      8f ( 0%)  0.00fps Trem:   0min   2mb  A-V:0.000 [0:0]\r",
        "Pos:   0.4s      9f ( 0%)  0.00fps Trem:   0min   2mb  A-V:0.000 [0:0]\r",
        "Pos:   0.4s     10f ( 0%)  0.00fps Trem:   0min   2mb  A-V:0.000 [0:0]\r",
        "Pos:   0.5s     11f ( 0%)  0.00fps Trem:   0min   1mb  A-V:0.000 [0:0]\r",
        "Pos:   0.5s     12f ( 1%)  0.00fps Trem:   0min   1mb  A-V:0.000 [0:0]\r",
        "Pos:   0.5s     13f ( 1%)  0.00fps Trem:   0min   1mb  A-V:0.000 [0:0]\r",
        "Pos:   0.6s     14f ( 1%)  0.00fps Trem:   0min   1mb  A-V:0.000 [0:0]\r"
       ]
      },
      {
       "output_type": "stream",
       "stream": "stdout",
       "text": [
        "Pos:   0.6s     15f ( 1%)  0.00fps Trem:   0min   1mb  A-V:0.000 [0:0]\r",
        "Pos:   0.7s     16f ( 1%)  0.00fps Trem:   0min   1mb  A-V:0.000 [0:0]\r",
        "Pos:   0.7s     17f ( 1%)  0.00fps Trem:   0min   1mb  A-V:0.000 [0:0]\r",
        "Pos:   0.8s     18f ( 1%)  0.00fps Trem:   0min   1mb  A-V:0.000 [0:0]\r",
        "Pos:   0.8s     19f ( 1%)  0.00fps Trem:   0min   1mb  A-V:0.000 [0:0]\r",
        "Pos:   0.8s     20f ( 1%)  0.00fps Trem:   0min   1mb  A-V:0.000 [0:0]\r",
        "Pos:   0.9s     21f ( 1%)  0.00fps Trem:   0min   1mb  A-V:0.000 [0:0]\r",
        "Pos:   0.9s     22f ( 2%)  0.00fps Trem:   0min   1mb  A-V:0.000 [0:0]\r",
        "Pos:   1.0s     23f ( 2%)  0.00fps Trem:   0min   1mb  A-V:0.000 [0:0]\r",
        "Pos:   1.0s     24f ( 2%)  0.00fps Trem:   0min   1mb  A-V:0.000 [0:0]\r",
        "Pos:   1.0s     25f ( 2%)  0.00fps Trem:   0min   1mb  A-V:0.000 [176:0]\r",
        "Pos:   1.1s     26f ( 2%)  0.00fps Trem:   0min   1mb  A-V:0.000 [173:0]\r",
        "Pos:   1.1s     27f ( 2%)  0.00fps Trem:   0min   1mb  A-V:0.000 [170:0]\r"
       ]
      },
      {
       "output_type": "stream",
       "stream": "stdout",
       "text": [
        "Pos:   1.2s     28f ( 2%)  0.00fps Trem:   0min   1mb  A-V:0.000 [168:0]\r",
        "Pos:   1.2s     29f ( 2%)  0.00fps Trem:   0min   1mb  A-V:0.000 [165:0]\r",
        "Pos:   1.2s     30f ( 2%)  0.00fps Trem:   0min   0mb  A-V:0.000 [163:0]\r",
        "Pos:   1.3s     31f ( 2%)  0.00fps Trem:   0min   0mb  A-V:0.000 [163:0]\r",
        "Pos:   1.3s     32f ( 3%)  0.00fps Trem:   0min   0mb  A-V:0.000 [161:0]\r",
        "Pos:   1.4s     33f ( 3%)  0.00fps Trem:   0min   0mb  A-V:0.000 [159:0]\r",
        "Pos:   1.4s     34f ( 3%)  0.00fps Trem:   0min   0mb  A-V:0.000 [157:0]\r",
        "Pos:   1.5s     35f ( 3%)  0.00fps Trem:   0min   0mb  A-V:0.000 [156:0]\r",
        "Pos:   1.5s     36f ( 3%)  0.00fps Trem:   0min   0mb  A-V:0.000 [154:0]\r",
        "Pos:   1.5s     37f ( 3%)  0.00fps Trem:   0min   0mb  A-V:0.000 [152:0]\r",
        "Pos:   1.6s     38f ( 3%)  0.00fps Trem:   0min   0mb  A-V:0.000 [151:0]\r",
        "Pos:   1.6s     39f ( 3%)  0.00fps Trem:   0min   0mb  A-V:0.000 [150:0]\r",
        "Pos:   1.7s     40f ( 3%)  0.00fps Trem:   0min   0mb  A-V:0.000 [149:0]\r",
        "Pos:   1.7s     41f ( 3%)  0.00fps Trem:   0min   0mb  A-V:0.000 [148:0]\r",
        "Pos:   1.8s     42f ( 4%)  0.00fps Trem:   0min   0mb  A-V:0.000 [146:0]\r",
        "Pos:   1.8s     43f ( 4%)  0.00fps Trem:   0min   0mb  A-V:0.000 [146:0]\r"
       ]
      },
      {
       "output_type": "stream",
       "stream": "stdout",
       "text": [
        "Pos:   1.8s     44f ( 4%)  0.00fps Trem:   0min   0mb  A-V:0.000 [145:0]\r",
        "Pos:   1.9s     45f ( 4%)  0.00fps Trem:   0min   0mb  A-V:0.000 [144:0]\r",
        "Pos:   1.9s     46f ( 4%)  0.00fps Trem:   0min   0mb  A-V:0.000 [143:0]\r",
        "Pos:   2.0s     47f ( 4%)  0.00fps Trem:   0min   0mb  A-V:0.000 [142:0]\r",
        "Pos:   2.0s     48f ( 4%)  0.00fps Trem:   0min   0mb  A-V:0.000 [141:0]\r",
        "Pos:   2.0s     49f ( 4%)  0.00fps Trem:   0min   0mb  A-V:0.000 [141:0]\r",
        "Pos:   2.1s     50f ( 4%)  0.00fps Trem:   0min   0mb  A-V:0.000 [140:0]\r",
        "Pos:   2.1s     51f ( 4%)  0.00fps Trem:   0min   0mb  A-V:0.000 [139:0]\r",
        "Pos:   2.2s     52f ( 5%)  0.00fps Trem:   0min   0mb  A-V:0.000 [138:0]\r",
        "Pos:   2.2s     53f ( 5%)  0.00fps Trem:   0min   0mb  A-V:0.000 [137:0]\r",
        "Pos:   2.2s     54f ( 5%)  0.00fps Trem:   0min   0mb  A-V:0.000 [136:0]\r",
        "Pos:   2.3s     55f ( 5%)  0.00fps Trem:   0min   0mb  A-V:0.000 [136:0]\r",
        "Pos:   2.3s     56f ( 5%)  0.00fps Trem:   0min   0mb  A-V:0.000 [135:0]\r",
        "Pos:   2.4s     57f ( 5%)  0.00fps Trem:   0min   0mb  A-V:0.000 [134:0]\r",
        "Pos:   2.4s     58f ( 5%)  0.00fps Trem:   0min   0mb  A-V:0.000 [133:0]\r",
        "Pos:   2.5s     59f ( 5%)  0.00fps Trem:   0min   0mb  A-V:0.000 [132:0]\r"
       ]
      },
      {
       "output_type": "stream",
       "stream": "stdout",
       "text": [
        "Pos:   2.5s     60f ( 5%)  0.00fps Trem:   0min   0mb  A-V:0.000 [132:0]\r",
        "Pos:   2.5s     61f ( 5%)  0.00fps Trem:   0min   0mb  A-V:0.000 [143:0]\r",
        "Pos:   2.6s     62f ( 6%)  0.00fps Trem:   0min   0mb  A-V:0.000 [142:0]\r",
        "Pos:   2.6s     63f ( 6%)  0.00fps Trem:   0min   0mb  A-V:0.000 [141:0]\r",
        "Pos:   2.7s     64f ( 6%)  0.00fps Trem:   0min   0mb  A-V:0.000 [141:0]\r",
        "Pos:   2.7s     65f ( 6%)  0.00fps Trem:   0min   0mb  A-V:0.000 [140:0]\r",
        "Pos:   2.8s     66f ( 6%)  0.00fps Trem:   0min   0mb  A-V:0.000 [139:0]\r",
        "Pos:   2.8s     67f ( 6%)  0.00fps Trem:   0min   0mb  A-V:0.000 [139:0]\r",
        "Pos:   2.8s     68f ( 6%)  0.00fps Trem:   0min   0mb  A-V:0.000 [138:0]\r",
        "Pos:   2.9s     69f ( 6%)  0.00fps Trem:   0min   0mb  A-V:0.000 [137:0]\r",
        "Pos:   2.9s     70f ( 6%)  0.00fps Trem:   0min   0mb  A-V:0.000 [137:0]\r",
        "Pos:   3.0s     71f ( 6%)  0.00fps Trem:   0min   0mb  A-V:0.000 [136:0]\r",
        "Pos:   3.0s     72f ( 7%)  0.00fps Trem:   0min   0mb  A-V:0.000 [135:0]\r",
        "Pos:   3.0s     73f ( 7%)  0.00fps Trem:   0min   0mb  A-V:0.000 [135:0]\r",
        "Pos:   3.1s     74f ( 7%)  0.00fps Trem:   0min   0mb  A-V:0.000 [135:0]\r",
        "Pos:   3.1s     75f ( 7%)  0.00fps Trem:   0min   0mb  A-V:0.000 [134:0]\r"
       ]
      },
      {
       "output_type": "stream",
       "stream": "stdout",
       "text": [
        "Pos:   3.2s     76f ( 7%)  0.00fps Trem:   0min   0mb  A-V:0.000 [133:0]\r",
        "Pos:   3.2s     77f ( 7%)  0.00fps Trem:   0min   0mb  A-V:0.000 [133:0]\r",
        "Pos:   3.2s     78f ( 7%)  0.00fps Trem:   0min   0mb  A-V:0.000 [133:0]\r",
        "Pos:   3.3s     79f ( 7%)  0.00fps Trem:   0min   0mb  A-V:0.000 [132:0]\r",
        "Pos:   3.3s     80f ( 7%)  0.00fps Trem:   0min   0mb  A-V:0.000 [132:0]\r",
        "Pos:   3.4s     81f ( 7%)  0.00fps Trem:   0min   0mb  A-V:0.000 [131:0]\r",
        "Pos:   3.4s     82f ( 8%)  0.00fps Trem:   0min   0mb  A-V:0.000 [131:0]\r",
        "Pos:   3.5s     83f ( 8%)  0.00fps Trem:   0min   0mb  A-V:0.000 [131:0]\r",
        "Pos:   3.5s     84f ( 8%)  0.00fps Trem:   0min   0mb  A-V:0.000 [130:0]\r",
        "Pos:   3.5s     85f ( 8%)  0.00fps Trem:   0min   0mb  A-V:0.000 [130:0]\r",
        "Pos:   3.6s     86f ( 8%)  0.00fps Trem:   0min   0mb  A-V:0.000 [129:0]\r",
        "Pos:   3.6s     87f ( 8%)  0.00fps Trem:   0min   0mb  A-V:0.000 [129:0]\r",
        "Pos:   3.7s     88f ( 8%)  0.00fps Trem:   0min   0mb  A-V:0.000 [129:0]\r",
        "Pos:   3.7s     89f ( 8%)  0.00fps Trem:   0min   0mb  A-V:0.000 [128:0]\r",
        "Pos:   3.8s     90f ( 8%)  0.00fps Trem:   0min   0mb  A-V:0.000 [139:0]\r"
       ]
      },
      {
       "output_type": "stream",
       "stream": "stdout",
       "text": [
        "Pos:   3.8s     91f ( 8%)  0.00fps Trem:   0min   0mb  A-V:0.000 [139:0]\r",
        "Pos:   3.8s     92f ( 9%)  0.00fps Trem:   0min   0mb  A-V:0.000 [139:0]\r",
        "Pos:   3.9s     93f ( 9%)  0.00fps Trem:   0min   0mb  A-V:0.000 [139:0]\r",
        "Pos:   3.9s     94f ( 9%)  0.00fps Trem:   0min   0mb  A-V:0.000 [140:0]\r",
        "Pos:   4.0s     95f ( 9%)  0.00fps Trem:   0min   0mb  A-V:0.000 [140:0]\r",
        "Pos:   4.0s     96f ( 9%)  0.00fps Trem:   0min   0mb  A-V:0.000 [140:0]\r",
        "Pos:   4.0s     97f ( 9%)  0.00fps Trem:   0min   0mb  A-V:0.000 [140:0]\r",
        "Pos:   4.1s     98f ( 9%)  0.00fps Trem:   0min   0mb  A-V:0.000 [140:0]\r",
        "Pos:   4.1s     99f ( 9%)  0.00fps Trem:   0min   0mb  A-V:0.000 [140:0]\r",
        "Pos:   4.2s    100f ( 9%)  0.00fps Trem:   0min   0mb  A-V:0.000 [140:0]\r",
        "Pos:   4.2s    101f ( 9%)  0.00fps Trem:   0min   0mb  A-V:0.000 [139:0]\r",
        "Pos:   4.2s    102f (10%)  0.00fps Trem:   0min   0mb  A-V:0.000 [141:0]\r",
        "Pos:   4.3s    103f (10%)  0.00fps Trem:   0min   0mb  A-V:0.000 [140:0]\r",
        "Pos:   4.3s    104f (10%)  0.00fps Trem:   0min   0mb  A-V:0.000 [140:0]\r",
        "Pos:   4.4s    105f (10%)  0.00fps Trem:   0min   0mb  A-V:0.000 [140:0]\r",
        "Pos:   4.4s    106f (10%)  0.00fps Trem:   0min   0mb  A-V:0.000 [140:0]\r"
       ]
      },
      {
       "output_type": "stream",
       "stream": "stdout",
       "text": [
        "Pos:   4.5s    107f (10%)  0.00fps Trem:   0min   0mb  A-V:0.000 [139:0]\r",
        "Pos:   4.5s    108f (10%)  0.00fps Trem:   0min   0mb  A-V:0.000 [139:0]\r",
        "Pos:   4.5s    109f (10%)  0.00fps Trem:   0min   0mb  A-V:0.000 [139:0]\r",
        "Pos:   4.6s    110f (10%)  0.00fps Trem:   0min   0mb  A-V:0.000 [155:0]\r",
        "Pos:   4.6s    111f (10%)  0.00fps Trem:   0min   0mb  A-V:0.000 [155:0]\r",
        "Pos:   4.7s    112f (11%)  0.00fps Trem:   0min   0mb  A-V:0.000 [154:0]\r",
        "Pos:   4.7s    113f (11%)  0.00fps Trem:   0min   0mb  A-V:0.000 [154:0]\r",
        "Pos:   4.8s    114f (11%)  0.00fps Trem:   0min   0mb  A-V:0.000 [154:0]\r",
        "Pos:   4.8s    115f (11%)  0.00fps Trem:   0min   0mb  A-V:0.000 [154:0]\r",
        "Pos:   4.8s    116f (11%)  0.00fps Trem:   0min   0mb  A-V:0.000 [154:0]\r",
        "Pos:   4.9s    117f (11%)  0.00fps Trem:   0min   0mb  A-V:0.000 [154:0]\r",
        "Pos:   4.9s    118f (11%)  0.00fps Trem:   0min   0mb  A-V:0.000 [153:0]\r",
        "Pos:   5.0s    119f (11%)  0.00fps Trem:   0min   0mb  A-V:0.000 [153:0]\r",
        "Pos:   5.0s    120f (11%)  0.00fps Trem:   0min   0mb  A-V:0.000 [153:0]\r"
       ]
      },
      {
       "output_type": "stream",
       "stream": "stdout",
       "text": [
        "Pos:   5.0s    121f (11%)  0.00fps Trem:   0min   0mb  A-V:0.000 [153:0]\r",
        "Pos:   5.1s    122f (12%)  0.00fps Trem:   0min   0mb  A-V:0.000 [153:0]\r",
        "Pos:   5.1s    123f (12%)  0.00fps Trem:   0min   0mb  A-V:0.000 [153:0]\r",
        "Pos:   5.2s    124f (12%)  0.00fps Trem:   0min   0mb  A-V:0.000 [152:0]\r",
        "Pos:   5.2s    125f (12%)  0.00fps Trem:   0min   0mb  A-V:0.000 [152:0]\r",
        "Pos:   5.2s    126f (12%)  0.00fps Trem:   0min   0mb  A-V:0.000 [152:0]\r",
        "Pos:   5.3s    127f (12%)  0.00fps Trem:   0min   0mb  A-V:0.000 [152:0]\r",
        "Pos:   5.3s    128f (12%)  0.00fps Trem:   0min   0mb  A-V:0.000 [152:0]\r",
        "Pos:   5.4s    129f (12%)  0.00fps Trem:   0min   0mb  A-V:0.000 [151:0]\r",
        "Pos:   5.4s    130f (12%)  0.00fps Trem:   0min   0mb  A-V:0.000 [151:0]\r",
        "Pos:   5.5s    131f (12%)  0.00fps Trem:   0min   0mb  A-V:0.000 [151:0]\r",
        "Pos:   5.5s    132f (13%)  0.00fps Trem:   0min   0mb  A-V:0.000 [151:0]\r",
        "Pos:   5.5s    133f (13%)  0.00fps Trem:   0min   0mb  A-V:0.000 [151:0]\r",
        "Pos:   5.6s    134f (13%)  0.00fps Trem:   0min   0mb  A-V:0.000 [151:0]\r",
        "Pos:   5.6s    135f (13%)  0.00fps Trem:   0min   0mb  A-V:0.000 [151:0]\r",
        "Pos:   5.7s    136f (13%)  0.00fps Trem:   0min   0mb  A-V:0.000 [150:0]\r"
       ]
      },
      {
       "output_type": "stream",
       "stream": "stdout",
       "text": [
        "Pos:   5.7s    137f (13%)  0.00fps Trem:   0min   0mb  A-V:0.000 [150:0]\r",
        "Pos:   5.8s    138f (13%)  0.00fps Trem:   0min   0mb  A-V:0.000 [150:0]\r",
        "Pos:   5.8s    139f (13%)  0.00fps Trem:   0min   0mb  A-V:0.000 [150:0]\r",
        "Pos:   5.8s    140f (13%)  0.00fps Trem:   0min   0mb  A-V:0.000 [150:0]\r",
        "Pos:   5.9s    141f (13%)  0.00fps Trem:   0min   0mb  A-V:0.000 [150:0]\r",
        "Pos:   5.9s    142f (14%)  0.00fps Trem:   0min   0mb  A-V:0.000 [149:0]\r",
        "Pos:   6.0s    143f (14%)  0.00fps Trem:   0min   0mb  A-V:0.000 [149:0]\r",
        "Pos:   6.0s    144f (14%)  0.00fps Trem:   0min   0mb  A-V:0.000 [149:0]\r",
        "Pos:   6.0s    145f (14%)  0.00fps Trem:   0min   0mb  A-V:0.000 [149:0]\r",
        "Pos:   6.1s    146f (14%)  0.00fps Trem:   0min   0mb  A-V:0.000 [149:0]\r",
        "Pos:   6.1s    147f (14%)  0.00fps Trem:   0min   0mb  A-V:0.000 [149:0]\r",
        "Pos:   6.2s    148f (14%)  0.00fps Trem:   0min   0mb  A-V:0.000 [149:0]\r",
        "Pos:   6.2s    149f (14%)  0.00fps Trem:   0min   0mb  A-V:0.000 [148:0]\r",
        "Pos:   6.2s    150f (14%)  0.00fps Trem:   0min   0mb  A-V:0.000 [148:0]\r",
        "Pos:   6.3s    151f (14%)  0.00fps Trem:   0min   0mb  A-V:0.000 [148:0]\r",
        "Pos:   6.3s    152f (14%)  0.00fps Trem:   0min   0mb  A-V:0.000 [148:0]\r"
       ]
      },
      {
       "output_type": "stream",
       "stream": "stdout",
       "text": [
        "Pos:   6.4s    153f (15%)  0.00fps Trem:   0min   0mb  A-V:0.000 [148:0]\r",
        "Pos:   6.4s    154f (15%)  0.00fps Trem:   0min   0mb  A-V:0.000 [148:0]\r",
        "Pos:   6.5s    155f (15%)  0.00fps Trem:   0min   0mb  A-V:0.000 [147:0]\r",
        "Pos:   6.5s    156f (15%)  0.00fps Trem:   0min   0mb  A-V:0.000 [147:0]\r",
        "Pos:   6.5s    157f (15%)  0.00fps Trem:   0min   0mb  A-V:0.000 [147:0]\r",
        "Pos:   6.6s    158f (15%)  0.00fps Trem:   0min   0mb  A-V:0.000 [148:0]\r",
        "Pos:   6.6s    159f (15%)  0.00fps Trem:   0min   0mb  A-V:0.000 [148:0]\r",
        "Pos:   6.7s    160f (15%)  0.00fps Trem:   0min   0mb  A-V:0.000 [148:0]\r",
        "Pos:   6.7s    161f (15%)  0.00fps Trem:   0min   0mb  A-V:0.000 [148:0]\r",
        "Pos:   6.8s    162f (15%)  0.00fps Trem:   0min   0mb  A-V:0.000 [149:0]\r",
        "Pos:   6.8s    163f (16%)  0.00fps Trem:   0min   0mb  A-V:0.000 [149:0]\r",
        "Pos:   6.8s    164f (16%)  0.00fps Trem:   0min   0mb  A-V:0.000 [150:0]\r",
        "Pos:   6.9s    165f (16%)  0.00fps Trem:   0min   0mb  A-V:0.000 [150:0]\r"
       ]
      },
      {
       "output_type": "stream",
       "stream": "stdout",
       "text": [
        "Pos:   6.9s    166f (16%)  0.00fps Trem:   0min   0mb  A-V:0.000 [150:0]\r",
        "Pos:   7.0s    167f (16%)  0.00fps Trem:   0min   0mb  A-V:0.000 [150:0]\r",
        "Pos:   7.0s    168f (16%)  0.00fps Trem:   0min   0mb  A-V:0.000 [151:0]\r",
        "Pos:   7.0s    169f (16%)  0.00fps Trem:   0min   0mb  A-V:0.000 [151:0]\r",
        "Pos:   7.1s    170f (16%)  0.00fps Trem:   0min   0mb  A-V:0.000 [152:0]\r",
        "Pos:   7.1s    171f (16%)  0.00fps Trem:   0min   0mb  A-V:0.000 [152:0]\r",
        "Pos:   7.2s    172f (16%)  0.00fps Trem:   0min   0mb  A-V:0.000 [152:0]\r",
        "Pos:   7.2s    173f (17%)  0.00fps Trem:   0min   0mb  A-V:0.000 [153:0]\r",
        "Pos:   7.2s    174f (17%)  0.00fps Trem:   0min   0mb  A-V:0.000 [153:0]\r",
        "Pos:   7.3s    175f (17%)  0.00fps Trem:   0min   0mb  A-V:0.000 [154:0]\r",
        "Pos:   7.3s    176f (17%)  0.00fps Trem:   0min   0mb  A-V:0.000 [154:0]\r",
        "Pos:   7.4s    177f (17%)  0.00fps Trem:   0min   0mb  A-V:0.000 [154:0]\r",
        "Pos:   7.4s    178f (17%)  0.00fps Trem:   0min   0mb  A-V:0.000 [156:0]\r",
        "Pos:   7.5s    179f (17%)  0.00fps Trem:   0min   0mb  A-V:0.000 [157:0]\r",
        "Pos:   7.5s    180f (17%)  0.00fps Trem:   0min   0mb  A-V:0.000 [158:0]\r",
        "Pos:   7.5s    181f (17%)  0.00fps Trem:   0min   0mb  A-V:0.000 [159:0]\r"
       ]
      },
      {
       "output_type": "stream",
       "stream": "stdout",
       "text": [
        "Pos:   7.6s    182f (17%)  0.00fps Trem:   0min   0mb  A-V:0.000 [161:0]\r",
        "Pos:   7.6s    183f (18%)  0.00fps Trem:   0min   0mb  A-V:0.000 [163:0]\r",
        "Pos:   7.7s    184f (18%)  0.00fps Trem:   0min   0mb  A-V:0.000 [164:0]\r",
        "Pos:   7.7s    185f (18%)  0.00fps Trem:   0min   0mb  A-V:0.000 [165:0]\r",
        "Pos:   7.8s    186f (18%)  0.00fps Trem:   0min   0mb  A-V:0.000 [167:0]\r",
        "Pos:   7.8s    187f (18%)  0.00fps Trem:   0min   0mb  A-V:0.000 [168:0]\r",
        "Pos:   7.8s    188f (18%)  0.00fps Trem:   0min   0mb  A-V:0.000 [169:0]\r",
        "Pos:   7.9s    189f (18%)  0.00fps Trem:   0min   0mb  A-V:0.000 [170:0]\r",
        "Pos:   7.9s    190f (18%)  0.00fps Trem:   0min   0mb  A-V:0.000 [171:0]\r",
        "Pos:   8.0s    191f (18%)  0.00fps Trem:   0min   0mb  A-V:0.000 [172:0]\r",
        "Pos:   8.0s    192f (18%)  0.00fps Trem:   0min   0mb  A-V:0.000 [173:0]\r",
        "Pos:   8.0s    193f (19%)  0.00fps Trem:   0min   0mb  A-V:0.000 [174:0]\r",
        "Pos:   8.1s    194f (19%)  0.00fps Trem:   0min   0mb  A-V:0.000 [175:0]\r",
        "Pos:   8.1s    195f (19%)  0.00fps Trem:   0min   0mb  A-V:0.000 [176:0]\r",
        "Pos:   8.2s    196f (19%)  0.00fps Trem:   0min   0mb  A-V:0.000 [177:0]\r",
        "Pos:   8.2s    197f (19%)  0.00fps Trem:   0min   0mb  A-V:0.000 [178:0]\r",
        "Pos:   8.2s    198f (19%)  0.00fps Trem:   0min   0mb  A-V:0.000 [179:0]\r"
       ]
      },
      {
       "output_type": "stream",
       "stream": "stdout",
       "text": [
        "Pos:   8.3s    199f (19%)  0.00fps Trem:   0min   0mb  A-V:0.000 [179:0]\r",
        "Pos:   8.3s    200f (19%)  0.00fps Trem:   0min   0mb  A-V:0.000 [180:0]\r",
        "Pos:   8.4s    201f (19%)  0.00fps Trem:   0min   0mb  A-V:0.000 [181:0]\r",
        "Pos:   8.4s    202f (19%)  0.00fps Trem:   0min   0mb  A-V:0.000 [182:0]\r",
        "Pos:   8.5s    203f (20%)  0.00fps Trem:   0min   0mb  A-V:0.000 [183:0]\r",
        "Pos:   8.5s    204f (20%)  0.00fps Trem:   0min   0mb  A-V:0.000 [183:0]\r",
        "Pos:   8.5s    205f (20%)  0.00fps Trem:   0min   0mb  A-V:0.000 [184:0]\r",
        "Pos:   8.6s    206f (20%)  0.00fps Trem:   0min   0mb  A-V:0.000 [185:0]\r",
        "Pos:   8.6s    207f (20%)  0.00fps Trem:   0min   0mb  A-V:0.000 [187:0]\r",
        "Pos:   8.7s    208f (20%)  0.00fps Trem:   0min   0mb  A-V:0.000 [188:0]\r",
        "Pos:   8.7s    209f (20%)  0.00fps Trem:   0min   0mb  A-V:0.000 [190:0]\r",
        "Pos:   8.8s    210f (20%)  0.00fps Trem:   0min   0mb  A-V:0.000 [191:0]\r",
        "Pos:   8.8s    211f (20%)  0.00fps Trem:   0min   0mb  A-V:0.000 [193:0]\r",
        "Pos:   8.8s    212f (20%)  0.00fps Trem:   0min   1mb  A-V:0.000 [195:0]\r",
        "Pos:   8.9s    213f (21%)  0.00fps Trem:   0min   1mb  A-V:0.000 [196:0]\r",
        "Pos:   8.9s    214f (21%)  0.00fps Trem:   0min   1mb  A-V:0.000 [197:0]\r",
        "Pos:   9.0s    215f (21%)  0.00fps Trem:   0min   1mb  A-V:0.000 [199:0]\r",
        "Pos:   9.0s    216f (21%)  0.00fps Trem:   0min   1mb  A-V:0.000 [200:0]\r"
       ]
      },
      {
       "output_type": "stream",
       "stream": "stdout",
       "text": [
        "Pos:   9.0s    217f (21%)  0.00fps Trem:   0min   1mb  A-V:0.000 [203:0]\r",
        "Pos:   9.1s    218f (21%)  0.00fps Trem:   0min   1mb  A-V:0.000 [205:0]\r",
        "Pos:   9.1s    219f (21%)  0.00fps Trem:   0min   1mb  A-V:0.000 [207:0]\r",
        "Pos:   9.2s    220f (21%)  0.00fps Trem:   0min   1mb  A-V:0.000 [210:0]\r",
        "Pos:   9.2s    221f (21%)  0.00fps Trem:   0min   1mb  A-V:0.000 [212:0]\r",
        "Pos:   9.2s    222f (21%)  0.00fps Trem:   0min   1mb  A-V:0.000 [215:0]\r",
        "Pos:   9.3s    223f (22%)  0.00fps Trem:   0min   1mb  A-V:0.000 [217:0]\r",
        "Pos:   9.3s    224f (22%)  0.00fps Trem:   0min   1mb  A-V:0.000 [219:0]\r",
        "Pos:   9.4s    225f (22%)  0.00fps Trem:   0min   1mb  A-V:0.000 [221:0]\r",
        "Pos:   9.4s    226f (22%)  0.00fps Trem:   0min   1mb  A-V:0.000 [223:0]\r",
        "Pos:   9.5s    227f (22%)  0.00fps Trem:   0min   1mb  A-V:0.000 [225:0]\r",
        "Pos:   9.5s    228f (22%)  0.00fps Trem:   0min   1mb  A-V:0.000 [227:0]\r",
        "Pos:   9.5s    229f (22%)  0.00fps Trem:   0min   1mb  A-V:0.000 [230:0]\r",
        "Pos:   9.6s    230f (22%)  0.00fps Trem:   0min   1mb  A-V:0.000 [232:0]\r",
        "Pos:   9.6s    231f (22%)  0.00fps Trem:   0min   1mb  A-V:0.000 [234:0]\r",
        "Pos:   9.7s    232f (22%)  0.00fps Trem:   0min   1mb  A-V:0.000 [237:0]\r"
       ]
      },
      {
       "output_type": "stream",
       "stream": "stdout",
       "text": [
        "Pos:   9.7s    233f (23%)  0.00fps Trem:   0min   1mb  A-V:0.000 [240:0]\r",
        "Pos:   9.8s    234f (23%)  0.00fps Trem:   0min   1mb  A-V:0.000 [242:0]\r",
        "Pos:   9.8s    235f (23%)  0.00fps Trem:   0min   1mb  A-V:0.000 [245:0]\r",
        "Pos:   9.8s    236f (23%)  0.00fps Trem:   0min   1mb  A-V:0.000 [248:0]\r",
        "Pos:   9.9s    237f (23%)  0.00fps Trem:   0min   1mb  A-V:0.000 [251:0]\r",
        "Pos:   9.9s    238f (23%)  0.00fps Trem:   0min   1mb  A-V:0.000 [253:0]\r",
        "Pos:  10.0s    239f (23%)  0.00fps Trem:   0min   1mb  A-V:0.000 [255:0]\r",
        "Pos:  10.0s    240f (23%)  0.00fps Trem:   0min   1mb  A-V:0.000 [257:0]\r",
        "Pos:  10.0s    241f (23%)  0.00fps Trem:   0min   1mb  A-V:0.000 [259:0]\r",
        "Pos:  10.1s    242f (23%)  0.00fps Trem:   0min   1mb  A-V:0.000 [262:0]\r",
        "Pos:  10.1s    243f (24%)  0.00fps Trem:   0min   1mb  A-V:0.000 [264:0]\r",
        "Pos:  10.2s    244f (24%)  0.00fps Trem:   0min   1mb  A-V:0.000 [266:0]\r",
        "Pos:  10.2s    245f (24%)  0.00fps Trem:   0min   1mb  A-V:0.000 [268:0]\r",
        "Pos:  10.2s    246f (24%)  0.00fps Trem:   0min   1mb  A-V:0.000 [270:0]\r",
        "Pos:  10.3s    247f (24%)  0.00fps Trem:   0min   1mb  A-V:0.000 [272:0]\r",
        "Pos:  10.3s    248f (24%)  0.00fps Trem:   0min   1mb  A-V:0.000 [274:0]\r"
       ]
      },
      {
       "output_type": "stream",
       "stream": "stdout",
       "text": [
        "Pos:  10.4s    249f (24%)  0.00fps Trem:   0min   1mb  A-V:0.000 [276:0]\r",
        "Pos:  10.4s    250f (24%)  0.00fps Trem:   0min   1mb  A-V:0.000 [278:0]\r",
        "Pos:  10.5s    251f (24%)  0.00fps Trem:   0min   1mb  A-V:0.000 [292:0]\r",
        "Pos:  10.5s    252f (24%)  0.00fps Trem:   0min   1mb  A-V:0.000 [294:0]\r",
        "Pos:  10.5s    253f (25%)  0.00fps Trem:   0min   1mb  A-V:0.000 [296:0]\r",
        "Pos:  10.6s    254f (25%)  0.00fps Trem:   0min   1mb  A-V:0.000 [297:0]\r",
        "Pos:  10.6s    255f (25%)  0.00fps Trem:   0min   1mb  A-V:0.000 [299:0]\r",
        "Pos:  10.7s    256f (25%)  0.00fps Trem:   0min   1mb  A-V:0.000 [300:0]\r",
        "Pos:  10.7s    257f (25%)  0.00fps Trem:   0min   1mb  A-V:0.000 [302:0]\r",
        "Pos:  10.8s    258f (25%)  0.00fps Trem:   0min   1mb  A-V:0.000 [304:0]\r",
        "Pos:  10.8s    259f (25%)  0.00fps Trem:   0min   1mb  A-V:0.000 [305:0]\r",
        "Pos:  10.8s    260f (25%)  0.00fps Trem:   0min   1mb  A-V:0.000 [307:0]\r",
        "Pos:  10.9s    261f (25%)  0.00fps Trem:   0min   1mb  A-V:0.000 [309:0]\r",
        "Pos:  10.9s    262f (25%)  0.00fps Trem:   0min   1mb  A-V:0.000 [310:0]\r",
        "Pos:  11.0s    263f (26%)  0.00fps Trem:   0min   1mb  A-V:0.000 [311:0]\r",
        "Pos:  11.0s    264f (26%)  0.00fps Trem:   0min   1mb  A-V:0.000 [313:0]\r",
        "Pos:  11.0s    265f (26%)  0.00fps Trem:   0min   1mb  A-V:0.000 [314:0]\r"
       ]
      },
      {
       "output_type": "stream",
       "stream": "stdout",
       "text": [
        "Pos:  11.1s    266f (26%)  0.00fps Trem:   0min   1mb  A-V:0.000 [315:0]\r",
        "Pos:  11.1s    267f (26%)  0.00fps Trem:   0min   1mb  A-V:0.000 [317:0]\r",
        "Pos:  11.2s    268f (26%)  0.00fps Trem:   0min   1mb  A-V:0.000 [318:0]\r",
        "Pos:  11.2s    269f (26%)  0.00fps Trem:   0min   1mb  A-V:0.000 [319:0]\r",
        "Pos:  11.2s    270f (26%)  0.00fps Trem:   0min   1mb  A-V:0.000 [321:0]\r",
        "Pos:  11.3s    271f (26%)  0.00fps Trem:   0min   1mb  A-V:0.000 [323:0]\r",
        "Pos:  11.3s    272f (26%)  0.00fps Trem:   0min   1mb  A-V:0.000 [324:0]\r",
        "Pos:  11.4s    273f (27%)  0.00fps Trem:   0min   1mb  A-V:0.000 [326:0]\r",
        "Pos:  11.4s    274f (27%)  0.00fps Trem:   0min   1mb  A-V:0.000 [328:0]\r",
        "Pos:  11.5s    275f (27%)  0.00fps Trem:   0min   1mb  A-V:0.000 [330:0]\r",
        "Pos:  11.5s    276f (27%)  0.00fps Trem:   0min   1mb  A-V:0.000 [332:0]\r"
       ]
      },
      {
       "output_type": "stream",
       "stream": "stdout",
       "text": [
        "Pos:  11.5s    277f (27%)  0.00fps Trem:   0min   1mb  A-V:0.000 [333:0]\r",
        "Pos:  11.6s    278f (27%)  0.00fps Trem:   0min   1mb  A-V:0.000 [335:0]\r",
        "Pos:  11.6s    279f (27%)  0.00fps Trem:   0min   1mb  A-V:0.000 [336:0]\r",
        "Pos:  11.7s    280f (27%)  0.00fps Trem:   0min   1mb  A-V:0.000 [337:0]\r",
        "Pos:  11.7s    281f (27%)  0.00fps Trem:   0min   1mb  A-V:0.000 [339:0]\r",
        "Pos:  11.8s    282f (27%)  0.00fps Trem:   0min   1mb  A-V:0.000 [340:0]\r",
        "Pos:  11.8s    283f (28%)  0.00fps Trem:   0min   1mb  A-V:0.000 [341:0]\r",
        "Pos:  11.8s    284f (28%) 282.59fps Trem:   0min   1mb  A-V:0.000 [342:0]\r",
        "Pos:  11.9s    285f (28%) 282.74fps Trem:   0min   1mb  A-V:0.000 [344:0]\r"
       ]
      },
      {
       "output_type": "stream",
       "stream": "stdout",
       "text": [
        "Pos:  11.9s    286f (28%) 282.61fps Trem:   0min   1mb  A-V:0.000 [345:0]\r",
        "Pos:  12.0s    287f (28%) 282.20fps Trem:   0min   1mb  A-V:0.000 [346:0]\r",
        "Pos:  12.0s    288f (28%) 282.08fps Trem:   0min   1mb  A-V:0.000 [348:0]\r",
        "Pos:  12.0s    289f (28%) 281.68fps Trem:   0min   1mb  A-V:0.000 [349:0]\r",
        "Pos:  12.1s    290f (28%) 281.83fps Trem:   0min   1mb  A-V:0.000 [351:0]\r",
        "Pos:  12.1s    291f (28%) 281.70fps Trem:   0min   1mb  A-V:0.000 [352:0]\r",
        "Pos:  12.2s    292f (28%) 281.85fps Trem:   0min   1mb  A-V:0.000 [354:0]\r",
        "Pos:  12.2s    293f (28%) 281.73fps Trem:   0min   1mb  A-V:0.000 [356:0]\r",
        "Pos:  12.2s    294f (29%) 281.61fps Trem:   0min   1mb  A-V:0.000 [357:0]\r",
        "Pos:  12.3s    295f (29%) 281.76fps Trem:   0min   1mb  A-V:0.000 [359:0]\r",
        "Pos:  12.3s    296f (29%) 281.90fps Trem:   0min   1mb  A-V:0.000 [360:0]\r",
        "Pos:  12.4s    297f (29%) 281.25fps Trem:   0min   1mb  A-V:0.000 [361:0]\r",
        "Pos:  12.4s    298f (29%) 281.40fps Trem:   0min   1mb  A-V:0.000 [363:0]\r"
       ]
      },
      {
       "output_type": "stream",
       "stream": "stdout",
       "text": [
        "Pos:  12.5s    299f (29%) 281.28fps Trem:   0min   1mb  A-V:0.000 [364:0]\r",
        "Pos:  12.5s    300f (29%) 280.90fps Trem:   0min   1mb  A-V:0.000 [366:0]\r",
        "Pos:  12.5s    301f (29%) 280.78fps Trem:   0min   1mb  A-V:0.000 [367:0]\r",
        "Pos:  12.6s    302f (29%) 280.93fps Trem:   0min   1mb  A-V:0.000 [368:0]\r",
        "Pos:  12.6s    303f (29%) 280.82fps Trem:   0min   1mb  A-V:0.000 [369:0]\r",
        "Pos:  12.7s    304f (30%) 280.44fps Trem:   0min   1mb  A-V:0.000 [371:0]\r",
        "Pos:  12.7s    305f (30%) 279.82fps Trem:   0min   1mb  A-V:0.000 [372:0]\r",
        "Pos:  12.8s    306f (30%) 278.94fps Trem:   0min   1mb  A-V:0.000 [374:0]\r",
        "Pos:  12.8s    307f (30%) 277.33fps Trem:   0min   1mb  A-V:0.000 [375:0]\r"
       ]
      },
      {
       "output_type": "stream",
       "stream": "stdout",
       "text": [
        "Pos:  12.8s    308f (30%) 276.48fps Trem:   0min   1mb  A-V:0.000 [376:0]\r",
        "Pos:  12.9s    309f (30%) 275.89fps Trem:   0min   1mb  A-V:0.000 [378:0]\r",
        "Pos:  12.9s    310f (30%) 274.58fps Trem:   0min   1mb  A-V:0.000 [379:0]\r",
        "Pos:  13.0s    311f (30%) 274.01fps Trem:   0min   1mb  A-V:0.000 [380:0]\r",
        "Pos:  13.0s    312f (30%) 272.73fps Trem:   0min   1mb  A-V:0.000 [382:0]\r",
        "Pos:  13.0s    313f (30%) 271.47fps Trem:   0min   1mb  A-V:0.000 [384:0]\r",
        "Pos:  13.1s    314f (31%) 271.39fps Trem:   0min   1mb  A-V:0.000 [386:0]\r",
        "Pos:  13.1s    315f (31%) 271.55fps Trem:   0min   1mb  A-V:0.000 [387:0]\r",
        "Pos:  13.2s    316f (31%) 271.71fps Trem:   0min   1mb  A-V:0.000 [389:0]\r"
       ]
      },
      {
       "output_type": "stream",
       "stream": "stdout",
       "text": [
        "Pos:  13.2s    317f (31%) 271.64fps Trem:   0min   1mb  A-V:0.000 [391:0]\r",
        "Pos:  13.2s    318f (31%) 271.79fps Trem:   0min   1mb  A-V:0.000 [392:0]\r",
        "Pos:  13.3s    319f (31%) 271.95fps Trem:   0min   1mb  A-V:0.000 [394:0]\r",
        "Pos:  13.3s    320f (31%) 272.11fps Trem:   0min   2mb  A-V:0.000 [395:0]\r",
        "Pos:  13.4s    321f (31%) 272.03fps Trem:   0min   2mb  A-V:0.000 [396:0]\r",
        "Pos:  13.4s    322f (31%) 272.19fps Trem:   0min   2mb  A-V:0.000 [397:0]\r",
        "Pos:  13.5s    323f (31%) 271.89fps Trem:   0min   2mb  A-V:0.000 [398:0]\r",
        "Pos:  13.5s    324f (32%) 271.81fps Trem:   0min   2mb  A-V:0.000 [399:0]\r",
        "Pos:  13.5s    325f (32%) 271.74fps Trem:   0min   2mb  A-V:0.000 [400:0]\r",
        "Pos:  13.6s    326f (32%) 271.89fps Trem:   0min   2mb  A-V:0.000 [400:0]\r",
        "Pos:  13.6s    327f (32%) 271.37fps Trem:   0min   2mb  A-V:0.000 [401:0]\r",
        "Pos:  13.7s    328f (32%) 270.18fps Trem:   0min   2mb  A-V:0.000 [402:0]\r"
       ]
      },
      {
       "output_type": "stream",
       "stream": "stdout",
       "text": [
        "Pos:  13.7s    329f (32%) 269.67fps Trem:   0min   2mb  A-V:0.000 [403:0]\r",
        "Pos:  13.8s    330f (32%) 269.17fps Trem:   0min   2mb  A-V:0.000 [404:0]\r",
        "Pos:  13.8s    331f (32%) 269.11fps Trem:   0min   2mb  A-V:0.000 [406:0]\r",
        "Pos:  13.8s    332f (32%) 268.83fps Trem:   0min   2mb  A-V:0.000 [407:0]\r",
        "Pos:  13.9s    333f (32%) 268.77fps Trem:   0min   2mb  A-V:0.000 [408:0]\r",
        "Pos:  13.9s    334f (33%) 268.27fps Trem:   0min   2mb  A-V:0.000 [409:0]\r",
        "Pos:  14.0s    335f (33%) 267.79fps Trem:   0min   2mb  A-V:0.000 [410:0]\r",
        "Pos:  14.0s    336f (33%) 267.94fps Trem:   0min   2mb  A-V:0.000 [411:0]\r",
        "Pos:  14.0s    337f (33%) 268.10fps Trem:   0min   2mb  A-V:0.000 [412:0]\r",
        "Pos:  14.1s    338f (33%) 268.25fps Trem:   0min   2mb  A-V:0.000 [414:0]\r",
        "Pos:  14.1s    339f (33%) 268.20fps Trem:   0min   2mb  A-V:0.000 [414:0]\r",
        "Pos:  14.2s    340f (33%) 268.35fps Trem:   0min   2mb  A-V:0.000 [415:0]\r"
       ]
      },
      {
       "output_type": "stream",
       "stream": "stdout",
       "text": [
        "Pos:  14.2s    341f (33%) 268.29fps Trem:   0min   2mb  A-V:0.000 [416:0]\r",
        "Pos:  14.2s    342f (33%) 268.24fps Trem:   0min   2mb  A-V:0.000 [417:0]\r",
        "Pos:  14.3s    343f (33%) 268.39fps Trem:   0min   2mb  A-V:0.000 [418:0]\r",
        "Pos:  14.3s    344f (34%) 268.54fps Trem:   0min   2mb  A-V:0.000 [419:0]\r",
        "Pos:  14.4s    345f (34%) 268.69fps Trem:   0min   2mb  A-V:0.000 [420:0]\r",
        "Pos:  14.4s    346f (34%) 268.84fps Trem:   0min   2mb  A-V:0.000 [421:0]\r",
        "Pos:  14.5s    347f (34%) 268.99fps Trem:   0min   2mb  A-V:0.000 [422:0]\r",
        "Pos:  14.5s    348f (34%) 268.93fps Trem:   0min   2mb  A-V:0.000 [423:0]\r",
        "Pos:  14.5s    349f (34%) 269.08fps Trem:   0min   2mb  A-V:0.000 [424:0]\r",
        "Pos:  14.6s    350f (34%) 269.02fps Trem:   0min   2mb  A-V:0.000 [425:0]\r",
        "Pos:  14.6s    351f (34%) 269.17fps Trem:   0min   2mb  A-V:0.000 [426:0]\r",
        "Pos:  14.7s    352f (34%) 268.70fps Trem:   0min   2mb  A-V:0.000 [426:0]\r",
        "Pos:  14.7s    353f (34%) 268.65fps Trem:   0min   2mb  A-V:0.000 [427:0]\r",
        "Pos:  14.8s    354f (35%) 268.79fps Trem:   0min   2mb  A-V:0.000 [428:0]\r"
       ]
      },
      {
       "output_type": "stream",
       "stream": "stdout",
       "text": [
        "Pos:  14.8s    355f (35%) 268.74fps Trem:   0min   2mb  A-V:0.000 [429:0]\r",
        "Pos:  14.8s    356f (35%) 268.88fps Trem:   0min   2mb  A-V:0.000 [430:0]\r",
        "Pos:  14.9s    357f (35%) 269.03fps Trem:   0min   2mb  A-V:0.000 [431:0]\r",
        "Pos:  14.9s    358f (35%) 268.97fps Trem:   0min   2mb  A-V:0.000 [432:0]\r",
        "Pos:  15.0s    359f (35%) 269.12fps Trem:   0min   2mb  A-V:0.000 [433:0]\r",
        "Pos:  15.0s    360f (35%) 269.26fps Trem:   0min   2mb  A-V:0.000 [434:0]\r",
        "Pos:  15.0s    361f (35%) 269.20fps Trem:   0min   2mb  A-V:0.000 [434:0]\r",
        "Pos:  15.1s    362f (35%) 269.35fps Trem:   0min   2mb  A-V:0.000 [435:0]\r",
        "Pos:  15.1s    363f (35%) 268.89fps Trem:   0min   2mb  A-V:0.000 [436:0]\r",
        "Pos:  15.2s    364f (36%) 269.03fps Trem:   0min   2mb  A-V:0.000 [436:0]\r",
        "Pos:  15.2s    365f (36%) 268.98fps Trem:   0min   2mb  A-V:0.000 [437:0]\r",
        "Pos:  15.2s    366f (36%) 269.12fps Trem:   0min   2mb  A-V:0.000 [437:0]\r",
        "Pos:  15.3s    367f (36%) 269.06fps Trem:   0min   2mb  A-V:0.000 [437:0]\r",
        "Pos:  15.3s    368f (36%) 269.20fps Trem:   0min   2mb  A-V:0.000 [438:0]\r"
       ]
      },
      {
       "output_type": "stream",
       "stream": "stdout",
       "text": [
        "Pos:  15.4s    369f (36%) 269.15fps Trem:   0min   2mb  A-V:0.000 [438:0]\r",
        "Pos:  15.4s    370f (36%) 269.29fps Trem:   0min   2mb  A-V:0.000 [438:0]\r",
        "Pos:  15.5s    371f (36%) 269.23fps Trem:   0min   2mb  A-V:0.000 [438:0]\r",
        "Pos:  15.5s    372f (36%) 269.37fps Trem:   0min   2mb  A-V:0.000 [439:0]\r",
        "Pos:  15.5s    373f (36%) 269.12fps Trem:   0min   2mb  A-V:0.000 [439:0]\r",
        "Pos:  15.6s    374f (37%) 269.26fps Trem:   0min   2mb  A-V:0.000 [439:0]\r",
        "Pos:  15.6s    375f (37%) 269.40fps Trem:   0min   2mb  A-V:0.000 [439:0]\r",
        "Pos:  15.7s    376f (37%) 269.34fps Trem:   0min   2mb  A-V:0.000 [439:0]\r",
        "Pos:  15.7s    377f (37%) 269.48fps Trem:   0min   2mb  A-V:0.000 [439:0]\r",
        "Pos:  15.8s    378f (37%) 269.61fps Trem:   0min   2mb  A-V:0.000 [439:0]\r",
        "Pos:  15.8s    379f (37%) 269.75fps Trem:   0min   2mb  A-V:0.000 [439:0]\r",
        "Pos:  15.8s    380f (37%) 269.69fps Trem:   0min   2mb  A-V:0.000 [439:0]\r",
        "Pos:  15.9s    381f (37%) 269.83fps Trem:   0min   2mb  A-V:0.000 [439:0]\r",
        "Pos:  15.9s    382f (37%) 269.96fps Trem:   0min   2mb  A-V:0.000 [439:0]\r",
        "Pos:  16.0s    383f (37%) 269.91fps Trem:   0min   2mb  A-V:0.000 [440:0]\r"
       ]
      },
      {
       "output_type": "stream",
       "stream": "stdout",
       "text": [
        "Pos:  16.0s    384f (38%) 269.85fps Trem:   0min   2mb  A-V:0.000 [440:0]\r",
        "Pos:  16.0s    385f (38%) 269.99fps Trem:   0min   2mb  A-V:0.000 [440:0]\r",
        "Pos:  16.1s    386f (38%) 270.12fps Trem:   0min   2mb  A-V:0.000 [440:0]\r",
        "Pos:  16.1s    387f (38%) 270.06fps Trem:   0min   2mb  A-V:0.000 [440:0]\r",
        "Pos:  16.2s    388f (38%) 270.19fps Trem:   0min   2mb  A-V:0.000 [440:0]\r",
        "Pos:  16.2s    389f (38%) 270.33fps Trem:   0min   2mb  A-V:0.000 [440:0]\r",
        "Pos:  16.2s    390f (38%) 270.27fps Trem:   0min   2mb  A-V:0.000 [440:0]\r",
        "Pos:  16.3s    391f (38%) 270.40fps Trem:   0min   2mb  A-V:0.000 [440:0]\r",
        "Pos:  16.3s    392f (38%) 270.53fps Trem:   0min   2mb  A-V:0.000 [440:0]\r",
        "Pos:  16.4s    393f (38%) 270.47fps Trem:   0min   2mb  A-V:0.000 [440:0]\r",
        "Pos:  16.4s    394f (39%) 270.60fps Trem:   0min   2mb  A-V:0.000 [440:0]\r",
        "Pos:  16.5s    395f (39%) 270.73fps Trem:   0min   2mb  A-V:0.000 [440:0]\r",
        "Pos:  16.5s    396f (39%) 270.31fps Trem:   0min   2mb  A-V:0.000 [440:0]\r",
        "Pos:  16.5s    397f (39%) 270.44fps Trem:   0min   2mb  A-V:0.000 [440:0]\r"
       ]
      },
      {
       "output_type": "stream",
       "stream": "stdout",
       "text": [
        "Pos:  16.6s    398f (39%) 270.38fps Trem:   0min   2mb  A-V:0.000 [440:0]\r",
        "Pos:  16.6s    399f (39%) 270.51fps Trem:   0min   2mb  A-V:0.000 [440:0]\r",
        "Pos:  16.7s    400f (39%) 270.45fps Trem:   0min   2mb  A-V:0.000 [440:0]\r",
        "Pos:  16.7s    401f (39%) 270.58fps Trem:   0min   2mb  A-V:0.000 [440:0]\r",
        "Pos:  16.8s    402f (39%) 270.52fps Trem:   0min   2mb  A-V:0.000 [440:0]\r",
        "Pos:  16.8s    403f (39%) 270.65fps Trem:   0min   2mb  A-V:0.000 [440:0]\r",
        "Pos:  16.8s    404f (40%) 270.78fps Trem:   0min   2mb  A-V:0.000 [440:0]\r",
        "Pos:  16.9s    405f (40%) 270.72fps Trem:   0min   2mb  A-V:0.000 [441:0]\r",
        "Pos:  16.9s    406f (40%) 270.85fps Trem:   0min   2mb  A-V:0.000 [441:0]\r",
        "Pos:  17.0s    407f (40%) 270.97fps Trem:   0min   2mb  A-V:0.000 [441:0]\r",
        "Pos:  17.0s    408f (40%) 270.92fps Trem:   0min   2mb  A-V:0.000 [441:0]\r",
        "Pos:  17.0s    409f (40%) 271.04fps Trem:   0min   2mb  A-V:0.000 [442:0]\r",
        "Pos:  17.1s    410f (40%) 271.16fps Trem:   0min   2mb  A-V:0.000 [442:0]\r",
        "Pos:  17.1s    411f (40%) 271.29fps Trem:   0min   2mb  A-V:0.000 [442:0]\r",
        "Pos:  17.2s    412f (40%) 271.41fps Trem:   0min   2mb  A-V:0.000 [443:0]\r"
       ]
      },
      {
       "output_type": "stream",
       "stream": "stdout",
       "text": [
        "Pos:  17.2s    413f (40%) 271.35fps Trem:   0min   2mb  A-V:0.000 [443:0]\r",
        "Pos:  17.2s    414f (41%) 271.30fps Trem:   0min   2mb  A-V:0.000 [443:0]\r",
        "Pos:  17.3s    415f (41%) 271.42fps Trem:   0min   2mb  A-V:0.000 [443:0]\r",
        "Pos:  17.3s    416f (41%) 271.36fps Trem:   0min   2mb  A-V:0.000 [443:0]\r",
        "Pos:  17.4s    417f (41%) 271.48fps Trem:   0min   2mb  A-V:0.000 [443:0]\r",
        "Pos:  17.4s    418f (41%) 271.60fps Trem:   0min   2mb  A-V:0.000 [443:0]\r",
        "Pos:  17.5s    419f (41%) 271.73fps Trem:   0min   2mb  A-V:0.000 [443:0]\r",
        "Pos:  17.5s    420f (41%) 271.84fps Trem:   0min   2mb  A-V:0.000 [443:0]\r",
        "Pos:  17.5s    421f (41%) 271.96fps Trem:   0min   2mb  A-V:0.000 [443:0]\r",
        "Pos:  17.6s    422f (41%) 272.08fps Trem:   0min   2mb  A-V:0.000 [444:0]\r",
        "Pos:  17.6s    423f (41%) 272.03fps Trem:   0min   2mb  A-V:0.000 [444:0]\r",
        "Pos:  17.7s    424f (42%) 272.14fps Trem:   0min   2mb  A-V:0.000 [444:0]\r",
        "Pos:  17.7s    425f (42%) 272.26fps Trem:   0min   2mb  A-V:0.000 [444:0]\r",
        "Pos:  17.8s    426f (42%) 272.38fps Trem:   0min   2mb  A-V:0.000 [444:0]\r",
        "Pos:  17.8s    427f (42%) 272.50fps Trem:   0min   2mb  A-V:0.000 [444:0]\r",
        "Pos:  17.8s    428f (42%) 272.44fps Trem:   0min   2mb  A-V:0.000 [444:0]\r"
       ]
      },
      {
       "output_type": "stream",
       "stream": "stdout",
       "text": [
        "Pos:  17.9s    429f (42%) 272.55fps Trem:   0min   2mb  A-V:0.000 [445:0]\r",
        "Pos:  17.9s    430f (42%) 272.50fps Trem:   0min   2mb  A-V:0.000 [445:0]\r",
        "Pos:  18.0s    431f (42%) 272.61fps Trem:   0min   2mb  A-V:0.000 [445:0]\r",
        "Pos:  18.0s    432f (42%) 272.73fps Trem:   0min   2mb  A-V:0.000 [445:0]\r",
        "Pos:  18.0s    433f (42%) 272.67fps Trem:   0min   2mb  A-V:0.000 [445:0]\r",
        "Pos:  18.1s    434f (42%) 272.78fps Trem:   0min   2mb  A-V:0.000 [445:0]\r",
        "Pos:  18.1s    435f (43%) 272.90fps Trem:   0min   2mb  A-V:0.000 [445:0]\r",
        "Pos:  18.2s    436f (43%) 273.01fps Trem:   0min   2mb  A-V:0.000 [444:0]\r",
        "Pos:  18.2s    437f (43%) 273.12fps Trem:   0min   2mb  A-V:0.000 [444:0]\r",
        "Pos:  18.2s    438f (43%) 273.07fps Trem:   0min   2mb  A-V:0.000 [444:0]\r",
        "Pos:  18.3s    439f (43%) 273.18fps Trem:   0min   2mb  A-V:0.000 [444:0]\r",
        "Pos:  18.3s    440f (43%) 273.12fps Trem:   0min   2mb  A-V:0.000 [444:0]\r",
        "Pos:  18.4s    441f (43%) 273.23fps Trem:   0min   2mb  A-V:0.000 [444:0]\r",
        "Pos:  18.4s    442f (43%) 273.35fps Trem:   0min   2mb  A-V:0.000 [444:0]\r",
        "Pos:  18.5s    443f (43%) 273.46fps Trem:   0min   2mb  A-V:0.000 [443:0]\r"
       ]
      },
      {
       "output_type": "stream",
       "stream": "stdout",
       "text": [
        "Pos:  18.5s    444f (43%) 273.57fps Trem:   0min   2mb  A-V:0.000 [443:0]\r",
        "Pos:  18.5s    445f (44%) 273.51fps Trem:   0min   2mb  A-V:0.000 [443:0]\r",
        "Pos:  18.6s    446f (44%) 273.45fps Trem:   0min   2mb  A-V:0.000 [443:0]\r",
        "Pos:  18.6s    447f (44%) 273.56fps Trem:   0min   2mb  A-V:0.000 [443:0]\r",
        "Pos:  18.7s    448f (44%) 273.34fps Trem:   0min   2mb  A-V:0.000 [443:0]\r",
        "Pos:  18.7s    449f (44%) 273.28fps Trem:   0min   2mb  A-V:0.000 [443:0]\r",
        "Pos:  18.8s    450f (44%) 273.39fps Trem:   0min   2mb  A-V:0.000 [443:0]\r",
        "Pos:  18.8s    451f (44%) 273.17fps Trem:   0min   2mb  A-V:0.000 [442:0]\r",
        "Pos:  18.8s    452f (44%) 272.95fps Trem:   0min   2mb  A-V:0.000 [442:0]\r",
        "Pos:  18.9s    453f (44%) 273.06fps Trem:   0min   2mb  A-V:0.000 [442:0]\r",
        "Pos:  18.9s    454f (44%) 273.16fps Trem:   0min   2mb  A-V:0.000 [442:0]\r",
        "Pos:  19.0s    455f (45%) 273.27fps Trem:   0min   2mb  A-V:0.000 [442:0]\r",
        "Pos:  19.0s    456f (45%) 273.22fps Trem:   0min   2mb  A-V:0.000 [442:0]\r",
        "Pos:  19.0s    457f (45%) 273.33fps Trem:   0min   2mb  A-V:0.000 [442:0]\r"
       ]
      },
      {
       "output_type": "stream",
       "stream": "stdout",
       "text": [
        "Pos:  19.1s    458f (45%) 273.43fps Trem:   0min   2mb  A-V:0.000 [442:0]\r",
        "Pos:  19.1s    459f (45%) 273.38fps Trem:   0min   2mb  A-V:0.000 [442:0]\r",
        "Pos:  19.2s    460f (45%) 273.48fps Trem:   0min   2mb  A-V:0.000 [442:0]\r",
        "Pos:  19.2s    461f (45%) 273.43fps Trem:   0min   2mb  A-V:0.000 [441:0]\r",
        "Pos:  19.2s    462f (45%) 273.53fps Trem:   0min   2mb  A-V:0.000 [441:0]\r",
        "Pos:  19.3s    463f (45%) 273.64fps Trem:   0min   2mb  A-V:0.000 [441:0]\r",
        "Pos:  19.3s    464f (45%) 273.75fps Trem:   0min   2mb  A-V:0.000 [441:0]\r",
        "Pos:  19.4s    465f (46%) 273.21fps Trem:   0min   2mb  A-V:0.000 [441:0]\r",
        "Pos:  19.4s    466f (46%) 273.31fps Trem:   0min   2mb  A-V:0.000 [441:0]\r",
        "Pos:  19.5s    467f (46%) 273.42fps Trem:   0min   2mb  A-V:0.000 [441:0]\r",
        "Pos:  19.5s    468f (46%) 273.36fps Trem:   0min   2mb  A-V:0.000 [441:0]\r",
        "Pos:  19.5s    469f (46%) 273.47fps Trem:   0min   2mb  A-V:0.000 [441:0]\r",
        "Pos:  19.6s    470f (46%) 273.57fps Trem:   0min   2mb  A-V:0.000 [441:0]\r",
        "Pos:  19.6s    471f (46%) 273.68fps Trem:   0min   2mb  A-V:0.000 [441:0]\r",
        "Pos:  19.7s    472f (46%) 273.78fps Trem:   0min   2mb  A-V:0.000 [441:0]\r"
       ]
      },
      {
       "output_type": "stream",
       "stream": "stdout",
       "text": [
        "Pos:  19.7s    473f (46%) 273.73fps Trem:   0min   2mb  A-V:0.000 [441:0]\r",
        "Pos:  19.8s    474f (46%) 273.67fps Trem:   0min   2mb  A-V:0.000 [441:0]\r",
        "Pos:  19.8s    475f (47%) 273.78fps Trem:   0min   2mb  A-V:0.000 [441:0]\r",
        "Pos:  19.8s    476f (47%) 273.88fps Trem:   0min   2mb  A-V:0.000 [441:0]\r",
        "Pos:  19.9s    477f (47%) 273.82fps Trem:   0min   2mb  A-V:0.000 [441:0]\r",
        "Pos:  19.9s    478f (47%) 273.93fps Trem:   0min   2mb  A-V:0.000 [441:0]\r",
        "Pos:  20.0s    479f (47%) 274.03fps Trem:   0min   2mb  A-V:0.000 [441:0]\r",
        "Pos:  20.0s    480f (47%) 273.97fps Trem:   0min   2mb  A-V:0.000 [441:0]\r",
        "Pos:  20.0s    481f (47%) 274.07fps Trem:   0min   2mb  A-V:0.000 [442:0]\r",
        "Pos:  20.1s    482f (47%) 274.02fps Trem:   0min   2mb  A-V:0.000 [442:0]\r",
        "Pos:  20.1s    483f (47%) 274.12fps Trem:   0min   2mb  A-V:0.000 [442:0]\r",
        "Pos:  20.2s    484f (47%) 274.22fps Trem:   0min   2mb  A-V:0.000 [442:0]\r",
        "Pos:  20.2s    485f (48%) 274.17fps Trem:   0min   2mb  A-V:0.000 [443:0]\r",
        "Pos:  20.2s    486f (48%) 274.27fps Trem:   0min   2mb  A-V:0.000 [443:0]\r",
        "Pos:  20.3s    487f (48%) 274.37fps Trem:   0min   2mb  A-V:0.000 [443:0]\r"
       ]
      },
      {
       "output_type": "stream",
       "stream": "stdout",
       "text": [
        "Pos:  20.3s    488f (48%) 274.16fps Trem:   0min   2mb  A-V:0.000 [443:0]\r",
        "Pos:  20.4s    489f (48%) 274.26fps Trem:   0min   2mb  A-V:0.000 [443:0]\r",
        "Pos:  20.4s    490f (48%) 274.36fps Trem:   0min   2mb  A-V:0.000 [443:0]\r",
        "Pos:  20.5s    491f (48%) 274.30fps Trem:   0min   2mb  A-V:0.000 [444:0]\r",
        "Pos:  20.5s    492f (48%) 274.40fps Trem:   0min   2mb  A-V:0.000 [444:0]\r",
        "Pos:  20.5s    493f (48%) 274.35fps Trem:   0min   2mb  A-V:0.000 [444:0]\r",
        "Pos:  20.6s    494f (48%) 274.44fps Trem:   0min   2mb  A-V:0.000 [443:0]\r",
        "Pos:  20.6s    495f (49%) 274.54fps Trem:   0min   2mb  A-V:0.000 [443:0]\r",
        "Pos:  20.7s    496f (49%) 274.64fps Trem:   0min   2mb  A-V:0.000 [443:0]\r",
        "Pos:  20.7s    497f (49%) 274.59fps Trem:   0min   2mb  A-V:0.000 [443:0]\r",
        "Pos:  20.8s    498f (49%) 274.68fps Trem:   0min   2mb  A-V:0.000 [442:0]\r",
        "Pos:  20.8s    499f (49%) 274.78fps Trem:   0min   2mb  A-V:0.000 [442:0]\r",
        "Pos:  20.8s    500f (49%) 274.73fps Trem:   0min   2mb  A-V:0.000 [442:0]\r",
        "Pos:  20.9s    501f (49%) 274.82fps Trem:   0min   2mb  A-V:0.000 [448:0]\r"
       ]
      },
      {
       "output_type": "stream",
       "stream": "stdout",
       "text": [
        "Pos:  20.9s    502f (49%) 274.77fps Trem:   0min   2mb  A-V:0.000 [448:0]\r",
        "Pos:  21.0s    503f (49%) 274.71fps Trem:   0min   2mb  A-V:0.000 [447:0]\r",
        "Pos:  21.0s    504f (49%) 274.81fps Trem:   0min   2mb  A-V:0.000 [447:0]\r",
        "Pos:  21.0s    505f (50%) 274.76fps Trem:   0min   2mb  A-V:0.000 [447:0]\r",
        "Pos:  21.1s    506f (50%) 274.85fps Trem:   0min   2mb  A-V:0.000 [446:0]\r",
        "Pos:  21.1s    507f (50%) 274.95fps Trem:   0min   2mb  A-V:0.000 [446:0]\r",
        "Pos:  21.2s    508f (50%) 275.04fps Trem:   0min   2mb  A-V:0.000 [446:0]\r",
        "Pos:  21.2s    509f (50%) 274.99fps Trem:   0min   2mb  A-V:0.000 [445:0]\r",
        "Pos:  21.2s    510f (50%) 275.08fps Trem:   0min   2mb  A-V:0.000 [445:0]\r",
        "Pos:  21.3s    511f (50%) 275.17fps Trem:   0min   2mb  A-V:0.000 [445:0]\r",
        "Pos:  21.3s    512f (50%) 275.12fps Trem:   0min   2mb  A-V:0.000 [445:0]\r",
        "Pos:  21.4s    513f (50%) 275.21fps Trem:   0min   2mb  A-V:0.000 [445:0]\r",
        "Pos:  21.4s    514f (50%) 275.31fps Trem:   0min   2mb  A-V:0.000 [444:0]\r",
        "Pos:  21.5s    515f (51%) 275.40fps Trem:   0min   2mb  A-V:0.000 [444:0]\r",
        "Pos:  21.5s    516f (51%) 275.35fps Trem:   0min   2mb  A-V:0.000 [444:0]\r",
        "Pos:  21.5s    517f (51%) 275.44fps Trem:   0min   2mb  A-V:0.000 [444:0]\r"
       ]
      },
      {
       "output_type": "stream",
       "stream": "stdout",
       "text": [
        "Pos:  21.6s    518f (51%) 275.39fps Trem:   0min   2mb  A-V:0.000 [443:0]\r",
        "Pos:  21.6s    519f (51%) 275.33fps Trem:   0min   2mb  A-V:0.000 [443:0]\r",
        "Pos:  21.7s    520f (51%) 275.28fps Trem:   0min   2mb  A-V:0.000 [443:0]\r",
        "Pos:  21.7s    521f (51%) 275.37fps Trem:   0min   2mb  A-V:0.000 [442:0]\r",
        "Pos:  21.8s    522f (51%) 275.46fps Trem:   0min   2mb  A-V:0.000 [442:0]\r",
        "Pos:  21.8s    523f (51%) 275.41fps Trem:   0min   2mb  A-V:0.000 [441:0]\r",
        "Pos:  21.8s    524f (51%) 275.50fps Trem:   0min   2mb  A-V:0.000 [441:0]\r",
        "Pos:  21.9s    525f (52%) 275.59fps Trem:   0min   2mb  A-V:0.000 [441:0]\r",
        "Pos:  21.9s    526f (52%) 275.54fps Trem:   0min   2mb  A-V:0.000 [441:0]\r",
        "Pos:  22.0s    527f (52%) 275.63fps Trem:   0min   2mb  A-V:0.000 [440:0]\r",
        "Pos:  22.0s    528f (52%) 275.72fps Trem:   0min   2mb  A-V:0.000 [440:0]\r",
        "Pos:  22.0s    529f (52%) 275.66fps Trem:   0min   2mb  A-V:0.000 [439:0]\r",
        "Pos:  22.1s    530f (52%) 275.75fps Trem:   0min   2mb  A-V:0.000 [439:0]\r",
        "Pos:  22.1s    531f (52%) 275.70fps Trem:   0min   2mb  A-V:0.000 [439:0]\r"
       ]
      },
      {
       "output_type": "stream",
       "stream": "stdout",
       "text": [
        "Pos:  22.2s    532f (52%) 275.79fps Trem:   0min   2mb  A-V:0.000 [438:0]\r",
        "Pos:  22.2s    533f (52%) 275.74fps Trem:   0min   2mb  A-V:0.000 [438:0]\r",
        "Pos:  22.2s    534f (52%) 275.83fps Trem:   0min   2mb  A-V:0.000 [438:0]\r",
        "Pos:  22.3s    535f (53%) 275.92fps Trem:   0min   2mb  A-V:0.000 [438:0]\r",
        "Pos:  22.3s    536f (53%) 276.00fps Trem:   0min   2mb  A-V:0.000 [437:0]\r",
        "Pos:  22.4s    537f (53%) 275.95fps Trem:   0min   2mb  A-V:0.000 [437:0]\r",
        "Pos:  22.4s    538f (53%) 276.04fps Trem:   0min   2mb  A-V:0.000 [437:0]\r",
        "Pos:  22.5s    539f (53%) 276.13fps Trem:   0min   2mb  A-V:0.000 [436:0]\r",
        "Pos:  22.5s    540f (53%) 276.07fps Trem:   0min   2mb  A-V:0.000 [436:0]\r",
        "Pos:  22.5s    541f (53%) 276.16fps Trem:   0min   2mb  A-V:0.000 [436:0]\r",
        "Pos:  22.6s    542f (53%) 276.25fps Trem:   0min   2mb  A-V:0.000 [435:0]\r",
        "Pos:  22.6s    543f (53%) 276.34fps Trem:   0min   2mb  A-V:0.000 [435:0]\r",
        "Pos:  22.7s    544f (53%) 276.28fps Trem:   0min   2mb  A-V:0.000 [435:0]\r",
        "Pos:  22.7s    545f (54%) 276.37fps Trem:   0min   2mb  A-V:0.000 [435:0]\r",
        "Pos:  22.8s    546f (54%) 276.46fps Trem:   0min   2mb  A-V:0.000 [435:0]\r",
        "Pos:  22.8s    547f (54%) 276.54fps Trem:   0min   2mb  A-V:0.000 [434:0]\r"
       ]
      },
      {
       "output_type": "stream",
       "stream": "stdout",
       "text": [
        "Pos:  22.8s    548f (54%) 276.49fps Trem:   0min   2mb  A-V:0.000 [434:0]\r",
        "Pos:  22.9s    549f (54%) 276.57fps Trem:   0min   2mb  A-V:0.000 [434:0]\r",
        "Pos:  22.9s    550f (54%) 276.52fps Trem:   0min   2mb  A-V:0.000 [434:0]\r",
        "Pos:  23.0s    551f (54%) 276.61fps Trem:   0min   2mb  A-V:0.000 [434:0]\r",
        "Pos:  23.0s    552f (54%) 276.69fps Trem:   0min   2mb  A-V:0.000 [434:0]\r",
        "Pos:  23.0s    553f (54%) 276.64fps Trem:   0min   2mb  A-V:0.000 [433:0]\r",
        "Pos:  23.1s    554f (54%) 276.72fps Trem:   0min   2mb  A-V:0.000 [433:0]\r",
        "Pos:  23.1s    555f (55%) 276.67fps Trem:   0min   2mb  A-V:0.000 [433:0]\r",
        "Pos:  23.2s    556f (55%) 276.48fps Trem:   0min   2mb  A-V:0.000 [433:0]\r",
        "Pos:  23.2s    557f (55%) 276.56fps Trem:   0min   2mb  A-V:0.000 [432:0]\r",
        "Pos:  23.2s    558f (55%) 276.65fps Trem:   0min   2mb  A-V:0.000 [432:0]\r",
        "Pos:  23.3s    559f (55%) 276.73fps Trem:   0min   2mb  A-V:0.000 [432:0]\r",
        "Pos:  23.3s    560f (55%) 276.68fps Trem:   0min   2mb  A-V:0.000 [432:0]\r",
        "Pos:  23.4s    561f (55%) 276.35fps Trem:   0min   2mb  A-V:0.000 [431:0]\r"
       ]
      },
      {
       "output_type": "stream",
       "stream": "stdout",
       "text": [
        "Pos:  23.4s    562f (55%) 276.03fps Trem:   0min   2mb  A-V:0.000 [431:0]\r",
        "Pos:  23.5s    563f (55%) 275.98fps Trem:   0min   2mb  A-V:0.000 [430:0]\r",
        "Pos:  23.5s    564f (55%) 275.79fps Trem:   0min   2mb  A-V:0.000 [430:0]\r",
        "Pos:  23.5s    565f (56%) 275.61fps Trem:   0min   2mb  A-V:0.000 [430:0]\r",
        "Pos:  23.6s    566f (56%) 275.56fps Trem:   0min   2mb  A-V:0.000 [429:0]\r",
        "Pos:  23.6s    567f (56%) 275.38fps Trem:   0min   2mb  A-V:0.000 [429:0]\r",
        "Pos:  23.7s    568f (56%) 275.19fps Trem:   0min   2mb  A-V:0.000 [429:0]\r",
        "Pos:  23.7s    569f (56%) 275.28fps Trem:   0min   2mb  A-V:0.000 [428:0]\r",
        "Pos:  23.8s    570f (56%) 275.36fps Trem:   0min   2mb  A-V:0.000 [428:0]\r",
        "Pos:  23.8s    571f (56%) 275.45fps Trem:   0min   2mb  A-V:0.000 [428:0]\r",
        "Pos:  23.8s    572f (56%) 275.40fps Trem:   0min   2mb  A-V:0.000 [427:0]\r"
       ]
      },
      {
       "output_type": "stream",
       "stream": "stdout",
       "text": [
        "Pos:  23.9s    573f (56%) 274.95fps Trem:   0min   2mb  A-V:0.000 [427:0]\r",
        "Pos:  23.9s    574f (56%) 274.64fps Trem:   0min   2mb  A-V:0.000 [427:0]\r",
        "Pos:  24.0s    575f (57%) 274.59fps Trem:   0min   2mb  A-V:0.000 [426:0]\r",
        "Pos:  24.0s    576f (57%) 274.42fps Trem:   0min   2mb  A-V:0.000 [426:0]\r",
        "Pos:  24.0s    577f (57%) 274.24fps Trem:   0min   2mb  A-V:0.000 [426:0]\r",
        "Pos:  24.1s    578f (57%) 274.06fps Trem:   0min   2mb  A-V:0.000 [425:0]\r",
        "Pos:  24.1s    579f (57%) 273.89fps Trem:   0min   2mb  A-V:0.000 [425:0]\r",
        "Pos:  24.2s    580f (57%) 273.97fps Trem:   0min   2mb  A-V:0.000 [425:0]\r",
        "Pos:  24.2s    581f (57%) 274.06fps Trem:   0min   2mb  A-V:0.000 [424:0]\r",
        "Pos:  24.2s    582f (57%) 274.01fps Trem:   0min   2mb  A-V:0.000 [424:0]\r",
        "Pos:  24.3s    583f (57%) 274.09fps Trem:   0min   2mb  A-V:0.000 [424:0]\r",
        "Pos:  24.3s    584f (57%) 274.05fps Trem:   0min   2mb  A-V:0.000 [423:0]\r"
       ]
      },
      {
       "output_type": "stream",
       "stream": "stdout",
       "text": [
        "Pos:  24.4s    585f (57%) 274.13fps Trem:   0min   2mb  A-V:0.000 [423:0]\r",
        "Pos:  24.4s    586f (58%) 274.22fps Trem:   0min   2mb  A-V:0.000 [423:0]\r",
        "Pos:  24.5s    587f (58%) 274.17fps Trem:   0min   2mb  A-V:0.000 [422:0]\r",
        "Pos:  24.5s    588f (58%) 273.87fps Trem:   0min   2mb  A-V:0.000 [422:0]\r",
        "Pos:  24.5s    589f (58%) 273.95fps Trem:   0min   2mb  A-V:0.000 [422:0]\r",
        "Pos:  24.6s    590f (58%) 274.04fps Trem:   0min   2mb  A-V:0.000 [421:0]\r",
        "Pos:  24.6s    591f (58%) 274.12fps Trem:   0min   2mb  A-V:0.000 [421:0]\r",
        "Pos:  24.7s    592f (58%) 274.20fps Trem:   0min   2mb  A-V:0.000 [421:0]\r",
        "Pos:  24.7s    593f (58%) 274.16fps Trem:   0min   2mb  A-V:0.000 [421:0]\r",
        "Pos:  24.8s    594f (58%) 274.24fps Trem:   0min   2mb  A-V:0.000 [420:0]\r",
        "Pos:  24.8s    595f (58%) 274.19fps Trem:   0min   2mb  A-V:0.000 [420:0]\r",
        "Pos:  24.8s    596f (59%) 274.28fps Trem:   0min   2mb  A-V:0.000 [420:0]\r",
        "Pos:  24.9s    597f (59%) 274.36fps Trem:   0min   2mb  A-V:0.000 [420:0]\r",
        "Pos:  24.9s    598f (59%) 274.44fps Trem:   0min   2mb  A-V:0.000 [419:0]\r",
        "Pos:  25.0s    599f (59%) 274.39fps Trem:   0min   2mb  A-V:0.000 [419:0]\r"
       ]
      },
      {
       "output_type": "stream",
       "stream": "stdout",
       "text": [
        "Pos:  25.0s    600f (59%) 273.60fps Trem:   0min   2mb  A-V:0.000 [419:0]\r",
        "Pos:  25.0s    601f (59%) 273.55fps Trem:   0min   2mb  A-V:0.000 [419:0]\r",
        "Pos:  25.1s    602f (59%) 273.39fps Trem:   0min   2mb  A-V:0.000 [419:0]\r",
        "Pos:  25.1s    603f (59%) 273.22fps Trem:   0min   2mb  A-V:0.000 [418:0]\r",
        "Pos:  25.2s    604f (59%) 273.18fps Trem:   0min   2mb  A-V:0.000 [418:0]\r",
        "Pos:  25.2s    605f (59%) 273.26fps Trem:   0min   2mb  A-V:0.000 [418:0]\r",
        "Pos:  25.2s    606f (60%) 273.22fps Trem:   0min   2mb  A-V:0.000 [418:0]\r",
        "Pos:  25.3s    607f (60%) 273.30fps Trem:   0min   2mb  A-V:0.000 [418:0]\r",
        "Pos:  25.3s    608f (60%) 273.38fps Trem:   0min   2mb  A-V:0.000 [418:0]\r",
        "Pos:  25.4s    609f (60%) 273.34fps Trem:   0min   2mb  A-V:0.000 [418:0]\r",
        "Pos:  25.4s    610f (60%) 273.42fps Trem:   0min   2mb  A-V:0.000 [418:0]\r",
        "Pos:  25.5s    611f (60%) 273.50fps Trem:   0min   2mb  A-V:0.000 [419:0]\r"
       ]
      },
      {
       "output_type": "stream",
       "stream": "stdout",
       "text": [
        "Pos:  25.5s    612f (60%) 273.09fps Trem:   0min   2mb  A-V:0.000 [419:0]\r",
        "Pos:  25.5s    613f (60%) 273.05fps Trem:   0min   2mb  A-V:0.000 [419:0]\r",
        "Pos:  25.6s    614f (60%) 273.13fps Trem:   0min   2mb  A-V:0.000 [419:0]\r",
        "Pos:  25.6s    615f (60%) 273.09fps Trem:   0min   2mb  A-V:0.000 [419:0]\r",
        "Pos:  25.7s    616f (61%) 273.17fps Trem:   0min   2mb  A-V:0.000 [419:0]\r",
        "Pos:  25.7s    617f (61%) 273.25fps Trem:   0min   2mb  A-V:0.000 [419:0]\r",
        "Pos:  25.8s    618f (61%) 273.33fps Trem:   0min   2mb  A-V:0.000 [419:0]\r",
        "Pos:  25.8s    619f (61%) 273.41fps Trem:   0min   2mb  A-V:0.000 [419:0]\r",
        "Pos:  25.8s    620f (61%) 273.49fps Trem:   0min   2mb  A-V:0.000 [419:0]\r",
        "Pos:  25.9s    621f (61%) 273.57fps Trem:   0min   2mb  A-V:0.000 [419:0]\r",
        "Pos:  25.9s    622f (61%) 273.65fps Trem:   0min   2mb  A-V:0.000 [419:0]\r",
        "Pos:  26.0s    623f (61%) 273.73fps Trem:   0min   2mb  A-V:0.000 [419:0]\r",
        "Pos:  26.0s    624f (61%) 273.80fps Trem:   0min   2mb  A-V:0.000 [419:0]\r",
        "Pos:  26.0s    625f (61%) 273.76fps Trem:   0min   2mb  A-V:0.000 [419:0]\r"
       ]
      },
      {
       "output_type": "stream",
       "stream": "stdout",
       "text": [
        "Pos:  26.1s    626f (62%) 273.84fps Trem:   0min   2mb  A-V:0.000 [419:0]\r",
        "Pos:  26.1s    627f (62%) 273.80fps Trem:   0min   2mb  A-V:0.000 [419:0]\r",
        "Pos:  26.2s    628f (62%) 273.88fps Trem:   0min   2mb  A-V:0.000 [419:0]\r",
        "Pos:  26.2s    629f (62%) 273.95fps Trem:   0min   2mb  A-V:0.000 [419:0]\r",
        "Pos:  26.2s    630f (62%) 273.91fps Trem:   0min   2mb  A-V:0.000 [419:0]\r",
        "Pos:  26.3s    631f (62%) 273.99fps Trem:   0min   2mb  A-V:0.000 [419:0]\r",
        "Pos:  26.3s    632f (62%) 274.07fps Trem:   0min   2mb  A-V:0.000 [419:0]\r",
        "Pos:  26.4s    633f (62%) 274.14fps Trem:   0min   2mb  A-V:0.000 [418:0]\r",
        "Pos:  26.4s    634f (62%) 274.22fps Trem:   0min   2mb  A-V:0.000 [418:0]\r",
        "Pos:  26.5s    635f (62%) 274.30fps Trem:   0min   2mb  A-V:0.000 [418:0]\r",
        "Pos:  26.5s    636f (63%) 274.37fps Trem:   0min   2mb  A-V:0.000 [418:0]\r",
        "Pos:  26.5s    637f (63%) 274.45fps Trem:   0min   2mb  A-V:0.000 [418:0]\r",
        "Pos:  26.6s    638f (63%) 274.41fps Trem:   0min   2mb  A-V:0.000 [418:0]\r",
        "Pos:  26.6s    639f (63%) 274.48fps Trem:   0min   2mb  A-V:0.000 [418:0]\r",
        "Pos:  26.7s    640f (63%) 274.56fps Trem:   0min   2mb  A-V:0.000 [418:0]\r",
        "Pos:  26.7s    641f (63%) 274.52fps Trem:   0min   2mb  A-V:0.000 [418:0]\r"
       ]
      },
      {
       "output_type": "stream",
       "stream": "stdout",
       "text": [
        "Pos:  26.8s    642f (63%) 274.48fps Trem:   0min   2mb  A-V:0.000 [418:0]\r",
        "Pos:  26.8s    643f (63%) 274.55fps Trem:   0min   2mb  A-V:0.000 [418:0]\r",
        "Pos:  26.8s    644f (63%) 274.63fps Trem:   0min   2mb  A-V:0.000 [418:0]\r",
        "Pos:  26.9s    645f (63%) 274.58fps Trem:   0min   2mb  A-V:0.000 [417:0]\r",
        "Pos:  26.9s    646f (64%) 274.66fps Trem:   0min   2mb  A-V:0.000 [417:0]\r",
        "Pos:  27.0s    647f (64%) 274.73fps Trem:   0min   2mb  A-V:0.000 [417:0]\r",
        "Pos:  27.0s    648f (64%) 274.69fps Trem:   0min   2mb  A-V:0.000 [417:0]\r",
        "Pos:  27.0s    649f (64%) 274.77fps Trem:   0min   2mb  A-V:0.000 [417:0]\r",
        "Pos:  27.1s    650f (64%) 274.84fps Trem:   0min   2mb  A-V:0.000 [417:0]\r",
        "Pos:  27.1s    651f (64%) 274.80fps Trem:   0min   2mb  A-V:0.000 [417:0]\r",
        "Pos:  27.2s    652f (64%) 274.87fps Trem:   0min   2mb  A-V:0.000 [417:0]\r",
        "Pos:  27.2s    653f (64%) 274.83fps Trem:   0min   2mb  A-V:0.000 [417:0]\r",
        "Pos:  27.2s    654f (64%) 274.91fps Trem:   0min   2mb  A-V:0.000 [417:0]\r",
        "Pos:  27.3s    655f (64%) 274.98fps Trem:   0min   2mb  A-V:0.000 [417:0]\r",
        "Pos:  27.3s    656f (65%) 274.94fps Trem:   0min   2mb  A-V:0.000 [417:0]\r"
       ]
      },
      {
       "output_type": "stream",
       "stream": "stdout",
       "text": [
        "Pos:  27.4s    657f (65%) 274.90fps Trem:   0min   2mb  A-V:0.000 [417:0]\r",
        "Pos:  27.4s    658f (65%) 274.97fps Trem:   0min   2mb  A-V:0.000 [417:0]\r",
        "Pos:  27.5s    659f (65%) 274.93fps Trem:   0min   2mb  A-V:0.000 [417:0]\r",
        "Pos:  27.5s    660f (65%) 275.00fps Trem:   0min   2mb  A-V:0.000 [417:0]\r",
        "Pos:  27.5s    661f (65%) 274.96fps Trem:   0min   2mb  A-V:0.000 [417:0]\r",
        "Pos:  27.6s    662f (65%) 275.03fps Trem:   0min   2mb  A-V:0.000 [417:0]\r",
        "Pos:  27.6s    663f (65%) 275.10fps Trem:   0min   2mb  A-V:0.000 [418:0]\r",
        "Pos:  27.7s    664f (65%) 275.18fps Trem:   0min   2mb  A-V:0.000 [418:0]\r",
        "Pos:  27.7s    665f (65%) 275.25fps Trem:   0min   2mb  A-V:0.000 [418:0]\r",
        "Pos:  27.8s    666f (66%) 275.32fps Trem:   0min   2mb  A-V:0.000 [418:0]\r",
        "Pos:  27.8s    667f (66%) 275.39fps Trem:   0min   2mb  A-V:0.000 [418:0]\r",
        "Pos:  27.8s    668f (66%) 275.35fps Trem:   0min   2mb  A-V:0.000 [419:0]\r",
        "Pos:  27.9s    669f (66%) 275.42fps Trem:   0min   2mb  A-V:0.000 [419:0]\r",
        "Pos:  27.9s    670f (66%) 275.49fps Trem:   0min   2mb  A-V:0.000 [419:0]\r",
        "Pos:  28.0s    671f (66%) 275.56fps Trem:   0min   2mb  A-V:0.000 [419:0]\r"
       ]
      },
      {
       "output_type": "stream",
       "stream": "stdout",
       "text": [
        "Pos:  28.0s    672f (66%) 275.52fps Trem:   0min   2mb  A-V:0.000 [419:0]\r",
        "Pos:  28.0s    673f (66%) 275.48fps Trem:   0min   2mb  A-V:0.000 [419:0]\r",
        "Pos:  28.1s    674f (66%) 275.55fps Trem:   0min   2mb  A-V:0.000 [419:0]\r",
        "Pos:  28.1s    675f (66%) 275.62fps Trem:   0min   2mb  A-V:0.000 [419:0]\r",
        "Pos:  28.2s    676f (67%) 275.69fps Trem:   0min   2mb  A-V:0.000 [419:0]\r",
        "Pos:  28.2s    677f (67%) 275.65fps Trem:   0min   2mb  A-V:0.000 [419:0]\r",
        "Pos:  28.2s    678f (67%) 275.72fps Trem:   0min   2mb  A-V:0.000 [419:0]\r",
        "Pos:  28.3s    679f (67%) 275.79fps Trem:   0min   2mb  A-V:0.000 [420:0]\r",
        "Pos:  28.3s    680f (67%) 275.75fps Trem:   0min   2mb  A-V:0.000 [420:0]\r",
        "Pos:  28.4s    681f (67%) 275.71fps Trem:   0min   2mb  A-V:0.000 [420:0]\r",
        "Pos:  28.4s    682f (67%) 275.78fps Trem:   0min   2mb  A-V:0.000 [420:0]\r",
        "Pos:  28.5s    683f (67%) 275.85fps Trem:   0min   2mb  A-V:0.000 [420:0]\r",
        "Pos:  28.5s    684f (67%) 275.92fps Trem:   0min   2mb  A-V:0.000 [420:0]\r",
        "Pos:  28.5s    685f (67%) 275.99fps Trem:   0min   2mb  A-V:0.000 [421:0]\r",
        "Pos:  28.6s    686f (68%) 276.06fps Trem:   0min   2mb  A-V:0.000 [421:0]\r"
       ]
      },
      {
       "output_type": "stream",
       "stream": "stdout",
       "text": [
        "Pos:  28.6s    687f (68%) 276.13fps Trem:   0min   2mb  A-V:0.000 [421:0]\r",
        "Pos:  28.7s    688f (68%) 276.08fps Trem:   0min   2mb  A-V:0.000 [421:0]\r",
        "Pos:  28.7s    689f (68%) 276.04fps Trem:   0min   2mb  A-V:0.000 [421:0]\r",
        "Pos:  28.8s    690f (68%) 275.34fps Trem:   0min   2mb  A-V:0.000 [422:0]\r",
        "Pos:  28.8s    691f (68%) 275.19fps Trem:   0min   2mb  A-V:0.000 [422:0]\r",
        "Pos:  28.8s    692f (68%) 274.71fps Trem:   0min   2mb  A-V:0.000 [422:0]\r",
        "Pos:  28.9s    693f (68%) 274.67fps Trem:   0min   2mb  A-V:0.000 [422:0]\r",
        "Pos:  28.9s    694f (68%) 274.63fps Trem:   0min   2mb  A-V:0.000 [422:0]\r",
        "Pos:  29.0s    695f (68%) 274.70fps Trem:   0min   2mb  A-V:0.000 [422:0]\r",
        "Pos:  29.0s    696f (69%) 274.77fps Trem:   0min   2mb  A-V:0.000 [422:0]\r",
        "Pos:  29.0s    697f (69%) 274.73fps Trem:   0min   2mb  A-V:0.000 [422:0]\r"
       ]
      },
      {
       "output_type": "stream",
       "stream": "stdout",
       "text": [
        "Pos:  29.1s    698f (69%) 274.69fps Trem:   0min   2mb  A-V:0.000 [422:0]\r",
        "Pos:  29.1s    699f (69%) 274.76fps Trem:   0min   2mb  A-V:0.000 [422:0]\r",
        "Pos:  29.2s    700f (69%) 274.73fps Trem:   0min   2mb  A-V:0.000 [422:0]\r",
        "Pos:  29.2s    701f (69%) 274.79fps Trem:   0min   2mb  A-V:0.000 [423:0]\r",
        "Pos:  29.2s    702f (69%) 274.86fps Trem:   0min   2mb  A-V:0.000 [423:0]\r",
        "Pos:  29.3s    703f (69%) 274.82fps Trem:   0min   2mb  A-V:0.000 [423:0]\r",
        "Pos:  29.3s    704f (69%) 274.89fps Trem:   0min   2mb  A-V:0.000 [423:0]\r",
        "Pos:  29.4s    705f (69%) 274.96fps Trem:   0min   2mb  A-V:0.000 [423:0]\r",
        "Pos:  29.4s    706f (70%) 274.92fps Trem:   0min   2mb  A-V:0.000 [423:0]\r",
        "Pos:  29.5s    707f (70%) 274.88fps Trem:   0min   2mb  A-V:0.000 [423:0]\r",
        "Pos:  29.5s    708f (70%) 274.95fps Trem:   0min   2mb  A-V:0.000 [424:0]\r",
        "Pos:  29.5s    709f (70%) 275.02fps Trem:   0min   2mb  A-V:0.000 [424:0]\r",
        "Pos:  29.6s    710f (70%) 274.98fps Trem:   0min   2mb  A-V:0.000 [424:0]\r",
        "Pos:  29.6s    711f (70%) 275.05fps Trem:   0min   2mb  A-V:0.000 [424:0]\r",
        "Pos:  29.7s    712f (70%) 275.12fps Trem:   0min   2mb  A-V:0.000 [424:0]\r"
       ]
      },
      {
       "output_type": "stream",
       "stream": "stdout",
       "text": [
        "Pos:  29.7s    713f (70%) 275.08fps Trem:   0min   2mb  A-V:0.000 [424:0]\r",
        "Pos:  29.8s    714f (70%) 275.04fps Trem:   0min   2mb  A-V:0.000 [425:0]\r",
        "Pos:  29.8s    715f (70%) 275.11fps Trem:   0min   2mb  A-V:0.000 [425:0]\r",
        "Pos:  29.8s    716f (71%) 275.17fps Trem:   0min   2mb  A-V:0.000 [425:0]\r",
        "Pos:  29.9s    717f (71%) 275.24fps Trem:   0min   2mb  A-V:0.000 [425:0]\r",
        "Pos:  29.9s    718f (71%) 275.20fps Trem:   0min   2mb  A-V:0.000 [425:0]\r",
        "Pos:  30.0s    719f (71%) 275.27fps Trem:   0min   2mb  A-V:0.000 [425:0]\r",
        "Pos:  30.0s    720f (71%) 275.33fps Trem:   0min   2mb  A-V:0.000 [425:0]\r",
        "Pos:  30.0s    721f (71%) 275.30fps Trem:   0min   2mb  A-V:0.000 [425:0]\r",
        "Pos:  30.1s    722f (71%) 275.36fps Trem:   0min   2mb  A-V:0.000 [426:0]\r",
        "Pos:  30.1s    723f (71%) 275.43fps Trem:   0min   2mb  A-V:0.000 [426:0]\r",
        "Pos:  30.2s    724f (71%) 275.39fps Trem:   0min   2mb  A-V:0.000 [426:0]\r",
        "Pos:  30.2s    725f (71%) 275.46fps Trem:   0min   2mb  A-V:0.000 [426:0]\r",
        "Pos:  30.2s    726f (71%) 275.42fps Trem:   0min   2mb  A-V:0.000 [426:0]\r",
        "Pos:  30.3s    727f (72%) 275.48fps Trem:   0min   2mb  A-V:0.000 [427:0]\r"
       ]
      },
      {
       "output_type": "stream",
       "stream": "stdout",
       "text": [
        "Pos:  30.3s    728f (72%) 275.44fps Trem:   0min   2mb  A-V:0.000 [427:0]\r",
        "Pos:  30.4s    729f (72%) 275.41fps Trem:   0min   2mb  A-V:0.000 [427:0]\r",
        "Pos:  30.4s    730f (72%) 275.37fps Trem:   0min   2mb  A-V:0.000 [427:0]\r",
        "Pos:  30.5s    731f (72%) 275.43fps Trem:   0min   2mb  A-V:0.000 [427:0]\r",
        "Pos:  30.5s    732f (72%) 275.50fps Trem:   0min   2mb  A-V:0.000 [428:0]\r",
        "Pos:  30.5s    733f (72%) 275.56fps Trem:   0min   2mb  A-V:0.000 [428:0]\r",
        "Pos:  30.6s    734f (72%) 275.53fps Trem:   0min   2mb  A-V:0.000 [428:0]\r",
        "Pos:  30.6s    735f (72%) 275.59fps Trem:   0min   2mb  A-V:0.000 [428:0]\r",
        "Pos:  30.7s    736f (72%) 275.66fps Trem:   0min   2mb  A-V:0.000 [428:0]\r",
        "Pos:  30.7s    737f (73%) 275.62fps Trem:   0min   2mb  A-V:0.000 [429:0]\r",
        "Pos:  30.8s    738f (73%) 275.68fps Trem:   0min   2mb  A-V:0.000 [429:0]\r",
        "Pos:  30.8s    739f (73%) 275.75fps Trem:   0min   2mb  A-V:0.000 [429:0]\r",
        "Pos:  30.8s    740f (73%) 275.81fps Trem:   0min   2mb  A-V:0.000 [429:0]\r",
        "Pos:  30.9s    741f (73%) 275.87fps Trem:   0min   2mb  A-V:0.000 [429:0]\r",
        "Pos:  30.9s    742f (73%) 275.84fps Trem:   0min   2mb  A-V:0.000 [430:0]\r"
       ]
      },
      {
       "output_type": "stream",
       "stream": "stdout",
       "text": [
        "Pos:  31.0s    743f (73%) 275.90fps Trem:   0min   2mb  A-V:0.000 [430:0]\r",
        "Pos:  31.0s    744f (73%) 275.86fps Trem:   0min   2mb  A-V:0.000 [430:0]\r",
        "Pos:  31.0s    745f (73%) 275.93fps Trem:   0min   2mb  A-V:0.000 [430:0]\r",
        "Pos:  31.1s    746f (73%) 275.99fps Trem:   0min   2mb  A-V:0.000 [430:0]\r",
        "Pos:  31.1s    747f (74%) 276.05fps Trem:   0min   2mb  A-V:0.000 [431:0]\r",
        "Pos:  31.2s    748f (74%) 276.12fps Trem:   0min   2mb  A-V:0.000 [431:0]\r",
        "Pos:  31.2s    749f (74%) 276.18fps Trem:   0min   2mb  A-V:0.000 [431:0]\r",
        "Pos:  31.2s    750f (74%) 276.24fps Trem:   0min   2mb  A-V:0.000 [432:0]\r",
        "Pos:  31.3s    751f (74%) 276.20fps Trem:   0min   2mb  A-V:0.000 [436:0]\r",
        "Pos:  31.3s    752f (74%) 276.27fps Trem:   0min   2mb  A-V:0.000 [437:0]\r",
        "Pos:  31.4s    753f (74%) 276.33fps Trem:   0min   2mb  A-V:0.000 [437:0]\r",
        "Pos:  31.4s    754f (74%) 276.49fps Trem:   0min   2mb  A-V:0.000 [438:0]\r",
        "Pos:  31.5s    755f (74%) 276.56fps Trem:   0min   2mb  A-V:0.000 [439:0]\r",
        "Pos:  31.5s    756f (74%) 276.52fps Trem:   0min   2mb  A-V:0.000 [439:0]\r",
        "Pos:  31.5s    757f (75%) 276.58fps Trem:   0min   2mb  A-V:0.000 [440:0]\r",
        "Pos:  31.6s    758f (75%) 276.64fps Trem:   0min   2mb  A-V:0.000 [441:0]\r"
       ]
      },
      {
       "output_type": "stream",
       "stream": "stdout",
       "text": [
        "Pos:  31.6s    759f (75%) 276.70fps Trem:   0min   2mb  A-V:0.000 [441:0]\r",
        "Pos:  31.7s    760f (75%) 276.67fps Trem:   0min   2mb  A-V:0.000 [442:0]\r",
        "Pos:  31.7s    761f (75%) 276.73fps Trem:   0min   2mb  A-V:0.000 [443:0]\r",
        "Pos:  31.8s    762f (75%) 276.79fps Trem:   0min   2mb  A-V:0.000 [444:0]\r",
        "Pos:  31.8s    763f (75%) 276.85fps Trem:   0min   2mb  A-V:0.000 [444:0]\r",
        "Pos:  31.8s    764f (75%) 276.91fps Trem:   0min   2mb  A-V:0.000 [445:0]\r",
        "Pos:  31.9s    765f (75%) 276.97fps Trem:   0min   2mb  A-V:0.000 [446:0]\r",
        "Pos:  31.9s    766f (75%) 277.13fps Trem:   0min   2mb  A-V:0.000 [447:0]\r",
        "Pos:  32.0s    767f (76%) 277.20fps Trem:   0min   2mb  A-V:0.000 [447:0]\r",
        "Pos:  32.0s    768f (76%) 277.26fps Trem:   0min   2mb  A-V:0.000 [448:0]\r",
        "Pos:  32.0s    769f (76%) 277.32fps Trem:   0min   2mb  A-V:0.000 [449:0]\r",
        "Pos:  32.1s    770f (76%) 277.38fps Trem:   0min   2mb  A-V:0.000 [450:0]\r",
        "Pos:  32.1s    771f (76%) 277.44fps Trem:   0min   2mb  A-V:0.000 [450:0]\r",
        "Pos:  32.2s    772f (76%) 277.50fps Trem:   0min   2mb  A-V:0.000 [451:0]\r",
        "Pos:  32.2s    773f (76%) 277.56fps Trem:   0min   2mb  A-V:0.000 [452:0]\r",
        "Pos:  32.2s    774f (76%) 277.62fps Trem:   0min   2mb  A-V:0.000 [453:0]\r",
        "Pos:  32.3s    775f (76%) 277.68fps Trem:   0min   2mb  A-V:0.000 [453:0]\r"
       ]
      },
      {
       "output_type": "stream",
       "stream": "stdout",
       "text": [
        "Pos:  32.3s    776f (76%) 277.64fps Trem:   0min   2mb  A-V:0.000 [454:0]\r",
        "Pos:  32.4s    777f (77%) 277.70fps Trem:   0min   2mb  A-V:0.000 [455:0]\r",
        "Pos:  32.4s    778f (77%) 277.76fps Trem:   0min   2mb  A-V:0.000 [456:0]\r",
        "Pos:  32.5s    779f (77%) 277.82fps Trem:   0min   2mb  A-V:0.000 [456:0]\r",
        "Pos:  32.5s    780f (77%) 277.88fps Trem:   0min   2mb  A-V:0.000 [457:0]\r",
        "Pos:  32.5s    781f (77%) 277.94fps Trem:   0min   2mb  A-V:0.000 [458:0]\r",
        "Pos:  32.6s    782f (77%) 277.99fps Trem:   0min   2mb  A-V:0.000 [458:0]\r",
        "Pos:  32.6s    783f (77%) 278.05fps Trem:   0min   2mb  A-V:0.000 [459:0]\r",
        "Pos:  32.7s    784f (77%) 278.11fps Trem:   0min   2mb  A-V:0.000 [459:0]\r",
        "Pos:  32.7s    785f (77%) 278.17fps Trem:   0min   2mb  A-V:0.000 [460:0]\r",
        "Pos:  32.8s    786f (77%) 278.33fps Trem:   0min   2mb  A-V:0.000 [461:0]\r",
        "Pos:  32.8s    787f (78%) 278.39fps Trem:   0min   2mb  A-V:0.000 [461:0]\r",
        "Pos:  32.8s    788f (78%) 278.45fps Trem:   0min   2mb  A-V:0.000 [462:0]\r",
        "Pos:  32.9s    789f (78%) 278.50fps Trem:   0min   2mb  A-V:0.000 [462:0]\r",
        "Pos:  32.9s    790f (78%) 278.56fps Trem:   0min   2mb  A-V:0.000 [463:0]\r",
        "Pos:  33.0s    791f (78%) 278.62fps Trem:   0min   2mb  A-V:0.000 [464:0]\r"
       ]
      },
      {
       "output_type": "stream",
       "stream": "stdout",
       "text": [
        "Pos:  33.0s    792f (78%) 278.68fps Trem:   0min   2mb  A-V:0.000 [464:0]\r",
        "Pos:  33.0s    793f (78%) 278.64fps Trem:   0min   2mb  A-V:0.000 [465:0]\r",
        "Pos:  33.1s    794f (78%) 278.69fps Trem:   0min   2mb  A-V:0.000 [466:0]\r",
        "Pos:  33.1s    795f (78%) 278.75fps Trem:   0min   2mb  A-V:0.000 [466:0]\r",
        "Pos:  33.2s    796f (78%) 278.81fps Trem:   0min   2mb  A-V:0.000 [467:0]\r",
        "Pos:  33.2s    797f (79%) 278.87fps Trem:   0min   2mb  A-V:0.000 [467:0]\r",
        "Pos:  33.2s    798f (79%) 278.92fps Trem:   0min   2mb  A-V:0.000 [468:0]\r",
        "Pos:  33.3s    799f (79%) 278.98fps Trem:   0min   2mb  A-V:0.000 [468:0]\r",
        "Pos:  33.3s    800f (79%) 279.04fps Trem:   0min   2mb  A-V:0.000 [468:0]\r",
        "Pos:  33.4s    801f (79%) 279.19fps Trem:   0min   2mb  A-V:0.000 [469:0]\r",
        "Pos:  33.4s    802f (79%) 279.15fps Trem:   0min   2mb  A-V:0.000 [469:0]\r",
        "Pos:  33.5s    803f (79%) 279.30fps Trem:   0min   2mb  A-V:0.000 [469:0]\r",
        "Pos:  33.5s    804f (79%) 279.26fps Trem:   0min   2mb  A-V:0.000 [470:0]\r",
        "Pos:  33.5s    805f (79%) 279.32fps Trem:   0min   2mb  A-V:0.000 [470:0]\r",
        "Pos:  33.6s    806f (79%) 279.47fps Trem:   0min   2mb  A-V:0.000 [470:0]\r",
        "Pos:  33.6s    807f (80%) 279.53fps Trem:   0min   2mb  A-V:0.000 [470:0]\r",
        "Pos:  33.7s    808f (80%) 279.58fps Trem:   0min   2mb  A-V:0.000 [471:0]\r"
       ]
      },
      {
       "output_type": "stream",
       "stream": "stdout",
       "text": [
        "Pos:  33.7s    809f (80%) 279.64fps Trem:   0min   2mb  A-V:0.000 [471:0]\r",
        "Pos:  33.8s    810f (80%) 279.60fps Trem:   0min   2mb  A-V:0.000 [471:0]\r",
        "Pos:  33.8s    811f (80%) 279.66fps Trem:   0min   2mb  A-V:0.000 [472:0]\r",
        "Pos:  33.8s    812f (80%) 279.71fps Trem:   0min   2mb  A-V:0.000 [472:0]\r",
        "Pos:  33.9s    813f (80%) 279.77fps Trem:   0min   2mb  A-V:0.000 [473:0]\r",
        "Pos:  33.9s    814f (80%) 279.82fps Trem:   0min   2mb  A-V:0.000 [473:0]\r",
        "Pos:  34.0s    815f (80%) 279.88fps Trem:   0min   2mb  A-V:0.000 [473:0]\r",
        "Pos:  34.0s    816f (80%) 279.93fps Trem:   0min   2mb  A-V:0.000 [474:0]\r",
        "Pos:  34.0s    817f (81%) 279.99fps Trem:   0min   2mb  A-V:0.000 [474:0]\r",
        "Pos:  34.1s    818f (81%) 280.04fps Trem:   0min   2mb  A-V:0.000 [475:0]\r",
        "Pos:  34.1s    819f (81%) 280.19fps Trem:   0min   2mb  A-V:0.000 [475:0]\r",
        "Pos:  34.2s    820f (81%) 280.25fps Trem:   0min   2mb  A-V:0.000 [475:0]\r",
        "Pos:  34.2s    821f (81%) 280.30fps Trem:   0min   2mb  A-V:0.000 [475:0]\r",
        "Pos:  34.2s    822f (81%) 280.35fps Trem:   0min   2mb  A-V:0.000 [476:0]\r",
        "Pos:  34.3s    823f (81%) 280.41fps Trem:   0min   2mb  A-V:0.000 [476:0]\r",
        "Pos:  34.3s    824f (81%) 280.46fps Trem:   0min   2mb  A-V:0.000 [476:0]\r",
        "Pos:  34.4s    825f (81%) 280.52fps Trem:   0min   2mb  A-V:0.000 [476:0]\r"
       ]
      },
      {
       "output_type": "stream",
       "stream": "stdout",
       "text": [
        "Pos:  34.4s    826f (81%) 280.57fps Trem:   0min   2mb  A-V:0.000 [476:0]\r",
        "Pos:  34.5s    827f (82%) 280.62fps Trem:   0min   2mb  A-V:0.000 [477:0]\r",
        "Pos:  34.5s    828f (82%) 280.68fps Trem:   0min   2mb  A-V:0.000 [477:0]\r",
        "Pos:  34.5s    829f (82%) 280.73fps Trem:   0min   2mb  A-V:0.000 [477:0]\r",
        "Pos:  34.6s    830f (82%) 280.78fps Trem:   0min   2mb  A-V:0.000 [477:0]\r",
        "Pos:  34.6s    831f (82%) 280.84fps Trem:   0min   2mb  A-V:0.000 [477:0]\r",
        "Pos:  34.7s    832f (82%) 280.89fps Trem:   0min   2mb  A-V:0.000 [477:0]\r",
        "Pos:  34.7s    833f (82%) 280.94fps Trem:   0min   2mb  A-V:0.000 [477:0]\r",
        "Pos:  34.8s    834f (82%) 281.00fps Trem:   0min   2mb  A-V:0.000 [477:0]\r",
        "Pos:  34.8s    835f (82%) 281.05fps Trem:   0min   2mb  A-V:0.000 [478:0]\r",
        "Pos:  34.8s    836f (82%) 281.20fps Trem:   0min   2mb  A-V:0.000 [478:0]\r",
        "Pos:  34.9s    837f (83%) 281.25fps Trem:   0min   2mb  A-V:0.000 [478:0]\r",
        "Pos:  34.9s    838f (83%) 281.30fps Trem:   0min   2mb  A-V:0.000 [478:0]\r",
        "Pos:  35.0s    839f (83%) 281.35fps Trem:   0min   2mb  A-V:0.000 [478:0]\r",
        "Pos:  35.0s    840f (83%) 281.41fps Trem:   0min   2mb  A-V:0.000 [478:0]\r",
        "Pos:  35.0s    841f (83%) 281.46fps Trem:   0min   2mb  A-V:0.000 [478:0]\r",
        "Pos:  35.1s    842f (83%) 281.51fps Trem:   0min   2mb  A-V:0.000 [478:0]\r",
        "Pos:  35.1s    843f (83%) 281.56fps Trem:   0min   2mb  A-V:0.000 [479:0]\r"
       ]
      },
      {
       "output_type": "stream",
       "stream": "stdout",
       "text": [
        "Pos:  35.2s    844f (83%) 281.61fps Trem:   0min   2mb  A-V:0.000 [479:0]\r",
        "Pos:  35.2s    845f (83%) 281.67fps Trem:   0min   2mb  A-V:0.000 [479:0]\r",
        "Pos:  35.2s    846f (83%) 281.72fps Trem:   0min   2mb  A-V:0.000 [479:0]\r",
        "Pos:  35.3s    847f (84%) 281.77fps Trem:   0min   2mb  A-V:0.000 [479:0]\r",
        "Pos:  35.3s    848f (84%) 281.82fps Trem:   0min   2mb  A-V:0.000 [479:0]\r",
        "Pos:  35.4s    849f (84%) 281.87fps Trem:   0min   2mb  A-V:0.000 [480:0]\r",
        "Pos:  35.4s    850f (84%) 281.92fps Trem:   0min   2mb  A-V:0.000 [480:0]\r",
        "Pos:  35.5s    851f (84%) 281.97fps Trem:   0min   2mb  A-V:0.000 [480:0]\r",
        "Pos:  35.5s    852f (84%) 282.12fps Trem:   0min   2mb  A-V:0.000 [479:0]\r",
        "Pos:  35.5s    853f (84%) 282.17fps Trem:   0min   2mb  A-V:0.000 [479:0]\r",
        "Pos:  35.6s    854f (84%) 282.22fps Trem:   0min   2mb  A-V:0.000 [479:0]\r",
        "Pos:  35.6s    855f (84%) 282.27fps Trem:   0min   2mb  A-V:0.000 [479:0]\r",
        "Pos:  35.7s    856f (84%) 282.32fps Trem:   0min   2mb  A-V:0.000 [479:0]\r",
        "Pos:  35.7s    857f (85%) 282.37fps Trem:   0min   2mb  A-V:0.000 [479:0]\r",
        "Pos:  35.8s    858f (85%) 282.42fps Trem:   0min   2mb  A-V:0.000 [478:0]\r",
        "Pos:  35.8s    859f (85%) 282.57fps Trem:   0min   2mb  A-V:0.000 [478:0]\r",
        "Pos:  35.8s    860f (85%) 282.62fps Trem:   0min   2mb  A-V:0.000 [478:0]\r"
       ]
      },
      {
       "output_type": "stream",
       "stream": "stdout",
       "text": [
        "Pos:  35.9s    861f (85%) 282.67fps Trem:   0min   2mb  A-V:0.000 [478:0]\r",
        "Pos:  35.9s    862f (85%) 282.62fps Trem:   0min   2mb  A-V:0.000 [477:0]\r",
        "Pos:  36.0s    863f (85%) 282.67fps Trem:   0min   2mb  A-V:0.000 [477:0]\r",
        "Pos:  36.0s    864f (85%) 282.82fps Trem:   0min   2mb  A-V:0.000 [477:0]\r",
        "Pos:  36.0s    865f (85%) 282.86fps Trem:   0min   2mb  A-V:0.000 [476:0]\r",
        "Pos:  36.1s    866f (85%) 282.91fps Trem:   0min   2mb  A-V:0.000 [476:0]\r",
        "Pos:  36.1s    867f (85%) 282.96fps Trem:   0min   2mb  A-V:0.000 [475:0]\r",
        "Pos:  36.2s    868f (86%) 283.01fps Trem:   0min   2mb  A-V:0.000 [475:0]\r",
        "Pos:  36.2s    869f (86%) 283.15fps Trem:   0min   2mb  A-V:0.000 [475:0]\r",
        "Pos:  36.2s    870f (86%) 283.20fps Trem:   0min   2mb  A-V:0.000 [474:0]\r",
        "Pos:  36.3s    871f (86%) 283.25fps Trem:   0min   2mb  A-V:0.000 [474:0]\r",
        "Pos:  36.3s    872f (86%) 283.30fps Trem:   0min   2mb  A-V:0.000 [473:0]\r",
        "Pos:  36.4s    873f (86%) 283.35fps Trem:   0min   2mb  A-V:0.000 [473:0]\r",
        "Pos:  36.4s    874f (86%) 283.49fps Trem:   0min   2mb  A-V:0.000 [473:0]\r",
        "Pos:  36.5s    875f (86%) 283.54fps Trem:   0min   2mb  A-V:0.000 [472:0]\r",
        "Pos:  36.5s    876f (86%) 283.59fps Trem:   0min   2mb  A-V:0.000 [472:0]\r",
        "Pos:  36.5s    877f (86%) 283.64fps Trem:   0min   2mb  A-V:0.000 [472:0]\r",
        "Pos:  36.6s    878f (87%) 283.68fps Trem:   0min   2mb  A-V:0.000 [471:0]\r"
       ]
      },
      {
       "output_type": "stream",
       "stream": "stdout",
       "text": [
        "Pos:  36.6s    879f (87%) 283.73fps Trem:   0min   2mb  A-V:0.000 [471:0]\r",
        "Pos:  36.7s    880f (87%) 283.69fps Trem:   0min   2mb  A-V:0.000 [470:0]\r",
        "Pos:  36.7s    881f (87%) 283.74fps Trem:   0min   2mb  A-V:0.000 [470:0]\r",
        "Pos:  36.8s    882f (87%) 283.78fps Trem:   0min   2mb  A-V:0.000 [470:0]\r",
        "Pos:  36.8s    883f (87%) 283.92fps Trem:   0min   2mb  A-V:0.000 [469:0]\r",
        "Pos:  36.8s    884f (87%) 283.97fps Trem:   0min   2mb  A-V:0.000 [469:0]\r",
        "Pos:  36.9s    885f (87%) 284.02fps Trem:   0min   2mb  A-V:0.000 [469:0]\r",
        "Pos:  36.9s    886f (87%) 284.07fps Trem:   0min   2mb  A-V:0.000 [468:0]\r",
        "Pos:  37.0s    887f (87%) 284.11fps Trem:   0min   2mb  A-V:0.000 [468:0]\r",
        "Pos:  37.0s    888f (88%) 284.25fps Trem:   0min   2mb  A-V:0.000 [467:0]\r",
        "Pos:  37.0s    889f (88%) 284.30fps Trem:   0min   2mb  A-V:0.000 [467:0]\r",
        "Pos:  37.1s    890f (88%) 284.35fps Trem:   0min   2mb  A-V:0.000 [467:0]\r",
        "Pos:  37.1s    891f (88%) 284.39fps Trem:   0min   2mb  A-V:0.000 [466:0]\r",
        "Pos:  37.2s    892f (88%) 284.44fps Trem:   0min   2mb  A-V:0.000 [466:0]\r",
        "Pos:  37.2s    893f (88%) 284.49fps Trem:   0min   2mb  A-V:0.000 [466:0]\r",
        "Pos:  37.2s    894f (88%) 284.62fps Trem:   0min   2mb  A-V:0.000 [465:0]\r",
        "Pos:  37.3s    895f (88%) 284.67fps Trem:   0min   2mb  A-V:0.000 [465:0]\r"
       ]
      },
      {
       "output_type": "stream",
       "stream": "stdout",
       "text": [
        "Pos:  37.3s    896f (88%) 284.63fps Trem:   0min   2mb  A-V:0.000 [465:0]\r",
        "Pos:  37.4s    897f (88%) 284.67fps Trem:   0min   2mb  A-V:0.000 [464:0]\r",
        "Pos:  37.4s    898f (89%) 284.72fps Trem:   0min   2mb  A-V:0.000 [464:0]\r",
        "Pos:  37.5s    899f (89%) 284.76fps Trem:   0min   2mb  A-V:0.000 [463:0]\r",
        "Pos:  37.5s    900f (89%) 284.90fps Trem:   0min   2mb  A-V:0.000 [463:0]\r",
        "Pos:  37.5s    901f (89%) 284.95fps Trem:   0min   2mb  A-V:0.000 [463:0]\r",
        "Pos:  37.6s    902f (89%) 284.99fps Trem:   0min   2mb  A-V:0.000 [462:0]\r",
        "Pos:  37.6s    903f (89%) 285.04fps Trem:   0min   2mb  A-V:0.000 [462:0]\r",
        "Pos:  37.7s    904f (89%) 285.08fps Trem:   0min   2mb  A-V:0.000 [462:0]\r",
        "Pos:  37.7s    905f (89%) 285.22fps Trem:   0min   2mb  A-V:0.000 [461:0]\r",
        "Pos:  37.8s    906f (89%) 285.26fps Trem:   0min   2mb  A-V:0.000 [461:0]\r",
        "Pos:  37.8s    907f (89%) 285.31fps Trem:   0min   2mb  A-V:0.000 [461:0]\r",
        "Pos:  37.8s    908f (90%) 285.36fps Trem:   0min   2mb  A-V:0.000 [460:0]\r",
        "Pos:  37.9s    909f (90%) 285.40fps Trem:   0min   2mb  A-V:0.000 [460:0]\r",
        "Pos:  37.9s    910f (90%) 285.53fps Trem:   0min   2mb  A-V:0.000 [460:0]\r",
        "Pos:  38.0s    911f (90%) 285.58fps Trem:   0min   2mb  A-V:0.000 [459:0]\r",
        "Pos:  38.0s    912f (90%) 285.62fps Trem:   0min   2mb  A-V:0.000 [459:0]\r",
        "Pos:  38.0s    913f (90%) 285.67fps Trem:   0min   2mb  A-V:0.000 [459:0]\r"
       ]
      },
      {
       "output_type": "stream",
       "stream": "stdout",
       "text": [
        "Pos:  38.1s    914f (90%) 285.71fps Trem:   0min   2mb  A-V:0.000 [458:0]\r",
        "Pos:  38.1s    915f (90%) 285.76fps Trem:   0min   2mb  A-V:0.000 [458:0]\r",
        "Pos:  38.2s    916f (90%) 285.80fps Trem:   0min   2mb  A-V:0.000 [458:0]\r",
        "Pos:  38.2s    917f (90%) 285.85fps Trem:   0min   2mb  A-V:0.000 [457:0]\r",
        "Pos:  38.2s    918f (91%) 285.89fps Trem:   0min   2mb  A-V:0.000 [457:0]\r",
        "Pos:  38.3s    919f (91%) 286.03fps Trem:   0min   2mb  A-V:0.000 [456:0]\r",
        "Pos:  38.3s    920f (91%) 286.07fps Trem:   0min   2mb  A-V:0.000 [456:0]\r",
        "Pos:  38.4s    921f (91%) 286.11fps Trem:   0min   2mb  A-V:0.000 [456:0]\r",
        "Pos:  38.4s    922f (91%) 286.16fps Trem:   0min   2mb  A-V:0.000 [455:0]\r",
        "Pos:  38.5s    923f (91%) 286.20fps Trem:   0min   2mb  A-V:0.000 [455:0]\r",
        "Pos:  38.5s    924f (91%) 286.25fps Trem:   0min   2mb  A-V:0.000 [455:0]\r",
        "Pos:  38.5s    925f (91%) 286.29fps Trem:   0min   2mb  A-V:0.000 [454:0]\r",
        "Pos:  38.6s    926f (91%) 286.42fps Trem:   0min   2mb  A-V:0.000 [454:0]\r",
        "Pos:  38.6s    927f (91%) 286.46fps Trem:   0min   2mb  A-V:0.000 [454:0]\r",
        "Pos:  38.7s    928f (92%) 286.51fps Trem:   0min   2mb  A-V:0.000 [453:0]\r",
        "Pos:  38.7s    929f (92%) 286.64fps Trem:   0min   2mb  A-V:0.000 [453:0]\r",
        "Pos:  38.8s    930f (92%) 286.68fps Trem:   0min   2mb  A-V:0.000 [453:0]\r",
        "Pos:  38.8s    931f (92%) 286.73fps Trem:   0min   2mb  A-V:0.000 [452:0]\r"
       ]
      },
      {
       "output_type": "stream",
       "stream": "stdout",
       "text": [
        "Pos:  38.8s    932f (92%) 286.77fps Trem:   0min   2mb  A-V:0.000 [452:0]\r",
        "Pos:  38.9s    933f (92%) 286.81fps Trem:   0min   2mb  A-V:0.000 [451:0]\r",
        "Pos:  38.9s    934f (92%) 286.86fps Trem:   0min   2mb  A-V:0.000 [451:0]\r",
        "Pos:  39.0s    935f (92%) 286.99fps Trem:   0min   2mb  A-V:0.000 [451:0]\r",
        "Pos:  39.0s    936f (92%) 287.03fps Trem:   0min   2mb  A-V:0.000 [450:0]\r",
        "Pos:  39.0s    937f (92%) 287.16fps Trem:   0min   2mb  A-V:0.000 [450:0]\r",
        "Pos:  39.1s    938f (93%) 287.20fps Trem:   0min   2mb  A-V:0.000 [450:0]\r",
        "Pos:  39.1s    939f (93%) 287.24fps Trem:   0min   2mb  A-V:0.000 [449:0]\r",
        "Pos:  39.2s    940f (93%) 287.37fps Trem:   0min   2mb  A-V:0.000 [449:0]\r",
        "Pos:  39.2s    941f (93%) 287.42fps Trem:   0min   2mb  A-V:0.000 [449:0]\r",
        "Pos:  39.2s    942f (93%) 287.46fps Trem:   0min   2mb  A-V:0.000 [448:0]\r",
        "Pos:  39.3s    943f (93%) 287.59fps Trem:   0min   2mb  A-V:0.000 [448:0]\r",
        "Pos:  39.3s    944f (93%) 287.63fps Trem:   0min   2mb  A-V:0.000 [447:0]\r",
        "Pos:  39.4s    945f (93%) 287.76fps Trem:   0min   2mb  A-V:0.000 [447:0]\r",
        "Pos:  39.4s    946f (93%) 287.80fps Trem:   0min   2mb  A-V:0.000 [447:0]\r",
        "Pos:  39.5s    947f (93%) 287.84fps Trem:   0min   2mb  A-V:0.000 [446:0]\r",
        "Pos:  39.5s    948f (94%) 287.97fps Trem:   0min   2mb  A-V:0.000 [446:0]\r",
        "Pos:  39.5s    949f (94%) 288.01fps Trem:   0min   2mb  A-V:0.000 [446:0]\r",
        "Pos:  39.6s    950f (94%) 288.05fps Trem:   0min   2mb  A-V:0.000 [445:0]\r"
       ]
      },
      {
       "output_type": "stream",
       "stream": "stdout",
       "text": [
        "Pos:  39.6s    951f (94%) 287.92fps Trem:   0min   2mb  A-V:0.000 [445:0]\r",
        "Pos:  39.7s    952f (94%) 287.96fps Trem:   0min   2mb  A-V:0.000 [445:0]\r",
        "Pos:  39.7s    953f (94%) 288.00fps Trem:   0min   2mb  A-V:0.000 [444:0]\r",
        "Pos:  39.8s    954f (94%) 288.13fps Trem:   0min   2mb  A-V:0.000 [444:0]\r",
        "Pos:  39.8s    955f (94%) 288.17fps Trem:   0min   2mb  A-V:0.000 [443:0]\r",
        "Pos:  39.8s    956f (94%) 288.30fps Trem:   0min   2mb  A-V:0.000 [443:0]\r",
        "Pos:  39.9s    957f (94%) 288.34fps Trem:   0min   2mb  A-V:0.000 [443:0]\r",
        "Pos:  39.9s    958f (95%) 288.38fps Trem:   0min   2mb  A-V:0.000 [442:0]\r",
        "Pos:  40.0s    959f (95%) 288.51fps Trem:   0min   2mb  A-V:0.000 [442:0]\r",
        "Pos:  40.0s    960f (95%) 288.55fps Trem:   0min   2mb  A-V:0.000 [442:0]\r",
        "Pos:  40.0s    961f (95%) 288.68fps Trem:   0min   2mb  A-V:0.000 [441:0]\r",
        "Pos:  40.1s    962f (95%) 288.72fps Trem:   0min   2mb  A-V:0.000 [441:0]\r",
        "Pos:  40.1s    963f (95%) 288.76fps Trem:   0min   2mb  A-V:0.000 [441:0]\r",
        "Pos:  40.2s    964f (95%) 288.88fps Trem:   0min   2mb  A-V:0.000 [440:0]\r",
        "Pos:  40.2s    965f (95%) 288.92fps Trem:   0min   2mb  A-V:0.000 [440:0]\r",
        "Pos:  40.2s    966f (95%) 289.05fps Trem:   0min   2mb  A-V:0.000 [440:0]\r",
        "Pos:  40.3s    967f (95%) 289.09fps Trem:   0min   2mb  A-V:0.000 [439:0]\r",
        "Pos:  40.3s    968f (96%) 289.13fps Trem:   0min   2mb  A-V:0.000 [439:0]\r"
       ]
      },
      {
       "output_type": "stream",
       "stream": "stdout",
       "text": [
        "Pos:  40.4s    969f (96%) 289.17fps Trem:   0min   2mb  A-V:0.000 [439:0]\r",
        "Pos:  40.4s    970f (96%) 289.21fps Trem:   0min   2mb  A-V:0.000 [438:0]\r",
        "Pos:  40.5s    971f (96%) 289.33fps Trem:   0min   2mb  A-V:0.000 [438:0]\r",
        "Pos:  40.5s    972f (96%) 289.37fps Trem:   0min   2mb  A-V:0.000 [437:0]\r",
        "Pos:  40.5s    973f (96%) 289.41fps Trem:   0min   2mb  A-V:0.000 [437:0]\r",
        "Pos:  40.6s    974f (96%) 289.54fps Trem:   0min   2mb  A-V:0.000 [437:0]\r",
        "Pos:  40.6s    975f (96%) 289.58fps Trem:   0min   2mb  A-V:0.000 [436:0]\r",
        "Pos:  40.7s    976f (96%) 289.70fps Trem:   0min   2mb  A-V:0.000 [436:0]\r",
        "Pos:  40.7s    977f (96%) 289.74fps Trem:   0min   2mb  A-V:0.000 [436:0]\r",
        "Pos:  40.8s    978f (97%) 289.86fps Trem:   0min   2mb  A-V:0.000 [435:0]\r",
        "Pos:  40.8s    979f (97%) 289.90fps Trem:   0min   2mb  A-V:0.000 [435:0]\r",
        "Pos:  40.8s    980f (97%) 289.94fps Trem:   0min   2mb  A-V:0.000 [435:0]\r",
        "Pos:  40.9s    981f (97%) 290.07fps Trem:   0min   2mb  A-V:0.000 [434:0]\r",
        "Pos:  40.9s    982f (97%) 290.10fps Trem:   0min   2mb  A-V:0.000 [434:0]\r",
        "Pos:  41.0s    983f (97%) 290.14fps Trem:   0min   2mb  A-V:0.000 [434:0]\r",
        "Pos:  41.0s    984f (97%) 290.27fps Trem:   0min   2mb  A-V:0.000 [433:0]\r",
        "Pos:  41.0s    985f (97%) 290.30fps Trem:   0min   2mb  A-V:0.000 [433:0]\r",
        "Pos:  41.1s    986f (97%) 290.34fps Trem:   0min   2mb  A-V:0.000 [433:0]\r",
        "Pos:  41.1s    987f (97%) 290.46fps Trem:   0min   2mb  A-V:0.000 [432:0]\r"
       ]
      },
      {
       "output_type": "stream",
       "stream": "stdout",
       "text": [
        "Pos:  41.2s    988f (98%) 290.50fps Trem:   0min   2mb  A-V:0.000 [432:0]\r",
        "Pos:  41.2s    989f (98%) 290.54fps Trem:   0min   2mb  A-V:0.000 [432:0]\r",
        "Pos:  41.2s    990f (98%) 290.58fps Trem:   0min   2mb  A-V:0.000 [431:0]\r",
        "Pos:  41.3s    991f (98%) 290.70fps Trem:   0min   2mb  A-V:0.000 [431:0]\r",
        "Pos:  41.3s    992f (98%) 290.74fps Trem:   0min   2mb  A-V:0.000 [431:0]\r",
        "Pos:  41.4s    993f (98%) 290.86fps Trem:   0min   2mb  A-V:0.000 [431:0]\r",
        "Pos:  41.4s    994f (98%) 290.90fps Trem:   0min   2mb  A-V:0.000 [430:0]\r",
        "Pos:  41.5s    995f (98%) 290.94fps Trem:   0min   2mb  A-V:0.000 [430:0]\r",
        "Pos:  41.5s    996f (98%) 291.06fps Trem:   0min   2mb  A-V:0.000 [430:0]\r",
        "Pos:  41.5s    997f (98%) 291.09fps Trem:   0min   2mb  A-V:0.000 [429:0]\r",
        "Pos:  41.6s    998f (99%) 291.22fps Trem:   0min   2mb  A-V:0.000 [429:0]\r",
        "Pos:  41.6s    999f (99%) 291.25fps Trem:   0min   2mb  A-V:0.000 [429:0]\r",
        "Pos:  41.7s   1000f (99%) 291.29fps Trem:   0min   2mb  A-V:0.000 [428:0]\r",
        "Pos:  41.7s   1001f (99%) 291.41fps Trem:   0min   2mb  A-V:0.000 [430:0]\r",
        "Pos:  41.8s   1002f (99%) 291.45fps Trem:   0min   2mb  A-V:0.000 [429:0]\r",
        "Pos:  41.8s   1003f (99%) 291.49fps Trem:   0min   2mb  A-V:0.000 [429:0]\r",
        "Pos:  41.8s   1004f (99%) 291.61fps Trem:   0min   2mb  A-V:0.000 [429:0]\r",
        "Pos:  41.9s   1005f (99%) 291.64fps Trem:   0min   2mb  A-V:0.000 [428:0]\r",
        "Pos:  41.9s   1006f (99%) 291.76fps Trem:   0min   2mb  A-V:0.000 [428:0]\r"
       ]
      },
      {
       "output_type": "stream",
       "stream": "stdout",
       "text": [
        "Pos:  42.0s   1007f (99%) 291.80fps Trem:   0min   2mb  A-V:0.000 [428:0]\r",
        "Pos:  42.0s   1008f (100%) 291.84fps Trem:   0min   2mb  A-V:0.000 [428:0]\r",
        "\r\n",
        "\r\n",
        "Flushing video frames.\r\n",
        "Writing index...\r\n",
        "Writing header...\r\n",
        "ODML: Aspect information not (yet?) available or unspecified, not writing vprp header.\r\n",
        "\r\n",
        "Video stream:  428.022 kbit/s  (53502 B/s)  size: 2247118 bytes  42.000 secs  1008 frames\r\n"
       ]
      }
     ],
     "prompt_number": 23
    },
    {
     "cell_type": "code",
     "collapsed": false,
     "input": [
      "!rm iter*.png"
     ],
     "language": "python",
     "metadata": {},
     "outputs": [],
     "prompt_number": 18
    },
    {
     "cell_type": "code",
     "collapsed": false,
     "input": [],
     "language": "python",
     "metadata": {},
     "outputs": []
    }
   ],
   "metadata": {}
  }
 ]
}